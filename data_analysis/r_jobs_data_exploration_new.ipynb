{
 "metadata": {
  "language_info": {
   "codemirror_mode": {
    "name": "ipython",
    "version": 3
   },
   "file_extension": ".py",
   "mimetype": "text/x-python",
   "name": "python",
   "nbconvert_exporter": "python",
   "pygments_lexer": "ipython3",
   "version": "3.8.3-final"
  },
  "orig_nbformat": 2,
  "kernelspec": {
   "name": "python3",
   "display_name": "Python 3",
   "language": "python"
  }
 },
 "nbformat": 4,
 "nbformat_minor": 2,
 "cells": [
  {
   "source": [
    "# R/Jobs Data Exploration\n",
    "\n",
    "This notebook contains my data exploration for the subreddit [r/Jobs](https://www.reddit.com/r/jobs/), a popular job search help forum on Reddit. \n",
    "\n",
    "I want to see if I can find any change in patterns after March 2020. What kind of posts trended after the start of Coronavirus pandemic lockdown in the US?\n",
    "\n",
    "### Preliminary Questions:\n",
    "\n",
    "1. What is the average number of comments (posts with a higher amount of comments have more user engagement). Median number of commnets? Median score?\n",
    "2. Are most posts (ranked top 1000 of all time) created before or after March 2020?\n",
    "3. What is the post with the highest number of comments? (most engagement)?\n",
    "4. if we subset the data frame by month, what is the top comment for each month? what is its score? which is the one with the highest amount of user engagement?\n",
    "5. \n",
    "\n"
   ],
   "cell_type": "markdown",
   "metadata": {}
  },
  {
   "cell_type": "code",
   "execution_count": 3,
   "metadata": {},
   "outputs": [],
   "source": [
    "import pandas as pd\n",
    "import matplotlib\n",
    "import matplotlib.pyplot as plt\n",
    "import numpy as np"
   ]
  },
  {
   "cell_type": "code",
   "execution_count": 27,
   "metadata": {},
   "outputs": [
    {
     "output_type": "execute_result",
     "data": {
      "text/plain": [
       "   Unnamed: 0                                              title  score  \\\n",
       "0           0  So real talk. Why are so may $30k to $40k per ...  12259   \n",
       "1           1  I'm an ex-recruiter for some of the top compan...   7259   \n",
       "2           2                          A Warning About Glassdoor   5697   \n",
       "3           3  America is not lacking in skilled employees, A...   4110   \n",
       "4           4  UPDATE 3: I have slipped through the cracks at...   3571   \n",
       "\n",
       "       id subreddit                                                url  \\\n",
       "0  9u3fww      jobs  https://www.reddit.com/r/jobs/comments/9u3fww/...   \n",
       "1  7y8k6p      jobs  https://www.reddit.com/r/jobs/comments/7y8k6p/...   \n",
       "2  jbod57      jobs  https://www.reddit.com/r/jobs/comments/jbod57/...   \n",
       "3  jo6lc7      jobs  https://www.reddit.com/r/jobs/comments/jo6lc7/...   \n",
       "4  3jjs1n      jobs  https://www.reddit.com/r/jobs/comments/3jjs1n/...   \n",
       "\n",
       "   num_comments                                               body  \\\n",
       "0          3975  It just seems odd that when I go on job boards...   \n",
       "1           688  **April 5, 2020 edit:** I've been getting more...   \n",
       "2           470  **EDIT**: A little info from Glassdoor that I ...   \n",
       "3           475  If every entry level job requires a year exper...   \n",
       "4          1263  Link to my original post: https://www.reddit.c...   \n",
       "\n",
       "        created         date_created  \n",
       "0  1.541368e+09  2018-11-04 16:48:13  \n",
       "1  1.518923e+09  2018-02-17 21:57:42  \n",
       "2  1.602800e+09  2020-10-15 18:16:35  \n",
       "3  1.604558e+09  2020-11-05 01:35:38  \n",
       "4  1.441350e+09  2015-09-04 03:03:16  "
      ],
      "text/html": "<div>\n<style scoped>\n    .dataframe tbody tr th:only-of-type {\n        vertical-align: middle;\n    }\n\n    .dataframe tbody tr th {\n        vertical-align: top;\n    }\n\n    .dataframe thead th {\n        text-align: right;\n    }\n</style>\n<table border=\"1\" class=\"dataframe\">\n  <thead>\n    <tr style=\"text-align: right;\">\n      <th></th>\n      <th>Unnamed: 0</th>\n      <th>title</th>\n      <th>score</th>\n      <th>id</th>\n      <th>subreddit</th>\n      <th>url</th>\n      <th>num_comments</th>\n      <th>body</th>\n      <th>created</th>\n      <th>date_created</th>\n    </tr>\n  </thead>\n  <tbody>\n    <tr>\n      <th>0</th>\n      <td>0</td>\n      <td>So real talk. Why are so may $30k to $40k per ...</td>\n      <td>12259</td>\n      <td>9u3fww</td>\n      <td>jobs</td>\n      <td>https://www.reddit.com/r/jobs/comments/9u3fww/...</td>\n      <td>3975</td>\n      <td>It just seems odd that when I go on job boards...</td>\n      <td>1.541368e+09</td>\n      <td>2018-11-04 16:48:13</td>\n    </tr>\n    <tr>\n      <th>1</th>\n      <td>1</td>\n      <td>I'm an ex-recruiter for some of the top compan...</td>\n      <td>7259</td>\n      <td>7y8k6p</td>\n      <td>jobs</td>\n      <td>https://www.reddit.com/r/jobs/comments/7y8k6p/...</td>\n      <td>688</td>\n      <td>**April 5, 2020 edit:** I've been getting more...</td>\n      <td>1.518923e+09</td>\n      <td>2018-02-17 21:57:42</td>\n    </tr>\n    <tr>\n      <th>2</th>\n      <td>2</td>\n      <td>A Warning About Glassdoor</td>\n      <td>5697</td>\n      <td>jbod57</td>\n      <td>jobs</td>\n      <td>https://www.reddit.com/r/jobs/comments/jbod57/...</td>\n      <td>470</td>\n      <td>**EDIT**: A little info from Glassdoor that I ...</td>\n      <td>1.602800e+09</td>\n      <td>2020-10-15 18:16:35</td>\n    </tr>\n    <tr>\n      <th>3</th>\n      <td>3</td>\n      <td>America is not lacking in skilled employees, A...</td>\n      <td>4110</td>\n      <td>jo6lc7</td>\n      <td>jobs</td>\n      <td>https://www.reddit.com/r/jobs/comments/jo6lc7/...</td>\n      <td>475</td>\n      <td>If every entry level job requires a year exper...</td>\n      <td>1.604558e+09</td>\n      <td>2020-11-05 01:35:38</td>\n    </tr>\n    <tr>\n      <th>4</th>\n      <td>4</td>\n      <td>UPDATE 3: I have slipped through the cracks at...</td>\n      <td>3571</td>\n      <td>3jjs1n</td>\n      <td>jobs</td>\n      <td>https://www.reddit.com/r/jobs/comments/3jjs1n/...</td>\n      <td>1263</td>\n      <td>Link to my original post: https://www.reddit.c...</td>\n      <td>1.441350e+09</td>\n      <td>2015-09-04 03:03:16</td>\n    </tr>\n  </tbody>\n</table>\n</div>"
     },
     "metadata": {},
     "execution_count": 27
    }
   ],
   "source": [
    "df = pd.read_csv('../data/raw/posts_jobs.csv')\n",
    "# that's how you do it:) (navigating up i mean)\n",
    "\n",
    "\n",
    "df.shape\n",
    "df.columns\n",
    "df.head()"
   ]
  },
  {
   "cell_type": "code",
   "execution_count": 28,
   "metadata": {},
   "outputs": [
    {
     "output_type": "execute_result",
     "data": {
      "text/plain": [
       "Index(['index', 'title', 'score', 'id', 'subreddit', 'url', 'num_comments',\n",
       "       'body', 'created', 'date_created'],\n",
       "      dtype='object')"
      ]
     },
     "metadata": {},
     "execution_count": 28
    }
   ],
   "source": [
    "# let's rename these columns\n",
    "\n",
    "df = df.rename(columns={'Unnamed: 0':'index'})\n",
    "\n",
    "df.columns\n",
    "\n"
   ]
  },
  {
   "source": [
    "After some analysis, we find this data fram has :\n",
    "\n",
    "- 1000 observations by 9 variables (10 if you count the pandas dataframe index).\n",
    "- These variables are:\n",
    "    - Post Title\n",
    "    - Post Score in Upvotes / Downvotes\n",
    "    - Post ID \n",
    "    - Subreddit Name \n",
    "    - Direct Url Link to Post \n",
    "    - Created in seconds (Computer Time)\n",
    "    - Date Created (obtained from Computer Time)\n",
    "\n",
    "### Next Steps \n",
    "I now want to\n",
    "\n",
    "- [x] Find the median post score. \n",
    "- [x] Find the median number of comments \n",
    "- [x] Find the average number of comments \n",
    "- [x] Create month index column\n",
    "- [ ] Subset data frame by month\n",
    "- [ ] Find the most commented post from each month.\n",
    "- [ ] Find the most upvoted post from each month. Compare to most commented. \n",
    "- [ ] The highest commented AND highest upvoted post of all time\n",
    "- [ ] \n",
    "\n",
    "\n",
    "### Why do I want these Statistics?\n",
    "\n",
    "1. The median of a sample is less susepctible to outliers than the mean is, so it is better to use as something to compare scores with, but I also still want to see that mean!\n",
    "2. I wannt to see how the top post by month changed during the progression of the Coronavirus Lockdown Period. \n",
    "3. More posts implies a higher level of user engagement, even if it is a very rough measurement of engagement. I wasnt to see which posts were most engaging. \n",
    "4. However, more upvotes implies more people \"agree\" with the sentiment the poster has. \n",
    "    \n",
    "\n"
   ],
   "cell_type": "markdown",
   "metadata": {}
  },
  {
   "cell_type": "code",
   "execution_count": 29,
   "metadata": {},
   "outputs": [
    {
     "output_type": "execute_result",
     "data": {
      "text/plain": [
       "             index         score  num_comments       created\n",
       "count  1000.000000   1000.000000   1000.000000  1.000000e+03\n",
       "mean    499.500000    554.327000    132.909000  1.553596e+09\n",
       "std     288.819436    584.268464    179.286476  5.541605e+07\n",
       "min       0.000000    253.000000      1.000000  1.311579e+09\n",
       "25%     249.750000    317.500000     66.000000  1.538492e+09\n",
       "50%     499.500000    407.500000    100.000000  1.565390e+09\n",
       "75%     749.250000    615.250000    155.500000  1.594598e+09\n",
       "max     999.000000  12259.000000   3975.000000  1.608679e+09"
      ],
      "text/html": "<div>\n<style scoped>\n    .dataframe tbody tr th:only-of-type {\n        vertical-align: middle;\n    }\n\n    .dataframe tbody tr th {\n        vertical-align: top;\n    }\n\n    .dataframe thead th {\n        text-align: right;\n    }\n</style>\n<table border=\"1\" class=\"dataframe\">\n  <thead>\n    <tr style=\"text-align: right;\">\n      <th></th>\n      <th>index</th>\n      <th>score</th>\n      <th>num_comments</th>\n      <th>created</th>\n    </tr>\n  </thead>\n  <tbody>\n    <tr>\n      <th>count</th>\n      <td>1000.000000</td>\n      <td>1000.000000</td>\n      <td>1000.000000</td>\n      <td>1.000000e+03</td>\n    </tr>\n    <tr>\n      <th>mean</th>\n      <td>499.500000</td>\n      <td>554.327000</td>\n      <td>132.909000</td>\n      <td>1.553596e+09</td>\n    </tr>\n    <tr>\n      <th>std</th>\n      <td>288.819436</td>\n      <td>584.268464</td>\n      <td>179.286476</td>\n      <td>5.541605e+07</td>\n    </tr>\n    <tr>\n      <th>min</th>\n      <td>0.000000</td>\n      <td>253.000000</td>\n      <td>1.000000</td>\n      <td>1.311579e+09</td>\n    </tr>\n    <tr>\n      <th>25%</th>\n      <td>249.750000</td>\n      <td>317.500000</td>\n      <td>66.000000</td>\n      <td>1.538492e+09</td>\n    </tr>\n    <tr>\n      <th>50%</th>\n      <td>499.500000</td>\n      <td>407.500000</td>\n      <td>100.000000</td>\n      <td>1.565390e+09</td>\n    </tr>\n    <tr>\n      <th>75%</th>\n      <td>749.250000</td>\n      <td>615.250000</td>\n      <td>155.500000</td>\n      <td>1.594598e+09</td>\n    </tr>\n    <tr>\n      <th>max</th>\n      <td>999.000000</td>\n      <td>12259.000000</td>\n      <td>3975.000000</td>\n      <td>1.608679e+09</td>\n    </tr>\n  </tbody>\n</table>\n</div>"
     },
     "metadata": {},
     "execution_count": 29
    }
   ],
   "source": [
    "# median of entire data frame\n",
    "# there are no missing values here\n",
    "\n",
    "df.describe()\n",
    "\n",
    "\n",
    "# I see why they use millisecond time, to make it easier to parse, hahaha. \n",
    "# to get the dates i will have to get creative and make a new column for month it was posted in. maybe date_created.contains??\n",
    "\n",
    "\n",
    "# Average score: 554.327000 points. \n",
    "# Average number of comments : 132.909000\n",
    "# Average post_date (whatever that means right now): Tuesday, March 26, 2019 10:26:40 AM EST (also known as 1.553596e+09) in epoch time. interesting...... the average is after the arrival of COVID 19 to America"
   ]
  },
  {
   "cell_type": "code",
   "execution_count": 30,
   "metadata": {},
   "outputs": [
    {
     "output_type": "stream",
     "name": "stdout",
     "text": [
      "407.5\n100.0\n1565390461.5\n"
     ]
    }
   ],
   "source": [
    "# get some medians now\n",
    "\n",
    "print(df['score'].median())\n",
    "print(df['num_comments'].median())\n",
    "print(df['created'].median())\n",
    "\n",
    "\n",
    "# Median Report:\n",
    "# median Score: 407.5\n",
    "# median number of comments - 100.0\n",
    "# Median date created/ posted: Friday, August 9, 2019 10:41:01.500 PM (a bit higher than the average date, does this mean top posts skew to before the pandemic?)\n",
    "# interestingly. for this subreddit, we have the media (less susceptible to outlier) posts coming from almost a year before, august 2019!!! vs the career guidance one. this could be from subreddit creation but also interesting "
   ]
  },
  {
   "cell_type": "code",
   "execution_count": 31,
   "metadata": {
    "tags": []
   },
   "outputs": [
    {
     "output_type": "execute_result",
     "data": {
      "text/plain": [
       "   index                                              title  score      id  \\\n",
       "0      0  So real talk. Why are so may $30k to $40k per ...  12259  9u3fww   \n",
       "1      1  I'm an ex-recruiter for some of the top compan...   7259  7y8k6p   \n",
       "2      2                          A Warning About Glassdoor   5697  jbod57   \n",
       "3      3  America is not lacking in skilled employees, A...   4110  jo6lc7   \n",
       "4      4  UPDATE 3: I have slipped through the cracks at...   3571  3jjs1n   \n",
       "\n",
       "  subreddit                                                url  num_comments  \\\n",
       "0      jobs  https://www.reddit.com/r/jobs/comments/9u3fww/...          3975   \n",
       "1      jobs  https://www.reddit.com/r/jobs/comments/7y8k6p/...           688   \n",
       "2      jobs  https://www.reddit.com/r/jobs/comments/jbod57/...           470   \n",
       "3      jobs  https://www.reddit.com/r/jobs/comments/jo6lc7/...           475   \n",
       "4      jobs  https://www.reddit.com/r/jobs/comments/3jjs1n/...          1263   \n",
       "\n",
       "                                                body       created  \\\n",
       "0  It just seems odd that when I go on job boards...  1.541368e+09   \n",
       "1  **April 5, 2020 edit:** I've been getting more...  1.518923e+09   \n",
       "2  **EDIT**: A little info from Glassdoor that I ...  1.602800e+09   \n",
       "3  If every entry level job requires a year exper...  1.604558e+09   \n",
       "4  Link to my original post: https://www.reddit.c...  1.441350e+09   \n",
       "\n",
       "          date_created                month  \n",
       "0  2018-11-04 16:48:13  2018-11-04 16:48:13  \n",
       "1  2018-02-17 21:57:42  2018-02-17 21:57:42  \n",
       "2  2020-10-15 18:16:35              October  \n",
       "3  2020-11-05 01:35:38             November  \n",
       "4  2015-09-04 03:03:16  2015-09-04 03:03:16  "
      ],
      "text/html": "<div>\n<style scoped>\n    .dataframe tbody tr th:only-of-type {\n        vertical-align: middle;\n    }\n\n    .dataframe tbody tr th {\n        vertical-align: top;\n    }\n\n    .dataframe thead th {\n        text-align: right;\n    }\n</style>\n<table border=\"1\" class=\"dataframe\">\n  <thead>\n    <tr style=\"text-align: right;\">\n      <th></th>\n      <th>index</th>\n      <th>title</th>\n      <th>score</th>\n      <th>id</th>\n      <th>subreddit</th>\n      <th>url</th>\n      <th>num_comments</th>\n      <th>body</th>\n      <th>created</th>\n      <th>date_created</th>\n      <th>month</th>\n    </tr>\n  </thead>\n  <tbody>\n    <tr>\n      <th>0</th>\n      <td>0</td>\n      <td>So real talk. Why are so may $30k to $40k per ...</td>\n      <td>12259</td>\n      <td>9u3fww</td>\n      <td>jobs</td>\n      <td>https://www.reddit.com/r/jobs/comments/9u3fww/...</td>\n      <td>3975</td>\n      <td>It just seems odd that when I go on job boards...</td>\n      <td>1.541368e+09</td>\n      <td>2018-11-04 16:48:13</td>\n      <td>2018-11-04 16:48:13</td>\n    </tr>\n    <tr>\n      <th>1</th>\n      <td>1</td>\n      <td>I'm an ex-recruiter for some of the top compan...</td>\n      <td>7259</td>\n      <td>7y8k6p</td>\n      <td>jobs</td>\n      <td>https://www.reddit.com/r/jobs/comments/7y8k6p/...</td>\n      <td>688</td>\n      <td>**April 5, 2020 edit:** I've been getting more...</td>\n      <td>1.518923e+09</td>\n      <td>2018-02-17 21:57:42</td>\n      <td>2018-02-17 21:57:42</td>\n    </tr>\n    <tr>\n      <th>2</th>\n      <td>2</td>\n      <td>A Warning About Glassdoor</td>\n      <td>5697</td>\n      <td>jbod57</td>\n      <td>jobs</td>\n      <td>https://www.reddit.com/r/jobs/comments/jbod57/...</td>\n      <td>470</td>\n      <td>**EDIT**: A little info from Glassdoor that I ...</td>\n      <td>1.602800e+09</td>\n      <td>2020-10-15 18:16:35</td>\n      <td>October</td>\n    </tr>\n    <tr>\n      <th>3</th>\n      <td>3</td>\n      <td>America is not lacking in skilled employees, A...</td>\n      <td>4110</td>\n      <td>jo6lc7</td>\n      <td>jobs</td>\n      <td>https://www.reddit.com/r/jobs/comments/jo6lc7/...</td>\n      <td>475</td>\n      <td>If every entry level job requires a year exper...</td>\n      <td>1.604558e+09</td>\n      <td>2020-11-05 01:35:38</td>\n      <td>November</td>\n    </tr>\n    <tr>\n      <th>4</th>\n      <td>4</td>\n      <td>UPDATE 3: I have slipped through the cracks at...</td>\n      <td>3571</td>\n      <td>3jjs1n</td>\n      <td>jobs</td>\n      <td>https://www.reddit.com/r/jobs/comments/3jjs1n/...</td>\n      <td>1263</td>\n      <td>Link to my original post: https://www.reddit.c...</td>\n      <td>1.441350e+09</td>\n      <td>2015-09-04 03:03:16</td>\n      <td>2015-09-04 03:03:16</td>\n    </tr>\n  </tbody>\n</table>\n</div>"
     },
     "metadata": {},
     "execution_count": 31
    }
   ],
   "source": [
    "# Now we subset by month by creating a new column called....\"month\", haha. \n",
    "\n",
    "df['month'] = df['date_created'] # initialize\n",
    "\n",
    "df.columns[0]\n",
    "df.columns[0] # this only returns a string haha\n",
    "\n",
    "type(df['date_created'][2])\n",
    "iter = 0\n",
    "\n",
    "for x in df['date_created']:\n",
    "    #print(iter)\n",
    "    #print(df['date_created'][iter])\n",
    "\n",
    "    # actual logic here\n",
    "    if '2020-03' in x:\n",
    "        #print(df['month'][iter]) #check\n",
    "        df['month'][iter] = 'March'\n",
    "        #print(df['month'][iter])\n",
    "    if '2020-04' in x:\n",
    "        #print(df['month'][iter]) #check\n",
    "        df['month'][iter] = 'April'\n",
    "        #print(df['month'][iter])\n",
    "    if '2020-05' in x:\n",
    "        #print(df['month'][iter]) #check\n",
    "        df['month'][iter] = 'May'\n",
    "        #print(df['month'][iter])\n",
    "    if '2020-06' in x:\n",
    "        #print(df['month'][iter]) #check\n",
    "        df['month'][iter] = 'June'\n",
    "        #print(df['month'][iter])\n",
    "    if '2020-07' in x:\n",
    "        #print(df['month'][iter]) #check\n",
    "        df['month'][iter] = 'July'\n",
    "        #print(df['month'][iter])\n",
    "    if '2020-08' in x:\n",
    "        #print(df['month'][iter]) #check\n",
    "        df['month'][iter] = 'August'\n",
    "        #print(df['month'][iter])\n",
    "    if '2020-09' in x:\n",
    "        #print(df['month'][iter]) #check\n",
    "        df['month'][iter] = 'September'\n",
    "        #print(df['month'][iter])\n",
    "    if '2020-10' in x:\n",
    "        #print(df['month'][iter]) #check\n",
    "        df['month'][iter] = 'October'\n",
    "        #print(df['month'][iter])\n",
    "    if '2020-11' in x:\n",
    "        #print(df['month'][iter]) #check\n",
    "        df['month'][iter] = 'November'\n",
    "        #print(df['month'][iter])\n",
    "    if '2020-12' in x:\n",
    "        #print(df['month'][iter]) #check\n",
    "        df['month'][iter] = 'December'\n",
    "        #print(df['month'][iter])\n",
    "    iter+=1\n",
    "\n",
    "\n",
    "df.head()\n",
    "\n"
   ]
  },
  {
   "cell_type": "code",
   "execution_count": 32,
   "metadata": {},
   "outputs": [],
   "source": [
    " # was testing out logic here\n",
    " #print('2020-05' in df['date_created'][2])\n",
    "\n",
    " #print(df['date_created'][2])"
   ]
  },
  {
   "source": [
    "## March Analysis for r/Jobs\n",
    "\n",
    "| Statistic   | March Posts | --Top 1000 Form Posts of All Time--\n",
    "| ----------- | ----------- | ----------- |\n",
    "| Number of Posts  | 17       | 1000 |\n",
    "| Average Post Score | 431.058824 | 554.327000 | \n",
    "| Average Number of Comments|  111.352941* | 132.909000|\n",
    "| Highest Number of Comments on Post | 272.000000  | 3975.000000\t|\n",
    "| Highest Post Score | 1262.000000  | 12259.000000 |\n",
    "\n",
    "\n",
    "In comparison to the top 1000 posts of all time on CareerGuidance, March had a higher average number of comments. To me, this implies a higher level of user engagement. \n",
    "\n",
    "#### Most interesting post from March Posts: \n",
    "[highest num comments](https://www.reddit.com/r/jobs/comments/fibuqr/what_do_people_do_in_office_jobs/)\n",
    "\n",
    "[highest score](https://www.reddit.com/r/jobs/comments/fkmlot/there_should_be_some_kind_of_regulation_where_job/)"
   ],
   "cell_type": "markdown",
   "metadata": {}
  },
  {
   "cell_type": "code",
   "execution_count": 49,
   "metadata": {},
   "outputs": [
    {
     "output_type": "execute_result",
     "data": {
      "text/plain": [
       "    index                                              title  score      id  \\\n",
       "43     43  There should be some kind of regulation where ...   1262  fkmlot   \n",
       "\n",
       "   subreddit                                                url  num_comments  \\\n",
       "43      jobs  https://www.reddit.com/r/jobs/comments/fkmlot/...           147   \n",
       "\n",
       "                                                 body       created  \\\n",
       "43  Really annoying how a ton of jobs never have t...  1.584551e+09   \n",
       "\n",
       "           date_created  month  \n",
       "43  2020-03-18 13:04:54  March  "
      ],
      "text/html": "<div>\n<style scoped>\n    .dataframe tbody tr th:only-of-type {\n        vertical-align: middle;\n    }\n\n    .dataframe tbody tr th {\n        vertical-align: top;\n    }\n\n    .dataframe thead th {\n        text-align: right;\n    }\n</style>\n<table border=\"1\" class=\"dataframe\">\n  <thead>\n    <tr style=\"text-align: right;\">\n      <th></th>\n      <th>index</th>\n      <th>title</th>\n      <th>score</th>\n      <th>id</th>\n      <th>subreddit</th>\n      <th>url</th>\n      <th>num_comments</th>\n      <th>body</th>\n      <th>created</th>\n      <th>date_created</th>\n      <th>month</th>\n    </tr>\n  </thead>\n  <tbody>\n    <tr>\n      <th>43</th>\n      <td>43</td>\n      <td>There should be some kind of regulation where ...</td>\n      <td>1262</td>\n      <td>fkmlot</td>\n      <td>jobs</td>\n      <td>https://www.reddit.com/r/jobs/comments/fkmlot/...</td>\n      <td>147</td>\n      <td>Really annoying how a ton of jobs never have t...</td>\n      <td>1.584551e+09</td>\n      <td>2020-03-18 13:04:54</td>\n      <td>March</td>\n    </tr>\n  </tbody>\n</table>\n</div>"
     },
     "metadata": {},
     "execution_count": 49
    }
   ],
   "source": [
    "\n",
    "is_march = df['month']=='March'\n",
    "\n",
    "march_df = df[is_march]\n",
    "march_df.head()\n",
    "\n",
    "#print(march_df.shape)\n",
    "\n",
    "# top comment from march now\n",
    "\n",
    "#print(march_df.describe())\n",
    "\n",
    "\n",
    "# get some medians now\n",
    "\n",
    "# median score for march\n",
    "#print(march_df['score'].median())\n",
    "\n",
    "#  median number of comments for march\n",
    "#print(march_df['num_comments'].median())\n",
    "#march_df[march_df['num_comments']==march_df['num_comments'].max()].head()\n",
    "\n",
    "#march_df[march_df['num_comments']==march_df['score'].max()]['date_created']     \n",
    "\n",
    "march_df[march_df['score']==march_df['score'].max()]['date_created'] \n",
    "march_df[march_df['score']==march_df['score'].max()].head()\n"
   ]
  },
  {
   "source": [
    "## April Analysis for r/Jobs\n",
    "\n",
    "| Statistic   | March Posts | --Top 1000 Form Posts of All Time--\n",
    "| ----------- | ----------- | ----------- |\n",
    "| Number of Posts  | 0       | 0 |\n",
    "| Average Post Score | 0.0 | 0.0 | \n",
    "| Average Number of Comments|0 | 0\n",
    "| Highest Number of Comments on Post | 0  | 0 |\n",
    "| Highest Post Score | 0 | 0 |\n",
    "\n",
    "### interesting post from April:\n",
    "\n",
    "[highest num of comments](https://www.reddit.com/r/jobs/comments/g8b9fr/what_are_some_niche_jobs_that_while_not_that/)\n",
    "\n",
    "[highest score](https://www.reddit.com/r/jobs/comments/g6wil1/why_do_nearly_all_entrylevel_jobs_require/)\n",
    "\n",
    "\n"
   ],
   "cell_type": "markdown",
   "metadata": {}
  },
  {
   "source": [
    "is_april = df['month']=='April'\n",
    "\n",
    "april_df = df[is_april]\n",
    "april_df.head()\n",
    "\n",
    "print(april_df.shape)\n",
    "\n",
    "# top comment from march now\n",
    "\n",
    "print(april_df.describe())\n",
    "\n",
    "\n",
    "\n",
    "\n",
    "april_df[april_df['num_comments']==april_df['score'].max()]['date_created'] \n",
    "\n",
    "\n",
    "april_df[april_df['score']==april_df['score'].max()]['date_created'] \n",
    "april_df[april_df['score']==april_df['score'].max()].head()\n",
    "\n",
    "\n",
    "april_df[april_df['num_comments']==april_df['num_comments'].max()].head()\n"
   ],
   "cell_type": "code",
   "metadata": {},
   "execution_count": 52,
   "outputs": [
    {
     "output_type": "stream",
     "name": "stdout",
     "text": [
      "(20, 11)\n            index       score  num_comments       created\ncount   20.000000   20.000000     20.000000  2.000000e+01\nmean   681.900000  359.050000    124.650000  1.587089e+09\nstd    222.775294  109.097482     63.578609  7.341073e+05\nmin    174.000000  256.000000     26.000000  1.585888e+09\n25%    545.500000  286.250000     82.750000  1.586606e+09\n50%    683.500000  343.000000    112.500000  1.587080e+09\n75%    865.750000  393.000000    148.250000  1.587727e+09\nmax    987.000000  728.000000    301.000000  1.588225e+09\n"
     ]
    },
    {
     "output_type": "execute_result",
     "data": {
      "text/plain": [
       "     index                                              title  score      id  \\\n",
       "683    683  What are some niche jobs that while not that w...    344  g8b9fr   \n",
       "\n",
       "    subreddit                                                url  \\\n",
       "683      jobs  https://www.reddit.com/r/jobs/comments/g8b9fr/...   \n",
       "\n",
       "     num_comments                                               body  \\\n",
       "683           301  Pretty straight forward. I have heard a few pe...   \n",
       "\n",
       "          created         date_created  month  \n",
       "683  1.587921e+09  2020-04-26 13:07:12  April  "
      ],
      "text/html": "<div>\n<style scoped>\n    .dataframe tbody tr th:only-of-type {\n        vertical-align: middle;\n    }\n\n    .dataframe tbody tr th {\n        vertical-align: top;\n    }\n\n    .dataframe thead th {\n        text-align: right;\n    }\n</style>\n<table border=\"1\" class=\"dataframe\">\n  <thead>\n    <tr style=\"text-align: right;\">\n      <th></th>\n      <th>index</th>\n      <th>title</th>\n      <th>score</th>\n      <th>id</th>\n      <th>subreddit</th>\n      <th>url</th>\n      <th>num_comments</th>\n      <th>body</th>\n      <th>created</th>\n      <th>date_created</th>\n      <th>month</th>\n    </tr>\n  </thead>\n  <tbody>\n    <tr>\n      <th>683</th>\n      <td>683</td>\n      <td>What are some niche jobs that while not that w...</td>\n      <td>344</td>\n      <td>g8b9fr</td>\n      <td>jobs</td>\n      <td>https://www.reddit.com/r/jobs/comments/g8b9fr/...</td>\n      <td>301</td>\n      <td>Pretty straight forward. I have heard a few pe...</td>\n      <td>1.587921e+09</td>\n      <td>2020-04-26 13:07:12</td>\n      <td>April</td>\n    </tr>\n  </tbody>\n</table>\n</div>"
     },
     "metadata": {},
     "execution_count": 52
    }
   ]
  },
  {
   "source": [
    "# May Analysis\n",
    "\n",
    "1. [top comments]()\n",
    "2. [top score](https://www.reddit.com/r/jobs/comments/ggagbp/does_anyone_else_find_linkedin_toxic/)\n",
    "\n"
   ],
   "cell_type": "markdown",
   "metadata": {}
  },
  {
   "source": [
    "is_may = df['month']=='May'\n",
    "\n",
    "may_df = df[is_may]\n",
    "may_df.head()\n",
    "\n",
    "print(may_df.shape)\n",
    "\n",
    "# top comment from march now\n",
    "\n",
    "print(may_df.describe())\n",
    "\n",
    "\n",
    "\n",
    "\n",
    "may_df[may_df['num_comments']==may_df['score'].max()]['date_created'] \n",
    "\n",
    "\n",
    "may_df[may_df['score']==may_df['score'].max()]['date_created'] \n",
    "may_df[may_df['score']==may_df['score'].max()].head()\n",
    "\n",
    "\n",
    "#may_df[may_df['num_comments']==may_df['num_comments'].max()].head()\n",
    "\n",
    "may_df.to_csv('jobs_may.csv')"
   ],
   "cell_type": "code",
   "metadata": {},
   "execution_count": 54,
   "outputs": [
    {
     "output_type": "stream",
     "name": "stdout",
     "text": [
      "(22, 11)\n            index        score  num_comments       created\ncount   22.000000    22.000000     22.000000  2.200000e+01\nmean   436.090909   535.409091    156.136364  1.589890e+09\nstd    240.338632   279.077845     81.801907  6.740305e+05\nmin     26.000000   270.000000     50.000000  1.588728e+09\n25%    266.750000   388.000000    103.250000  1.589449e+09\n50%    472.500000   424.000000    138.500000  1.589929e+09\n75%    538.750000   595.250000    175.000000  1.590416e+09\nmax    922.000000  1505.000000    336.000000  1.590883e+09\n"
     ]
    },
    {
     "output_type": "execute_result",
     "data": {
      "text/plain": [
       "    index                                  title  score      id subreddit  \\\n",
       "26     26  Does anyone else find LinkedIn toxic?   1505  ggagbp      jobs   \n",
       "\n",
       "                                                  url  num_comments  \\\n",
       "26  https://www.reddit.com/r/jobs/comments/ggagbp/...           295   \n",
       "\n",
       "                                                 body       created  \\\n",
       "26  I've been on LinkedIn for a while and it hasn'...  1.589035e+09   \n",
       "\n",
       "           date_created month  \n",
       "26  2020-05-09 10:38:32   May  "
      ],
      "text/html": "<div>\n<style scoped>\n    .dataframe tbody tr th:only-of-type {\n        vertical-align: middle;\n    }\n\n    .dataframe tbody tr th {\n        vertical-align: top;\n    }\n\n    .dataframe thead th {\n        text-align: right;\n    }\n</style>\n<table border=\"1\" class=\"dataframe\">\n  <thead>\n    <tr style=\"text-align: right;\">\n      <th></th>\n      <th>index</th>\n      <th>title</th>\n      <th>score</th>\n      <th>id</th>\n      <th>subreddit</th>\n      <th>url</th>\n      <th>num_comments</th>\n      <th>body</th>\n      <th>created</th>\n      <th>date_created</th>\n      <th>month</th>\n    </tr>\n  </thead>\n  <tbody>\n    <tr>\n      <th>26</th>\n      <td>26</td>\n      <td>Does anyone else find LinkedIn toxic?</td>\n      <td>1505</td>\n      <td>ggagbp</td>\n      <td>jobs</td>\n      <td>https://www.reddit.com/r/jobs/comments/ggagbp/...</td>\n      <td>295</td>\n      <td>I've been on LinkedIn for a while and it hasn'...</td>\n      <td>1.589035e+09</td>\n      <td>2020-05-09 10:38:32</td>\n      <td>May</td>\n    </tr>\n  </tbody>\n</table>\n</div>"
     },
     "metadata": {},
     "execution_count": 54
    }
   ]
  },
  {
   "cell_type": "code",
   "execution_count": null,
   "metadata": {},
   "outputs": [],
   "source": [
    "is_july = df['month']=='June'\n",
    "\n",
    "june_df = df[is_june]\n",
    "may_df.head()\n",
    "\n",
    "print(may_df.shape)\n",
    "\n",
    "# top comment from march now\n",
    "\n",
    "print(may_df.describe())\n",
    "\n",
    "\n",
    "\n",
    "\n",
    "may_df[may_df['num_comments']==may_df['score'].max()]['date_created'] \n",
    "\n",
    "\n",
    "may_df[may_df['score']==may_df['score'].max()]['date_created'] \n",
    "may_df[may_df['score']==may_df['score'].max()].head()\n",
    "\n",
    "\n",
    "#may_df[may_df['num_comments']==may_df['num_comments'].max()].head()"
   ]
  },
  {
   "source": [
    "### What are the top 5 most upvoted post of all time, after the start of the Pandemic in the US?\n"
   ],
   "cell_type": "markdown",
   "metadata": {}
  },
  {
   "cell_type": "code",
   "execution_count": 65,
   "metadata": {},
   "outputs": [
    {
     "output_type": "execute_result",
     "data": {
      "text/plain": [
       "   index                                              title  score      id  \\\n",
       "2      2                          A Warning About Glassdoor   5697  jbod57   \n",
       "5      5      LinkedIn has turned into a glorified Facebook   3315  i08bm3   \n",
       "6      6                        Don't let your job kill you   2904  i5hjum   \n",
       "8      8  I had an amazing interview to a dream job but ...   2478  ie22eo   \n",
       "9      9  Finally after 500+ applications i landed a job...   2333  hk550d   \n",
       "\n",
       "  subreddit                                                url  num_comments  \\\n",
       "2      jobs  https://www.reddit.com/r/jobs/comments/jbod57/...           470   \n",
       "5      jobs  https://www.reddit.com/r/jobs/comments/i08bm3/...           450   \n",
       "6      jobs  https://www.reddit.com/r/jobs/comments/i5hjum/...           196   \n",
       "8      jobs  https://www.reddit.com/r/jobs/comments/ie22eo/...           271   \n",
       "9      jobs  https://www.reddit.com/r/jobs/comments/hk550d/...           187   \n",
       "\n",
       "                                                body       created  \\\n",
       "2  **EDIT**: A little info from Glassdoor that I ...  1.602800e+09   \n",
       "5  I'm logging into LinkedIn now more and more, a...  1.596084e+09   \n",
       "6  My uncle was a vice president in a bank. He wa...  1.596849e+09   \n",
       "8  [https://imgur.com/wZnjYjo](https://imgur.com/...  1.598063e+09   \n",
       "9  Upvote for support. A corporate recruiting pos...  1.593752e+09   \n",
       "\n",
       "          date_created    month  \n",
       "2  2020-10-15 18:16:35  October  \n",
       "5  2020-07-30 00:42:55     July  \n",
       "6  2020-08-07 21:01:59   August  \n",
       "8  2020-08-21 22:15:14   August  \n",
       "9  2020-07-03 00:50:25     July  "
      ],
      "text/html": "<div>\n<style scoped>\n    .dataframe tbody tr th:only-of-type {\n        vertical-align: middle;\n    }\n\n    .dataframe tbody tr th {\n        vertical-align: top;\n    }\n\n    .dataframe thead th {\n        text-align: right;\n    }\n</style>\n<table border=\"1\" class=\"dataframe\">\n  <thead>\n    <tr style=\"text-align: right;\">\n      <th></th>\n      <th>index</th>\n      <th>title</th>\n      <th>score</th>\n      <th>id</th>\n      <th>subreddit</th>\n      <th>url</th>\n      <th>num_comments</th>\n      <th>body</th>\n      <th>created</th>\n      <th>date_created</th>\n      <th>month</th>\n    </tr>\n  </thead>\n  <tbody>\n    <tr>\n      <th>2</th>\n      <td>2</td>\n      <td>A Warning About Glassdoor</td>\n      <td>5697</td>\n      <td>jbod57</td>\n      <td>jobs</td>\n      <td>https://www.reddit.com/r/jobs/comments/jbod57/...</td>\n      <td>470</td>\n      <td>**EDIT**: A little info from Glassdoor that I ...</td>\n      <td>1.602800e+09</td>\n      <td>2020-10-15 18:16:35</td>\n      <td>October</td>\n    </tr>\n    <tr>\n      <th>5</th>\n      <td>5</td>\n      <td>LinkedIn has turned into a glorified Facebook</td>\n      <td>3315</td>\n      <td>i08bm3</td>\n      <td>jobs</td>\n      <td>https://www.reddit.com/r/jobs/comments/i08bm3/...</td>\n      <td>450</td>\n      <td>I'm logging into LinkedIn now more and more, a...</td>\n      <td>1.596084e+09</td>\n      <td>2020-07-30 00:42:55</td>\n      <td>July</td>\n    </tr>\n    <tr>\n      <th>6</th>\n      <td>6</td>\n      <td>Don't let your job kill you</td>\n      <td>2904</td>\n      <td>i5hjum</td>\n      <td>jobs</td>\n      <td>https://www.reddit.com/r/jobs/comments/i5hjum/...</td>\n      <td>196</td>\n      <td>My uncle was a vice president in a bank. He wa...</td>\n      <td>1.596849e+09</td>\n      <td>2020-08-07 21:01:59</td>\n      <td>August</td>\n    </tr>\n    <tr>\n      <th>8</th>\n      <td>8</td>\n      <td>I had an amazing interview to a dream job but ...</td>\n      <td>2478</td>\n      <td>ie22eo</td>\n      <td>jobs</td>\n      <td>https://www.reddit.com/r/jobs/comments/ie22eo/...</td>\n      <td>271</td>\n      <td>[https://imgur.com/wZnjYjo](https://imgur.com/...</td>\n      <td>1.598063e+09</td>\n      <td>2020-08-21 22:15:14</td>\n      <td>August</td>\n    </tr>\n    <tr>\n      <th>9</th>\n      <td>9</td>\n      <td>Finally after 500+ applications i landed a job...</td>\n      <td>2333</td>\n      <td>hk550d</td>\n      <td>jobs</td>\n      <td>https://www.reddit.com/r/jobs/comments/hk550d/...</td>\n      <td>187</td>\n      <td>Upvote for support. A corporate recruiting pos...</td>\n      <td>1.593752e+09</td>\n      <td>2020-07-03 00:50:25</td>\n      <td>July</td>\n    </tr>\n  </tbody>\n</table>\n</div>"
     },
     "metadata": {},
     "execution_count": 65
    }
   ],
   "source": [
    "\n",
    "#df[df['month'] in {'March' | 'April' | 'May' |'June' |'July'|'August'| 'Septermber'|'October'| 'November'|'Deember'}]\n",
    "\n",
    "is_covid = (df['month']!='March')or (df['month']=='March')or(df['month']=='April')or(df['month']=='May')or(df['month']=='June')or(df['month']=='July')or(df['month']=='August')or(df['month']=='September')or(df['month']=='October')or(df['month']=='December')\n",
    "\n",
    "covid_df=df[is_covid]\n",
    "\n",
    "\n",
    "\n",
    "covid_df[covid_df['score']==covid_df['score'].max()]['date_created'] \n",
    "covid_df[covid_df['score']==covid_df['score'].max()].head()\n",
    "\n",
    "\n",
    "covid_df.head()\n"
   ]
  },
  {
   "cell_type": "code",
   "execution_count": 69,
   "metadata": {},
   "outputs": [
    {
     "output_type": "execute_result",
     "data": {
      "text/plain": [
       "    index                                              title  score      id  \\\n",
       "0       0  So real talk. Why are so may $30k to $40k per ...  12259  9u3fww   \n",
       "1       1  I'm an ex-recruiter for some of the top compan...   7259  7y8k6p   \n",
       "4       4  UPDATE 3: I have slipped through the cracks at...   3571  3jjs1n   \n",
       "7       7  Serious: I walked into my CEOs office and than...   2556  c255l2   \n",
       "10     10  Companies and corporations do not care about y...   2226  bdgd2c   \n",
       "\n",
       "   subreddit                                                url  num_comments  \\\n",
       "0       jobs  https://www.reddit.com/r/jobs/comments/9u3fww/...          3975   \n",
       "1       jobs  https://www.reddit.com/r/jobs/comments/7y8k6p/...           688   \n",
       "4       jobs  https://www.reddit.com/r/jobs/comments/3jjs1n/...          1263   \n",
       "7       jobs  https://www.reddit.com/r/jobs/comments/c255l2/...           123   \n",
       "10      jobs  https://www.reddit.com/r/jobs/comments/bdgd2c/...           255   \n",
       "\n",
       "                                                 body       created  \\\n",
       "0   It just seems odd that when I go on job boards...  1.541368e+09   \n",
       "1   **April 5, 2020 edit:** I've been getting more...  1.518923e+09   \n",
       "4   Link to my original post: https://www.reddit.c...  1.441350e+09   \n",
       "7   I have been working with my company for about ...  1.560908e+09   \n",
       "10  I never understood why people would skip their...  1.555366e+09   \n",
       "\n",
       "           date_created                month  \n",
       "0   2018-11-04 16:48:13  2018-11-04 16:48:13  \n",
       "1   2018-02-17 21:57:42  2018-02-17 21:57:42  \n",
       "4   2015-09-04 03:03:16  2015-09-04 03:03:16  \n",
       "7   2019-06-18 21:31:02  2019-06-18 21:31:02  \n",
       "10  2019-04-15 18:05:38  2019-04-15 18:05:38  "
      ],
      "text/html": "<div>\n<style scoped>\n    .dataframe tbody tr th:only-of-type {\n        vertical-align: middle;\n    }\n\n    .dataframe tbody tr th {\n        vertical-align: top;\n    }\n\n    .dataframe thead th {\n        text-align: right;\n    }\n</style>\n<table border=\"1\" class=\"dataframe\">\n  <thead>\n    <tr style=\"text-align: right;\">\n      <th></th>\n      <th>index</th>\n      <th>title</th>\n      <th>score</th>\n      <th>id</th>\n      <th>subreddit</th>\n      <th>url</th>\n      <th>num_comments</th>\n      <th>body</th>\n      <th>created</th>\n      <th>date_created</th>\n      <th>month</th>\n    </tr>\n  </thead>\n  <tbody>\n    <tr>\n      <th>0</th>\n      <td>0</td>\n      <td>So real talk. Why are so may $30k to $40k per ...</td>\n      <td>12259</td>\n      <td>9u3fww</td>\n      <td>jobs</td>\n      <td>https://www.reddit.com/r/jobs/comments/9u3fww/...</td>\n      <td>3975</td>\n      <td>It just seems odd that when I go on job boards...</td>\n      <td>1.541368e+09</td>\n      <td>2018-11-04 16:48:13</td>\n      <td>2018-11-04 16:48:13</td>\n    </tr>\n    <tr>\n      <th>1</th>\n      <td>1</td>\n      <td>I'm an ex-recruiter for some of the top compan...</td>\n      <td>7259</td>\n      <td>7y8k6p</td>\n      <td>jobs</td>\n      <td>https://www.reddit.com/r/jobs/comments/7y8k6p/...</td>\n      <td>688</td>\n      <td>**April 5, 2020 edit:** I've been getting more...</td>\n      <td>1.518923e+09</td>\n      <td>2018-02-17 21:57:42</td>\n      <td>2018-02-17 21:57:42</td>\n    </tr>\n    <tr>\n      <th>4</th>\n      <td>4</td>\n      <td>UPDATE 3: I have slipped through the cracks at...</td>\n      <td>3571</td>\n      <td>3jjs1n</td>\n      <td>jobs</td>\n      <td>https://www.reddit.com/r/jobs/comments/3jjs1n/...</td>\n      <td>1263</td>\n      <td>Link to my original post: https://www.reddit.c...</td>\n      <td>1.441350e+09</td>\n      <td>2015-09-04 03:03:16</td>\n      <td>2015-09-04 03:03:16</td>\n    </tr>\n    <tr>\n      <th>7</th>\n      <td>7</td>\n      <td>Serious: I walked into my CEOs office and than...</td>\n      <td>2556</td>\n      <td>c255l2</td>\n      <td>jobs</td>\n      <td>https://www.reddit.com/r/jobs/comments/c255l2/...</td>\n      <td>123</td>\n      <td>I have been working with my company for about ...</td>\n      <td>1.560908e+09</td>\n      <td>2019-06-18 21:31:02</td>\n      <td>2019-06-18 21:31:02</td>\n    </tr>\n    <tr>\n      <th>10</th>\n      <td>10</td>\n      <td>Companies and corporations do not care about y...</td>\n      <td>2226</td>\n      <td>bdgd2c</td>\n      <td>jobs</td>\n      <td>https://www.reddit.com/r/jobs/comments/bdgd2c/...</td>\n      <td>255</td>\n      <td>I never understood why people would skip their...</td>\n      <td>1.555366e+09</td>\n      <td>2019-04-15 18:05:38</td>\n      <td>2019-04-15 18:05:38</td>\n    </tr>\n  </tbody>\n</table>\n</div>"
     },
     "metadata": {},
     "execution_count": 69
    }
   ],
   "source": [
    "#df[df['month'] in {'March' | 'April' | 'May' |'June' |'July'|'August'| 'Septermber'|'October'| 'November'|'Deember'}]\n",
    "\n",
    "is_not_covid = df['date_created'] < '2020-03-01'\n",
    "\n",
    "not_covid_df=df[is_not_covid]\n",
    "\n",
    "\n",
    "\n",
    "\n",
    "not_covid_df[not_covid_df['score']==not_covid_df['score'].max()]['date_created'] \n",
    "not_covid_df[not_covid_df['score']==not_covid_df['score'].max()].head()\n",
    "\n",
    "\n",
    "not_covid_df.head()"
   ]
  },
  {
   "cell_type": "code",
   "execution_count": 68,
   "metadata": {},
   "outputs": [
    {
     "output_type": "execute_result",
     "data": {
      "text/plain": [
       "True"
      ]
     },
     "metadata": {},
     "execution_count": 68
    }
   ],
   "source": [
    "#'2020-08'> '2020-07'\n",
    "\n",
    "# trying out date truth values. "
   ]
  },
  {
   "cell_type": "code",
   "execution_count": 9,
   "metadata": {},
   "outputs": [
    {
     "output_type": "display_data",
     "data": {
      "text/plain": "<Figure size 432x288 with 1 Axes>",
      "image/svg+xml": "<?xml version=\"1.0\" encoding=\"utf-8\" standalone=\"no\"?>\r\n<!DOCTYPE svg PUBLIC \"-//W3C//DTD SVG 1.1//EN\"\r\n  \"http://www.w3.org/Graphics/SVG/1.1/DTD/svg11.dtd\">\r\n<!-- Created with matplotlib (https://matplotlib.org/) -->\r\n<svg height=\"263.63625pt\" version=\"1.1\" viewBox=\"0 0 382.603125 263.63625\" width=\"382.603125pt\" xmlns=\"http://www.w3.org/2000/svg\" xmlns:xlink=\"http://www.w3.org/1999/xlink\">\r\n <defs>\r\n  <style type=\"text/css\">\r\n*{stroke-linecap:butt;stroke-linejoin:round;}\r\n  </style>\r\n </defs>\r\n <g id=\"figure_1\">\r\n  <g id=\"patch_1\">\r\n   <path d=\"M 0 263.63625 \r\nL 382.603125 263.63625 \r\nL 382.603125 0 \r\nL 0 0 \r\nz\r\n\" style=\"fill:none;\"/>\r\n  </g>\r\n  <g id=\"axes_1\">\r\n   <g id=\"patch_2\">\r\n    <path d=\"M 40.603125 239.758125 \r\nL 375.403125 239.758125 \r\nL 375.403125 22.318125 \r\nL 40.603125 22.318125 \r\nz\r\n\" style=\"fill:#ffffff;\"/>\r\n   </g>\r\n   <g id=\"patch_3\">\r\n    <path clip-path=\"url(#p205166646f)\" d=\"M 55.821307 239.758125 \r\nL 78.486684 239.758125 \r\nL 78.486684 121.423431 \r\nL 55.821307 121.423431 \r\nz\r\n\" style=\"fill:#1f77b4;\"/>\r\n   </g>\r\n   <g id=\"patch_4\">\r\n    <path clip-path=\"url(#p205166646f)\" d=\"M 120.579527 239.758125 \r\nL 143.244904 239.758125 \r\nL 143.244904 38.589145 \r\nL 120.579527 38.589145 \r\nz\r\n\" style=\"fill:#1f77b4;\"/>\r\n   </g>\r\n   <g id=\"patch_5\">\r\n    <path clip-path=\"url(#p205166646f)\" d=\"M 185.337748 239.758125 \r\nL 208.003125 239.758125 \r\nL 208.003125 62.256084 \r\nL 185.337748 62.256084 \r\nz\r\n\" style=\"fill:#1f77b4;\"/>\r\n   </g>\r\n   <g id=\"patch_6\">\r\n    <path clip-path=\"url(#p205166646f)\" d=\"M 250.095968 239.758125 \r\nL 272.761346 239.758125 \r\nL 272.761346 32.672411 \r\nL 250.095968 32.672411 \r\nz\r\n\" style=\"fill:#1f77b4;\"/>\r\n   </g>\r\n   <g id=\"patch_7\">\r\n    <path clip-path=\"url(#p205166646f)\" d=\"M 314.854189 239.758125 \r\nL 337.519566 239.758125 \r\nL 337.519566 80.006288 \r\nL 314.854189 80.006288 \r\nz\r\n\" style=\"fill:#1f77b4;\"/>\r\n   </g>\r\n   <g id=\"patch_8\">\r\n    <path clip-path=\"url(#p205166646f)\" d=\"M 78.486684 239.758125 \r\nL 101.152061 239.758125 \r\nL 101.152061 91.839758 \r\nL 78.486684 91.839758 \r\nz\r\n\" style=\"fill:#ff7f0e;\"/>\r\n   </g>\r\n   <g id=\"patch_9\">\r\n    <path clip-path=\"url(#p205166646f)\" d=\"M 143.244904 239.758125 \r\nL 165.910282 239.758125 \r\nL 165.910282 50.422615 \r\nL 143.244904 50.422615 \r\nz\r\n\" style=\"fill:#ff7f0e;\"/>\r\n   </g>\r\n   <g id=\"patch_10\">\r\n    <path clip-path=\"url(#p205166646f)\" d=\"M 208.003125 239.758125 \r\nL 230.668502 239.758125 \r\nL 230.668502 38.589145 \r\nL 208.003125 38.589145 \r\nz\r\n\" style=\"fill:#ff7f0e;\"/>\r\n   </g>\r\n   <g id=\"patch_11\">\r\n    <path clip-path=\"url(#p205166646f)\" d=\"M 272.761346 239.758125 \r\nL 295.426723 239.758125 \r\nL 295.426723 121.423431 \r\nL 272.761346 121.423431 \r\nz\r\n\" style=\"fill:#ff7f0e;\"/>\r\n   </g>\r\n   <g id=\"patch_12\">\r\n    <path clip-path=\"url(#p205166646f)\" d=\"M 337.519566 239.758125 \r\nL 360.184943 239.758125 \r\nL 360.184943 91.839758 \r\nL 337.519566 91.839758 \r\nz\r\n\" style=\"fill:#ff7f0e;\"/>\r\n   </g>\r\n   <g id=\"matplotlib.axis_1\">\r\n    <g id=\"xtick_1\">\r\n     <g id=\"line2d_1\">\r\n      <defs>\r\n       <path d=\"M 0 0 \r\nL 0 3.5 \r\n\" id=\"m4b454fe2cf\" style=\"stroke:#000000;stroke-width:0.8;\"/>\r\n      </defs>\r\n      <g>\r\n       <use style=\"stroke:#000000;stroke-width:0.8;\" x=\"78.486684\" xlink:href=\"#m4b454fe2cf\" y=\"239.758125\"/>\r\n      </g>\r\n     </g>\r\n     <g id=\"text_1\">\r\n      <!-- Top Post -->\r\n      <defs>\r\n       <path d=\"M -0.296875 72.90625 \r\nL 61.375 72.90625 \r\nL 61.375 64.59375 \r\nL 35.5 64.59375 \r\nL 35.5 0 \r\nL 25.59375 0 \r\nL 25.59375 64.59375 \r\nL -0.296875 64.59375 \r\nz\r\n\" id=\"DejaVuSans-84\"/>\r\n       <path d=\"M 30.609375 48.390625 \r\nQ 23.390625 48.390625 19.1875 42.75 \r\nQ 14.984375 37.109375 14.984375 27.296875 \r\nQ 14.984375 17.484375 19.15625 11.84375 \r\nQ 23.34375 6.203125 30.609375 6.203125 \r\nQ 37.796875 6.203125 41.984375 11.859375 \r\nQ 46.1875 17.53125 46.1875 27.296875 \r\nQ 46.1875 37.015625 41.984375 42.703125 \r\nQ 37.796875 48.390625 30.609375 48.390625 \r\nz\r\nM 30.609375 56 \r\nQ 42.328125 56 49.015625 48.375 \r\nQ 55.71875 40.765625 55.71875 27.296875 \r\nQ 55.71875 13.875 49.015625 6.21875 \r\nQ 42.328125 -1.421875 30.609375 -1.421875 \r\nQ 18.84375 -1.421875 12.171875 6.21875 \r\nQ 5.515625 13.875 5.515625 27.296875 \r\nQ 5.515625 40.765625 12.171875 48.375 \r\nQ 18.84375 56 30.609375 56 \r\nz\r\n\" id=\"DejaVuSans-111\"/>\r\n       <path d=\"M 18.109375 8.203125 \r\nL 18.109375 -20.796875 \r\nL 9.078125 -20.796875 \r\nL 9.078125 54.6875 \r\nL 18.109375 54.6875 \r\nL 18.109375 46.390625 \r\nQ 20.953125 51.265625 25.265625 53.625 \r\nQ 29.59375 56 35.59375 56 \r\nQ 45.5625 56 51.78125 48.09375 \r\nQ 58.015625 40.1875 58.015625 27.296875 \r\nQ 58.015625 14.40625 51.78125 6.484375 \r\nQ 45.5625 -1.421875 35.59375 -1.421875 \r\nQ 29.59375 -1.421875 25.265625 0.953125 \r\nQ 20.953125 3.328125 18.109375 8.203125 \r\nz\r\nM 48.6875 27.296875 \r\nQ 48.6875 37.203125 44.609375 42.84375 \r\nQ 40.53125 48.484375 33.40625 48.484375 \r\nQ 26.265625 48.484375 22.1875 42.84375 \r\nQ 18.109375 37.203125 18.109375 27.296875 \r\nQ 18.109375 17.390625 22.1875 11.75 \r\nQ 26.265625 6.109375 33.40625 6.109375 \r\nQ 40.53125 6.109375 44.609375 11.75 \r\nQ 48.6875 17.390625 48.6875 27.296875 \r\nz\r\n\" id=\"DejaVuSans-112\"/>\r\n       <path id=\"DejaVuSans-32\"/>\r\n       <path d=\"M 19.671875 64.796875 \r\nL 19.671875 37.40625 \r\nL 32.078125 37.40625 \r\nQ 38.96875 37.40625 42.71875 40.96875 \r\nQ 46.484375 44.53125 46.484375 51.125 \r\nQ 46.484375 57.671875 42.71875 61.234375 \r\nQ 38.96875 64.796875 32.078125 64.796875 \r\nz\r\nM 9.8125 72.90625 \r\nL 32.078125 72.90625 \r\nQ 44.34375 72.90625 50.609375 67.359375 \r\nQ 56.890625 61.8125 56.890625 51.125 \r\nQ 56.890625 40.328125 50.609375 34.8125 \r\nQ 44.34375 29.296875 32.078125 29.296875 \r\nL 19.671875 29.296875 \r\nL 19.671875 0 \r\nL 9.8125 0 \r\nz\r\n\" id=\"DejaVuSans-80\"/>\r\n       <path d=\"M 44.28125 53.078125 \r\nL 44.28125 44.578125 \r\nQ 40.484375 46.53125 36.375 47.5 \r\nQ 32.28125 48.484375 27.875 48.484375 \r\nQ 21.1875 48.484375 17.84375 46.4375 \r\nQ 14.5 44.390625 14.5 40.28125 \r\nQ 14.5 37.15625 16.890625 35.375 \r\nQ 19.28125 33.59375 26.515625 31.984375 \r\nL 29.59375 31.296875 \r\nQ 39.15625 29.25 43.1875 25.515625 \r\nQ 47.21875 21.78125 47.21875 15.09375 \r\nQ 47.21875 7.46875 41.1875 3.015625 \r\nQ 35.15625 -1.421875 24.609375 -1.421875 \r\nQ 20.21875 -1.421875 15.453125 -0.5625 \r\nQ 10.6875 0.296875 5.421875 2 \r\nL 5.421875 11.28125 \r\nQ 10.40625 8.6875 15.234375 7.390625 \r\nQ 20.0625 6.109375 24.8125 6.109375 \r\nQ 31.15625 6.109375 34.5625 8.28125 \r\nQ 37.984375 10.453125 37.984375 14.40625 \r\nQ 37.984375 18.0625 35.515625 20.015625 \r\nQ 33.0625 21.96875 24.703125 23.78125 \r\nL 21.578125 24.515625 \r\nQ 13.234375 26.265625 9.515625 29.90625 \r\nQ 5.8125 33.546875 5.8125 39.890625 \r\nQ 5.8125 47.609375 11.28125 51.796875 \r\nQ 16.75 56 26.8125 56 \r\nQ 31.78125 56 36.171875 55.265625 \r\nQ 40.578125 54.546875 44.28125 53.078125 \r\nz\r\n\" id=\"DejaVuSans-115\"/>\r\n       <path d=\"M 18.3125 70.21875 \r\nL 18.3125 54.6875 \r\nL 36.8125 54.6875 \r\nL 36.8125 47.703125 \r\nL 18.3125 47.703125 \r\nL 18.3125 18.015625 \r\nQ 18.3125 11.328125 20.140625 9.421875 \r\nQ 21.96875 7.515625 27.59375 7.515625 \r\nL 36.8125 7.515625 \r\nL 36.8125 0 \r\nL 27.59375 0 \r\nQ 17.1875 0 13.234375 3.875 \r\nQ 9.28125 7.765625 9.28125 18.015625 \r\nL 9.28125 47.703125 \r\nL 2.6875 47.703125 \r\nL 2.6875 54.6875 \r\nL 9.28125 54.6875 \r\nL 9.28125 70.21875 \r\nz\r\n\" id=\"DejaVuSans-116\"/>\r\n      </defs>\r\n      <g transform=\"translate(58.002309 254.356563)scale(0.1 -0.1)\">\r\n       <use xlink:href=\"#DejaVuSans-84\"/>\r\n       <use x=\"44.083984\" xlink:href=\"#DejaVuSans-111\"/>\r\n       <use x=\"105.265625\" xlink:href=\"#DejaVuSans-112\"/>\r\n       <use x=\"168.742188\" xlink:href=\"#DejaVuSans-32\"/>\r\n       <use x=\"200.529297\" xlink:href=\"#DejaVuSans-80\"/>\r\n       <use x=\"257.207031\" xlink:href=\"#DejaVuSans-111\"/>\r\n       <use x=\"318.388672\" xlink:href=\"#DejaVuSans-115\"/>\r\n       <use x=\"370.488281\" xlink:href=\"#DejaVuSans-116\"/>\r\n      </g>\r\n     </g>\r\n    </g>\r\n    <g id=\"xtick_2\">\r\n     <g id=\"line2d_2\">\r\n      <g>\r\n       <use style=\"stroke:#000000;stroke-width:0.8;\" x=\"143.244904\" xlink:href=\"#m4b454fe2cf\" y=\"239.758125\"/>\r\n      </g>\r\n     </g>\r\n     <g id=\"text_2\">\r\n      <!-- 2nd Top Post -->\r\n      <defs>\r\n       <path d=\"M 19.1875 8.296875 \r\nL 53.609375 8.296875 \r\nL 53.609375 0 \r\nL 7.328125 0 \r\nL 7.328125 8.296875 \r\nQ 12.9375 14.109375 22.625 23.890625 \r\nQ 32.328125 33.6875 34.8125 36.53125 \r\nQ 39.546875 41.84375 41.421875 45.53125 \r\nQ 43.3125 49.21875 43.3125 52.78125 \r\nQ 43.3125 58.59375 39.234375 62.25 \r\nQ 35.15625 65.921875 28.609375 65.921875 \r\nQ 23.96875 65.921875 18.8125 64.3125 \r\nQ 13.671875 62.703125 7.8125 59.421875 \r\nL 7.8125 69.390625 \r\nQ 13.765625 71.78125 18.9375 73 \r\nQ 24.125 74.21875 28.421875 74.21875 \r\nQ 39.75 74.21875 46.484375 68.546875 \r\nQ 53.21875 62.890625 53.21875 53.421875 \r\nQ 53.21875 48.921875 51.53125 44.890625 \r\nQ 49.859375 40.875 45.40625 35.40625 \r\nQ 44.1875 33.984375 37.640625 27.21875 \r\nQ 31.109375 20.453125 19.1875 8.296875 \r\nz\r\n\" id=\"DejaVuSans-50\"/>\r\n       <path d=\"M 54.890625 33.015625 \r\nL 54.890625 0 \r\nL 45.90625 0 \r\nL 45.90625 32.71875 \r\nQ 45.90625 40.484375 42.875 44.328125 \r\nQ 39.84375 48.1875 33.796875 48.1875 \r\nQ 26.515625 48.1875 22.3125 43.546875 \r\nQ 18.109375 38.921875 18.109375 30.90625 \r\nL 18.109375 0 \r\nL 9.078125 0 \r\nL 9.078125 54.6875 \r\nL 18.109375 54.6875 \r\nL 18.109375 46.1875 \r\nQ 21.34375 51.125 25.703125 53.5625 \r\nQ 30.078125 56 35.796875 56 \r\nQ 45.21875 56 50.046875 50.171875 \r\nQ 54.890625 44.34375 54.890625 33.015625 \r\nz\r\n\" id=\"DejaVuSans-110\"/>\r\n       <path d=\"M 45.40625 46.390625 \r\nL 45.40625 75.984375 \r\nL 54.390625 75.984375 \r\nL 54.390625 0 \r\nL 45.40625 0 \r\nL 45.40625 8.203125 \r\nQ 42.578125 3.328125 38.25 0.953125 \r\nQ 33.9375 -1.421875 27.875 -1.421875 \r\nQ 17.96875 -1.421875 11.734375 6.484375 \r\nQ 5.515625 14.40625 5.515625 27.296875 \r\nQ 5.515625 40.1875 11.734375 48.09375 \r\nQ 17.96875 56 27.875 56 \r\nQ 33.9375 56 38.25 53.625 \r\nQ 42.578125 51.265625 45.40625 46.390625 \r\nz\r\nM 14.796875 27.296875 \r\nQ 14.796875 17.390625 18.875 11.75 \r\nQ 22.953125 6.109375 30.078125 6.109375 \r\nQ 37.203125 6.109375 41.296875 11.75 \r\nQ 45.40625 17.390625 45.40625 27.296875 \r\nQ 45.40625 37.203125 41.296875 42.84375 \r\nQ 37.203125 48.484375 30.078125 48.484375 \r\nQ 22.953125 48.484375 18.875 42.84375 \r\nQ 14.796875 37.203125 14.796875 27.296875 \r\nz\r\n\" id=\"DejaVuSans-100\"/>\r\n      </defs>\r\n      <g transform=\"translate(111.647248 254.356563)scale(0.1 -0.1)\">\r\n       <use xlink:href=\"#DejaVuSans-50\"/>\r\n       <use x=\"63.623047\" xlink:href=\"#DejaVuSans-110\"/>\r\n       <use x=\"127.001953\" xlink:href=\"#DejaVuSans-100\"/>\r\n       <use x=\"190.478516\" xlink:href=\"#DejaVuSans-32\"/>\r\n       <use x=\"222.265625\" xlink:href=\"#DejaVuSans-84\"/>\r\n       <use x=\"266.349609\" xlink:href=\"#DejaVuSans-111\"/>\r\n       <use x=\"327.53125\" xlink:href=\"#DejaVuSans-112\"/>\r\n       <use x=\"391.007812\" xlink:href=\"#DejaVuSans-32\"/>\r\n       <use x=\"422.794922\" xlink:href=\"#DejaVuSans-80\"/>\r\n       <use x=\"479.472656\" xlink:href=\"#DejaVuSans-111\"/>\r\n       <use x=\"540.654297\" xlink:href=\"#DejaVuSans-115\"/>\r\n       <use x=\"592.753906\" xlink:href=\"#DejaVuSans-116\"/>\r\n      </g>\r\n     </g>\r\n    </g>\r\n    <g id=\"xtick_3\">\r\n     <g id=\"line2d_3\">\r\n      <g>\r\n       <use style=\"stroke:#000000;stroke-width:0.8;\" x=\"208.003125\" xlink:href=\"#m4b454fe2cf\" y=\"239.758125\"/>\r\n      </g>\r\n     </g>\r\n     <g id=\"text_3\">\r\n      <!-- 3rd Top Post -->\r\n      <defs>\r\n       <path d=\"M 40.578125 39.3125 \r\nQ 47.65625 37.796875 51.625 33 \r\nQ 55.609375 28.21875 55.609375 21.1875 \r\nQ 55.609375 10.40625 48.1875 4.484375 \r\nQ 40.765625 -1.421875 27.09375 -1.421875 \r\nQ 22.515625 -1.421875 17.65625 -0.515625 \r\nQ 12.796875 0.390625 7.625 2.203125 \r\nL 7.625 11.71875 \r\nQ 11.71875 9.328125 16.59375 8.109375 \r\nQ 21.484375 6.890625 26.8125 6.890625 \r\nQ 36.078125 6.890625 40.9375 10.546875 \r\nQ 45.796875 14.203125 45.796875 21.1875 \r\nQ 45.796875 27.640625 41.28125 31.265625 \r\nQ 36.765625 34.90625 28.71875 34.90625 \r\nL 20.21875 34.90625 \r\nL 20.21875 43.015625 \r\nL 29.109375 43.015625 \r\nQ 36.375 43.015625 40.234375 45.921875 \r\nQ 44.09375 48.828125 44.09375 54.296875 \r\nQ 44.09375 59.90625 40.109375 62.90625 \r\nQ 36.140625 65.921875 28.71875 65.921875 \r\nQ 24.65625 65.921875 20.015625 65.03125 \r\nQ 15.375 64.15625 9.8125 62.3125 \r\nL 9.8125 71.09375 \r\nQ 15.4375 72.65625 20.34375 73.4375 \r\nQ 25.25 74.21875 29.59375 74.21875 \r\nQ 40.828125 74.21875 47.359375 69.109375 \r\nQ 53.90625 64.015625 53.90625 55.328125 \r\nQ 53.90625 49.265625 50.4375 45.09375 \r\nQ 46.96875 40.921875 40.578125 39.3125 \r\nz\r\n\" id=\"DejaVuSans-51\"/>\r\n       <path d=\"M 41.109375 46.296875 \r\nQ 39.59375 47.171875 37.8125 47.578125 \r\nQ 36.03125 48 33.890625 48 \r\nQ 26.265625 48 22.1875 43.046875 \r\nQ 18.109375 38.09375 18.109375 28.8125 \r\nL 18.109375 0 \r\nL 9.078125 0 \r\nL 9.078125 54.6875 \r\nL 18.109375 54.6875 \r\nL 18.109375 46.1875 \r\nQ 20.953125 51.171875 25.484375 53.578125 \r\nQ 30.03125 56 36.53125 56 \r\nQ 37.453125 56 38.578125 55.875 \r\nQ 39.703125 55.765625 41.0625 55.515625 \r\nz\r\n\" id=\"DejaVuSans-114\"/>\r\n      </defs>\r\n      <g transform=\"translate(177.60625 254.356563)scale(0.1 -0.1)\">\r\n       <use xlink:href=\"#DejaVuSans-51\"/>\r\n       <use x=\"63.623047\" xlink:href=\"#DejaVuSans-114\"/>\r\n       <use x=\"102.986328\" xlink:href=\"#DejaVuSans-100\"/>\r\n       <use x=\"166.462891\" xlink:href=\"#DejaVuSans-32\"/>\r\n       <use x=\"198.25\" xlink:href=\"#DejaVuSans-84\"/>\r\n       <use x=\"242.333984\" xlink:href=\"#DejaVuSans-111\"/>\r\n       <use x=\"303.515625\" xlink:href=\"#DejaVuSans-112\"/>\r\n       <use x=\"366.992188\" xlink:href=\"#DejaVuSans-32\"/>\r\n       <use x=\"398.779297\" xlink:href=\"#DejaVuSans-80\"/>\r\n       <use x=\"455.457031\" xlink:href=\"#DejaVuSans-111\"/>\r\n       <use x=\"516.638672\" xlink:href=\"#DejaVuSans-115\"/>\r\n       <use x=\"568.738281\" xlink:href=\"#DejaVuSans-116\"/>\r\n      </g>\r\n     </g>\r\n    </g>\r\n    <g id=\"xtick_4\">\r\n     <g id=\"line2d_4\">\r\n      <g>\r\n       <use style=\"stroke:#000000;stroke-width:0.8;\" x=\"272.761346\" xlink:href=\"#m4b454fe2cf\" y=\"239.758125\"/>\r\n      </g>\r\n     </g>\r\n    </g>\r\n    <g id=\"xtick_5\">\r\n     <g id=\"line2d_5\">\r\n      <g>\r\n       <use style=\"stroke:#000000;stroke-width:0.8;\" x=\"337.519566\" xlink:href=\"#m4b454fe2cf\" y=\"239.758125\"/>\r\n      </g>\r\n     </g>\r\n    </g>\r\n   </g>\r\n   <g id=\"matplotlib.axis_2\">\r\n    <g id=\"ytick_1\">\r\n     <g id=\"line2d_6\">\r\n      <defs>\r\n       <path d=\"M 0 0 \r\nL -3.5 0 \r\n\" id=\"m0cf24ed0a2\" style=\"stroke:#000000;stroke-width:0.8;\"/>\r\n      </defs>\r\n      <g>\r\n       <use style=\"stroke:#000000;stroke-width:0.8;\" x=\"40.603125\" xlink:href=\"#m0cf24ed0a2\" y=\"239.758125\"/>\r\n      </g>\r\n     </g>\r\n     <g id=\"text_4\">\r\n      <!-- 0 -->\r\n      <defs>\r\n       <path d=\"M 31.78125 66.40625 \r\nQ 24.171875 66.40625 20.328125 58.90625 \r\nQ 16.5 51.421875 16.5 36.375 \r\nQ 16.5 21.390625 20.328125 13.890625 \r\nQ 24.171875 6.390625 31.78125 6.390625 \r\nQ 39.453125 6.390625 43.28125 13.890625 \r\nQ 47.125 21.390625 47.125 36.375 \r\nQ 47.125 51.421875 43.28125 58.90625 \r\nQ 39.453125 66.40625 31.78125 66.40625 \r\nz\r\nM 31.78125 74.21875 \r\nQ 44.046875 74.21875 50.515625 64.515625 \r\nQ 56.984375 54.828125 56.984375 36.375 \r\nQ 56.984375 17.96875 50.515625 8.265625 \r\nQ 44.046875 -1.421875 31.78125 -1.421875 \r\nQ 19.53125 -1.421875 13.0625 8.265625 \r\nQ 6.59375 17.96875 6.59375 36.375 \r\nQ 6.59375 54.828125 13.0625 64.515625 \r\nQ 19.53125 74.21875 31.78125 74.21875 \r\nz\r\n\" id=\"DejaVuSans-48\"/>\r\n      </defs>\r\n      <g transform=\"translate(27.240625 243.557344)scale(0.1 -0.1)\">\r\n       <use xlink:href=\"#DejaVuSans-48\"/>\r\n      </g>\r\n     </g>\r\n    </g>\r\n    <g id=\"ytick_2\">\r\n     <g id=\"line2d_7\">\r\n      <g>\r\n       <use style=\"stroke:#000000;stroke-width:0.8;\" x=\"40.603125\" xlink:href=\"#m0cf24ed0a2\" y=\"210.174452\"/>\r\n      </g>\r\n     </g>\r\n     <g id=\"text_5\">\r\n      <!-- 5 -->\r\n      <defs>\r\n       <path d=\"M 10.796875 72.90625 \r\nL 49.515625 72.90625 \r\nL 49.515625 64.59375 \r\nL 19.828125 64.59375 \r\nL 19.828125 46.734375 \r\nQ 21.96875 47.46875 24.109375 47.828125 \r\nQ 26.265625 48.1875 28.421875 48.1875 \r\nQ 40.625 48.1875 47.75 41.5 \r\nQ 54.890625 34.8125 54.890625 23.390625 \r\nQ 54.890625 11.625 47.5625 5.09375 \r\nQ 40.234375 -1.421875 26.90625 -1.421875 \r\nQ 22.3125 -1.421875 17.546875 -0.640625 \r\nQ 12.796875 0.140625 7.71875 1.703125 \r\nL 7.71875 11.625 \r\nQ 12.109375 9.234375 16.796875 8.0625 \r\nQ 21.484375 6.890625 26.703125 6.890625 \r\nQ 35.15625 6.890625 40.078125 11.328125 \r\nQ 45.015625 15.765625 45.015625 23.390625 \r\nQ 45.015625 31 40.078125 35.4375 \r\nQ 35.15625 39.890625 26.703125 39.890625 \r\nQ 22.75 39.890625 18.8125 39.015625 \r\nQ 14.890625 38.140625 10.796875 36.28125 \r\nz\r\n\" id=\"DejaVuSans-53\"/>\r\n      </defs>\r\n      <g transform=\"translate(27.240625 213.97367)scale(0.1 -0.1)\">\r\n       <use xlink:href=\"#DejaVuSans-53\"/>\r\n      </g>\r\n     </g>\r\n    </g>\r\n    <g id=\"ytick_3\">\r\n     <g id=\"line2d_8\">\r\n      <g>\r\n       <use style=\"stroke:#000000;stroke-width:0.8;\" x=\"40.603125\" xlink:href=\"#m0cf24ed0a2\" y=\"180.590778\"/>\r\n      </g>\r\n     </g>\r\n     <g id=\"text_6\">\r\n      <!-- 10 -->\r\n      <defs>\r\n       <path d=\"M 12.40625 8.296875 \r\nL 28.515625 8.296875 \r\nL 28.515625 63.921875 \r\nL 10.984375 60.40625 \r\nL 10.984375 69.390625 \r\nL 28.421875 72.90625 \r\nL 38.28125 72.90625 \r\nL 38.28125 8.296875 \r\nL 54.390625 8.296875 \r\nL 54.390625 0 \r\nL 12.40625 0 \r\nz\r\n\" id=\"DejaVuSans-49\"/>\r\n      </defs>\r\n      <g transform=\"translate(20.878125 184.389997)scale(0.1 -0.1)\">\r\n       <use xlink:href=\"#DejaVuSans-49\"/>\r\n       <use x=\"63.623047\" xlink:href=\"#DejaVuSans-48\"/>\r\n      </g>\r\n     </g>\r\n    </g>\r\n    <g id=\"ytick_4\">\r\n     <g id=\"line2d_9\">\r\n      <g>\r\n       <use style=\"stroke:#000000;stroke-width:0.8;\" x=\"40.603125\" xlink:href=\"#m0cf24ed0a2\" y=\"151.007105\"/>\r\n      </g>\r\n     </g>\r\n     <g id=\"text_7\">\r\n      <!-- 15 -->\r\n      <g transform=\"translate(20.878125 154.806323)scale(0.1 -0.1)\">\r\n       <use xlink:href=\"#DejaVuSans-49\"/>\r\n       <use x=\"63.623047\" xlink:href=\"#DejaVuSans-53\"/>\r\n      </g>\r\n     </g>\r\n    </g>\r\n    <g id=\"ytick_5\">\r\n     <g id=\"line2d_10\">\r\n      <g>\r\n       <use style=\"stroke:#000000;stroke-width:0.8;\" x=\"40.603125\" xlink:href=\"#m0cf24ed0a2\" y=\"121.423431\"/>\r\n      </g>\r\n     </g>\r\n     <g id=\"text_8\">\r\n      <!-- 20 -->\r\n      <g transform=\"translate(20.878125 125.22265)scale(0.1 -0.1)\">\r\n       <use xlink:href=\"#DejaVuSans-50\"/>\r\n       <use x=\"63.623047\" xlink:href=\"#DejaVuSans-48\"/>\r\n      </g>\r\n     </g>\r\n    </g>\r\n    <g id=\"ytick_6\">\r\n     <g id=\"line2d_11\">\r\n      <g>\r\n       <use style=\"stroke:#000000;stroke-width:0.8;\" x=\"40.603125\" xlink:href=\"#m0cf24ed0a2\" y=\"91.839758\"/>\r\n      </g>\r\n     </g>\r\n     <g id=\"text_9\">\r\n      <!-- 25 -->\r\n      <g transform=\"translate(20.878125 95.638976)scale(0.1 -0.1)\">\r\n       <use xlink:href=\"#DejaVuSans-50\"/>\r\n       <use x=\"63.623047\" xlink:href=\"#DejaVuSans-53\"/>\r\n      </g>\r\n     </g>\r\n    </g>\r\n    <g id=\"ytick_7\">\r\n     <g id=\"line2d_12\">\r\n      <g>\r\n       <use style=\"stroke:#000000;stroke-width:0.8;\" x=\"40.603125\" xlink:href=\"#m0cf24ed0a2\" y=\"62.256084\"/>\r\n      </g>\r\n     </g>\r\n     <g id=\"text_10\">\r\n      <!-- 30 -->\r\n      <g transform=\"translate(20.878125 66.055303)scale(0.1 -0.1)\">\r\n       <use xlink:href=\"#DejaVuSans-51\"/>\r\n       <use x=\"63.623047\" xlink:href=\"#DejaVuSans-48\"/>\r\n      </g>\r\n     </g>\r\n    </g>\r\n    <g id=\"ytick_8\">\r\n     <g id=\"line2d_13\">\r\n      <g>\r\n       <use style=\"stroke:#000000;stroke-width:0.8;\" x=\"40.603125\" xlink:href=\"#m0cf24ed0a2\" y=\"32.672411\"/>\r\n      </g>\r\n     </g>\r\n     <g id=\"text_11\">\r\n      <!-- 35 -->\r\n      <g transform=\"translate(20.878125 36.471629)scale(0.1 -0.1)\">\r\n       <use xlink:href=\"#DejaVuSans-51\"/>\r\n       <use x=\"63.623047\" xlink:href=\"#DejaVuSans-53\"/>\r\n      </g>\r\n     </g>\r\n    </g>\r\n    <g id=\"text_12\">\r\n     <!-- Scores -->\r\n     <defs>\r\n      <path d=\"M 53.515625 70.515625 \r\nL 53.515625 60.890625 \r\nQ 47.90625 63.578125 42.921875 64.890625 \r\nQ 37.9375 66.21875 33.296875 66.21875 \r\nQ 25.25 66.21875 20.875 63.09375 \r\nQ 16.5 59.96875 16.5 54.203125 \r\nQ 16.5 49.359375 19.40625 46.890625 \r\nQ 22.3125 44.4375 30.421875 42.921875 \r\nL 36.375 41.703125 \r\nQ 47.40625 39.59375 52.65625 34.296875 \r\nQ 57.90625 29 57.90625 20.125 \r\nQ 57.90625 9.515625 50.796875 4.046875 \r\nQ 43.703125 -1.421875 29.984375 -1.421875 \r\nQ 24.8125 -1.421875 18.96875 -0.25 \r\nQ 13.140625 0.921875 6.890625 3.21875 \r\nL 6.890625 13.375 \r\nQ 12.890625 10.015625 18.65625 8.296875 \r\nQ 24.421875 6.59375 29.984375 6.59375 \r\nQ 38.421875 6.59375 43.015625 9.90625 \r\nQ 47.609375 13.234375 47.609375 19.390625 \r\nQ 47.609375 24.75 44.3125 27.78125 \r\nQ 41.015625 30.8125 33.5 32.328125 \r\nL 27.484375 33.5 \r\nQ 16.453125 35.6875 11.515625 40.375 \r\nQ 6.59375 45.0625 6.59375 53.421875 \r\nQ 6.59375 63.09375 13.40625 68.65625 \r\nQ 20.21875 74.21875 32.171875 74.21875 \r\nQ 37.3125 74.21875 42.625 73.28125 \r\nQ 47.953125 72.359375 53.515625 70.515625 \r\nz\r\n\" id=\"DejaVuSans-83\"/>\r\n      <path d=\"M 48.78125 52.59375 \r\nL 48.78125 44.1875 \r\nQ 44.96875 46.296875 41.140625 47.34375 \r\nQ 37.3125 48.390625 33.40625 48.390625 \r\nQ 24.65625 48.390625 19.8125 42.84375 \r\nQ 14.984375 37.3125 14.984375 27.296875 \r\nQ 14.984375 17.28125 19.8125 11.734375 \r\nQ 24.65625 6.203125 33.40625 6.203125 \r\nQ 37.3125 6.203125 41.140625 7.25 \r\nQ 44.96875 8.296875 48.78125 10.40625 \r\nL 48.78125 2.09375 \r\nQ 45.015625 0.34375 40.984375 -0.53125 \r\nQ 36.96875 -1.421875 32.421875 -1.421875 \r\nQ 20.0625 -1.421875 12.78125 6.34375 \r\nQ 5.515625 14.109375 5.515625 27.296875 \r\nQ 5.515625 40.671875 12.859375 48.328125 \r\nQ 20.21875 56 33.015625 56 \r\nQ 37.15625 56 41.109375 55.140625 \r\nQ 45.0625 54.296875 48.78125 52.59375 \r\nz\r\n\" id=\"DejaVuSans-99\"/>\r\n      <path d=\"M 56.203125 29.59375 \r\nL 56.203125 25.203125 \r\nL 14.890625 25.203125 \r\nQ 15.484375 15.921875 20.484375 11.0625 \r\nQ 25.484375 6.203125 34.421875 6.203125 \r\nQ 39.59375 6.203125 44.453125 7.46875 \r\nQ 49.3125 8.734375 54.109375 11.28125 \r\nL 54.109375 2.78125 \r\nQ 49.265625 0.734375 44.1875 -0.34375 \r\nQ 39.109375 -1.421875 33.890625 -1.421875 \r\nQ 20.796875 -1.421875 13.15625 6.1875 \r\nQ 5.515625 13.8125 5.515625 26.8125 \r\nQ 5.515625 40.234375 12.765625 48.109375 \r\nQ 20.015625 56 32.328125 56 \r\nQ 43.359375 56 49.78125 48.890625 \r\nQ 56.203125 41.796875 56.203125 29.59375 \r\nz\r\nM 47.21875 32.234375 \r\nQ 47.125 39.59375 43.09375 43.984375 \r\nQ 39.0625 48.390625 32.421875 48.390625 \r\nQ 24.90625 48.390625 20.390625 44.140625 \r\nQ 15.875 39.890625 15.1875 32.171875 \r\nz\r\n\" id=\"DejaVuSans-101\"/>\r\n     </defs>\r\n     <g transform=\"translate(14.798438 147.645156)rotate(-90)scale(0.1 -0.1)\">\r\n      <use xlink:href=\"#DejaVuSans-83\"/>\r\n      <use x=\"63.476562\" xlink:href=\"#DejaVuSans-99\"/>\r\n      <use x=\"118.457031\" xlink:href=\"#DejaVuSans-111\"/>\r\n      <use x=\"179.638672\" xlink:href=\"#DejaVuSans-114\"/>\r\n      <use x=\"218.501953\" xlink:href=\"#DejaVuSans-101\"/>\r\n      <use x=\"280.025391\" xlink:href=\"#DejaVuSans-115\"/>\r\n     </g>\r\n    </g>\r\n   </g>\r\n   <g id=\"patch_13\">\r\n    <path d=\"M 40.603125 239.758125 \r\nL 40.603125 22.318125 \r\n\" style=\"fill:none;stroke:#000000;stroke-linecap:square;stroke-linejoin:miter;stroke-width:0.8;\"/>\r\n   </g>\r\n   <g id=\"patch_14\">\r\n    <path d=\"M 375.403125 239.758125 \r\nL 375.403125 22.318125 \r\n\" style=\"fill:none;stroke:#000000;stroke-linecap:square;stroke-linejoin:miter;stroke-width:0.8;\"/>\r\n   </g>\r\n   <g id=\"patch_15\">\r\n    <path d=\"M 40.603125 239.758125 \r\nL 375.403125 239.758125 \r\n\" style=\"fill:none;stroke:#000000;stroke-linecap:square;stroke-linejoin:miter;stroke-width:0.8;\"/>\r\n   </g>\r\n   <g id=\"patch_16\">\r\n    <path d=\"M 40.603125 22.318125 \r\nL 375.403125 22.318125 \r\n\" style=\"fill:none;stroke:#000000;stroke-linecap:square;stroke-linejoin:miter;stroke-width:0.8;\"/>\r\n   </g>\r\n   <g id=\"text_13\">\r\n    <!-- 20 -->\r\n    <g transform=\"translate(60.791495 116.343744)scale(0.1 -0.1)\">\r\n     <use xlink:href=\"#DejaVuSans-50\"/>\r\n     <use x=\"63.623047\" xlink:href=\"#DejaVuSans-48\"/>\r\n    </g>\r\n   </g>\r\n   <g id=\"text_14\">\r\n    <!-- 34 -->\r\n    <defs>\r\n     <path d=\"M 37.796875 64.3125 \r\nL 12.890625 25.390625 \r\nL 37.796875 25.390625 \r\nz\r\nM 35.203125 72.90625 \r\nL 47.609375 72.90625 \r\nL 47.609375 25.390625 \r\nL 58.015625 25.390625 \r\nL 58.015625 17.1875 \r\nL 47.609375 17.1875 \r\nL 47.609375 0 \r\nL 37.796875 0 \r\nL 37.796875 17.1875 \r\nL 4.890625 17.1875 \r\nL 4.890625 26.703125 \r\nz\r\n\" id=\"DejaVuSans-52\"/>\r\n    </defs>\r\n    <g transform=\"translate(125.549716 33.509458)scale(0.1 -0.1)\">\r\n     <use xlink:href=\"#DejaVuSans-51\"/>\r\n     <use x=\"63.623047\" xlink:href=\"#DejaVuSans-52\"/>\r\n    </g>\r\n   </g>\r\n   <g id=\"text_15\">\r\n    <!-- 30 -->\r\n    <g transform=\"translate(190.307936 57.176397)scale(0.1 -0.1)\">\r\n     <use xlink:href=\"#DejaVuSans-51\"/>\r\n     <use x=\"63.623047\" xlink:href=\"#DejaVuSans-48\"/>\r\n    </g>\r\n   </g>\r\n   <g id=\"text_16\">\r\n    <!-- 35 -->\r\n    <g transform=\"translate(255.066157 27.592723)scale(0.1 -0.1)\">\r\n     <use xlink:href=\"#DejaVuSans-51\"/>\r\n     <use x=\"63.623047\" xlink:href=\"#DejaVuSans-53\"/>\r\n    </g>\r\n   </g>\r\n   <g id=\"text_17\">\r\n    <!-- 27 -->\r\n    <defs>\r\n     <path d=\"M 8.203125 72.90625 \r\nL 55.078125 72.90625 \r\nL 55.078125 68.703125 \r\nL 28.609375 0 \r\nL 18.3125 0 \r\nL 43.21875 64.59375 \r\nL 8.203125 64.59375 \r\nz\r\n\" id=\"DejaVuSans-55\"/>\r\n    </defs>\r\n    <g transform=\"translate(319.824377 74.926601)scale(0.1 -0.1)\">\r\n     <use xlink:href=\"#DejaVuSans-50\"/>\r\n     <use x=\"63.623047\" xlink:href=\"#DejaVuSans-55\"/>\r\n    </g>\r\n   </g>\r\n   <g id=\"text_18\">\r\n    <!-- 25 -->\r\n    <g transform=\"translate(83.456873 86.76007)scale(0.1 -0.1)\">\r\n     <use xlink:href=\"#DejaVuSans-50\"/>\r\n     <use x=\"63.623047\" xlink:href=\"#DejaVuSans-53\"/>\r\n    </g>\r\n   </g>\r\n   <g id=\"text_19\">\r\n    <!-- 32 -->\r\n    <g transform=\"translate(148.215093 45.342927)scale(0.1 -0.1)\">\r\n     <use xlink:href=\"#DejaVuSans-51\"/>\r\n     <use x=\"63.623047\" xlink:href=\"#DejaVuSans-50\"/>\r\n    </g>\r\n   </g>\r\n   <g id=\"text_20\">\r\n    <!-- 34 -->\r\n    <g transform=\"translate(212.973314 33.509458)scale(0.1 -0.1)\">\r\n     <use xlink:href=\"#DejaVuSans-51\"/>\r\n     <use x=\"63.623047\" xlink:href=\"#DejaVuSans-52\"/>\r\n    </g>\r\n   </g>\r\n   <g id=\"text_21\">\r\n    <!-- 20 -->\r\n    <g transform=\"translate(277.731534 116.343744)scale(0.1 -0.1)\">\r\n     <use xlink:href=\"#DejaVuSans-50\"/>\r\n     <use x=\"63.623047\" xlink:href=\"#DejaVuSans-48\"/>\r\n    </g>\r\n   </g>\r\n   <g id=\"text_22\">\r\n    <!-- 25 -->\r\n    <g transform=\"translate(342.489755 86.76007)scale(0.1 -0.1)\">\r\n     <use xlink:href=\"#DejaVuSans-50\"/>\r\n     <use x=\"63.623047\" xlink:href=\"#DejaVuSans-53\"/>\r\n    </g>\r\n   </g>\r\n   <g id=\"text_23\">\r\n    <!-- Scores by group and gender -->\r\n    <defs>\r\n     <path d=\"M 48.6875 27.296875 \r\nQ 48.6875 37.203125 44.609375 42.84375 \r\nQ 40.53125 48.484375 33.40625 48.484375 \r\nQ 26.265625 48.484375 22.1875 42.84375 \r\nQ 18.109375 37.203125 18.109375 27.296875 \r\nQ 18.109375 17.390625 22.1875 11.75 \r\nQ 26.265625 6.109375 33.40625 6.109375 \r\nQ 40.53125 6.109375 44.609375 11.75 \r\nQ 48.6875 17.390625 48.6875 27.296875 \r\nz\r\nM 18.109375 46.390625 \r\nQ 20.953125 51.265625 25.265625 53.625 \r\nQ 29.59375 56 35.59375 56 \r\nQ 45.5625 56 51.78125 48.09375 \r\nQ 58.015625 40.1875 58.015625 27.296875 \r\nQ 58.015625 14.40625 51.78125 6.484375 \r\nQ 45.5625 -1.421875 35.59375 -1.421875 \r\nQ 29.59375 -1.421875 25.265625 0.953125 \r\nQ 20.953125 3.328125 18.109375 8.203125 \r\nL 18.109375 0 \r\nL 9.078125 0 \r\nL 9.078125 75.984375 \r\nL 18.109375 75.984375 \r\nz\r\n\" id=\"DejaVuSans-98\"/>\r\n     <path d=\"M 32.171875 -5.078125 \r\nQ 28.375 -14.84375 24.75 -17.8125 \r\nQ 21.140625 -20.796875 15.09375 -20.796875 \r\nL 7.90625 -20.796875 \r\nL 7.90625 -13.28125 \r\nL 13.1875 -13.28125 \r\nQ 16.890625 -13.28125 18.9375 -11.515625 \r\nQ 21 -9.765625 23.484375 -3.21875 \r\nL 25.09375 0.875 \r\nL 2.984375 54.6875 \r\nL 12.5 54.6875 \r\nL 29.59375 11.921875 \r\nL 46.6875 54.6875 \r\nL 56.203125 54.6875 \r\nz\r\n\" id=\"DejaVuSans-121\"/>\r\n     <path d=\"M 45.40625 27.984375 \r\nQ 45.40625 37.75 41.375 43.109375 \r\nQ 37.359375 48.484375 30.078125 48.484375 \r\nQ 22.859375 48.484375 18.828125 43.109375 \r\nQ 14.796875 37.75 14.796875 27.984375 \r\nQ 14.796875 18.265625 18.828125 12.890625 \r\nQ 22.859375 7.515625 30.078125 7.515625 \r\nQ 37.359375 7.515625 41.375 12.890625 \r\nQ 45.40625 18.265625 45.40625 27.984375 \r\nz\r\nM 54.390625 6.78125 \r\nQ 54.390625 -7.171875 48.1875 -13.984375 \r\nQ 42 -20.796875 29.203125 -20.796875 \r\nQ 24.46875 -20.796875 20.265625 -20.09375 \r\nQ 16.0625 -19.390625 12.109375 -17.921875 \r\nL 12.109375 -9.1875 \r\nQ 16.0625 -11.328125 19.921875 -12.34375 \r\nQ 23.78125 -13.375 27.78125 -13.375 \r\nQ 36.625 -13.375 41.015625 -8.765625 \r\nQ 45.40625 -4.15625 45.40625 5.171875 \r\nL 45.40625 9.625 \r\nQ 42.625 4.78125 38.28125 2.390625 \r\nQ 33.9375 0 27.875 0 \r\nQ 17.828125 0 11.671875 7.65625 \r\nQ 5.515625 15.328125 5.515625 27.984375 \r\nQ 5.515625 40.671875 11.671875 48.328125 \r\nQ 17.828125 56 27.875 56 \r\nQ 33.9375 56 38.28125 53.609375 \r\nQ 42.625 51.21875 45.40625 46.390625 \r\nL 45.40625 54.6875 \r\nL 54.390625 54.6875 \r\nz\r\n\" id=\"DejaVuSans-103\"/>\r\n     <path d=\"M 8.5 21.578125 \r\nL 8.5 54.6875 \r\nL 17.484375 54.6875 \r\nL 17.484375 21.921875 \r\nQ 17.484375 14.15625 20.5 10.265625 \r\nQ 23.53125 6.390625 29.59375 6.390625 \r\nQ 36.859375 6.390625 41.078125 11.03125 \r\nQ 45.3125 15.671875 45.3125 23.6875 \r\nL 45.3125 54.6875 \r\nL 54.296875 54.6875 \r\nL 54.296875 0 \r\nL 45.3125 0 \r\nL 45.3125 8.40625 \r\nQ 42.046875 3.421875 37.71875 1 \r\nQ 33.40625 -1.421875 27.6875 -1.421875 \r\nQ 18.265625 -1.421875 13.375 4.4375 \r\nQ 8.5 10.296875 8.5 21.578125 \r\nz\r\nM 31.109375 56 \r\nz\r\n\" id=\"DejaVuSans-117\"/>\r\n     <path d=\"M 34.28125 27.484375 \r\nQ 23.390625 27.484375 19.1875 25 \r\nQ 14.984375 22.515625 14.984375 16.5 \r\nQ 14.984375 11.71875 18.140625 8.90625 \r\nQ 21.296875 6.109375 26.703125 6.109375 \r\nQ 34.1875 6.109375 38.703125 11.40625 \r\nQ 43.21875 16.703125 43.21875 25.484375 \r\nL 43.21875 27.484375 \r\nz\r\nM 52.203125 31.203125 \r\nL 52.203125 0 \r\nL 43.21875 0 \r\nL 43.21875 8.296875 \r\nQ 40.140625 3.328125 35.546875 0.953125 \r\nQ 30.953125 -1.421875 24.3125 -1.421875 \r\nQ 15.921875 -1.421875 10.953125 3.296875 \r\nQ 6 8.015625 6 15.921875 \r\nQ 6 25.140625 12.171875 29.828125 \r\nQ 18.359375 34.515625 30.609375 34.515625 \r\nL 43.21875 34.515625 \r\nL 43.21875 35.40625 \r\nQ 43.21875 41.609375 39.140625 45 \r\nQ 35.0625 48.390625 27.6875 48.390625 \r\nQ 23 48.390625 18.546875 47.265625 \r\nQ 14.109375 46.140625 10.015625 43.890625 \r\nL 10.015625 52.203125 \r\nQ 14.9375 54.109375 19.578125 55.046875 \r\nQ 24.21875 56 28.609375 56 \r\nQ 40.484375 56 46.34375 49.84375 \r\nQ 52.203125 43.703125 52.203125 31.203125 \r\nz\r\n\" id=\"DejaVuSans-97\"/>\r\n    </defs>\r\n    <g transform=\"translate(123.104062 16.318125)scale(0.12 -0.12)\">\r\n     <use xlink:href=\"#DejaVuSans-83\"/>\r\n     <use x=\"63.476562\" xlink:href=\"#DejaVuSans-99\"/>\r\n     <use x=\"118.457031\" xlink:href=\"#DejaVuSans-111\"/>\r\n     <use x=\"179.638672\" xlink:href=\"#DejaVuSans-114\"/>\r\n     <use x=\"218.501953\" xlink:href=\"#DejaVuSans-101\"/>\r\n     <use x=\"280.025391\" xlink:href=\"#DejaVuSans-115\"/>\r\n     <use x=\"332.125\" xlink:href=\"#DejaVuSans-32\"/>\r\n     <use x=\"363.912109\" xlink:href=\"#DejaVuSans-98\"/>\r\n     <use x=\"427.388672\" xlink:href=\"#DejaVuSans-121\"/>\r\n     <use x=\"486.568359\" xlink:href=\"#DejaVuSans-32\"/>\r\n     <use x=\"518.355469\" xlink:href=\"#DejaVuSans-103\"/>\r\n     <use x=\"581.832031\" xlink:href=\"#DejaVuSans-114\"/>\r\n     <use x=\"620.695312\" xlink:href=\"#DejaVuSans-111\"/>\r\n     <use x=\"681.876953\" xlink:href=\"#DejaVuSans-117\"/>\r\n     <use x=\"745.255859\" xlink:href=\"#DejaVuSans-112\"/>\r\n     <use x=\"808.732422\" xlink:href=\"#DejaVuSans-32\"/>\r\n     <use x=\"840.519531\" xlink:href=\"#DejaVuSans-97\"/>\r\n     <use x=\"901.798828\" xlink:href=\"#DejaVuSans-110\"/>\r\n     <use x=\"965.177734\" xlink:href=\"#DejaVuSans-100\"/>\r\n     <use x=\"1028.654297\" xlink:href=\"#DejaVuSans-32\"/>\r\n     <use x=\"1060.441406\" xlink:href=\"#DejaVuSans-103\"/>\r\n     <use x=\"1123.917969\" xlink:href=\"#DejaVuSans-101\"/>\r\n     <use x=\"1185.441406\" xlink:href=\"#DejaVuSans-110\"/>\r\n     <use x=\"1248.820312\" xlink:href=\"#DejaVuSans-100\"/>\r\n     <use x=\"1312.296875\" xlink:href=\"#DejaVuSans-101\"/>\r\n     <use x=\"1373.820312\" xlink:href=\"#DejaVuSans-114\"/>\r\n    </g>\r\n   </g>\r\n   <g id=\"legend_1\">\r\n    <g id=\"patch_17\">\r\n     <path d=\"M 298.753125 59.674375 \r\nL 368.403125 59.674375 \r\nQ 370.403125 59.674375 370.403125 57.674375 \r\nL 370.403125 29.318125 \r\nQ 370.403125 27.318125 368.403125 27.318125 \r\nL 298.753125 27.318125 \r\nQ 296.753125 27.318125 296.753125 29.318125 \r\nL 296.753125 57.674375 \r\nQ 296.753125 59.674375 298.753125 59.674375 \r\nz\r\n\" style=\"fill:#ffffff;opacity:0.8;stroke:#cccccc;stroke-linejoin:miter;\"/>\r\n    </g>\r\n    <g id=\"patch_18\">\r\n     <path d=\"M 300.753125 38.916562 \r\nL 320.753125 38.916562 \r\nL 320.753125 31.916562 \r\nL 300.753125 31.916562 \r\nz\r\n\" style=\"fill:#1f77b4;\"/>\r\n    </g>\r\n    <g id=\"text_24\">\r\n     <!-- Men -->\r\n     <defs>\r\n      <path d=\"M 9.8125 72.90625 \r\nL 24.515625 72.90625 \r\nL 43.109375 23.296875 \r\nL 61.8125 72.90625 \r\nL 76.515625 72.90625 \r\nL 76.515625 0 \r\nL 66.890625 0 \r\nL 66.890625 64.015625 \r\nL 48.09375 14.015625 \r\nL 38.1875 14.015625 \r\nL 19.390625 64.015625 \r\nL 19.390625 0 \r\nL 9.8125 0 \r\nz\r\n\" id=\"DejaVuSans-77\"/>\r\n     </defs>\r\n     <g transform=\"translate(328.753125 38.916562)scale(0.1 -0.1)\">\r\n      <use xlink:href=\"#DejaVuSans-77\"/>\r\n      <use x=\"86.279297\" xlink:href=\"#DejaVuSans-101\"/>\r\n      <use x=\"147.802734\" xlink:href=\"#DejaVuSans-110\"/>\r\n     </g>\r\n    </g>\r\n    <g id=\"patch_19\">\r\n     <path d=\"M 300.753125 53.594687 \r\nL 320.753125 53.594687 \r\nL 320.753125 46.594687 \r\nL 300.753125 46.594687 \r\nz\r\n\" style=\"fill:#ff7f0e;\"/>\r\n    </g>\r\n    <g id=\"text_25\">\r\n     <!-- Women -->\r\n     <defs>\r\n      <path d=\"M 3.328125 72.90625 \r\nL 13.28125 72.90625 \r\nL 28.609375 11.28125 \r\nL 43.890625 72.90625 \r\nL 54.984375 72.90625 \r\nL 70.3125 11.28125 \r\nL 85.59375 72.90625 \r\nL 95.609375 72.90625 \r\nL 77.296875 0 \r\nL 64.890625 0 \r\nL 49.515625 63.28125 \r\nL 33.984375 0 \r\nL 21.578125 0 \r\nz\r\n\" id=\"DejaVuSans-87\"/>\r\n      <path d=\"M 52 44.1875 \r\nQ 55.375 50.25 60.0625 53.125 \r\nQ 64.75 56 71.09375 56 \r\nQ 79.640625 56 84.28125 50.015625 \r\nQ 88.921875 44.046875 88.921875 33.015625 \r\nL 88.921875 0 \r\nL 79.890625 0 \r\nL 79.890625 32.71875 \r\nQ 79.890625 40.578125 77.09375 44.375 \r\nQ 74.3125 48.1875 68.609375 48.1875 \r\nQ 61.625 48.1875 57.5625 43.546875 \r\nQ 53.515625 38.921875 53.515625 30.90625 \r\nL 53.515625 0 \r\nL 44.484375 0 \r\nL 44.484375 32.71875 \r\nQ 44.484375 40.625 41.703125 44.40625 \r\nQ 38.921875 48.1875 33.109375 48.1875 \r\nQ 26.21875 48.1875 22.15625 43.53125 \r\nQ 18.109375 38.875 18.109375 30.90625 \r\nL 18.109375 0 \r\nL 9.078125 0 \r\nL 9.078125 54.6875 \r\nL 18.109375 54.6875 \r\nL 18.109375 46.1875 \r\nQ 21.1875 51.21875 25.484375 53.609375 \r\nQ 29.78125 56 35.6875 56 \r\nQ 41.65625 56 45.828125 52.96875 \r\nQ 50 49.953125 52 44.1875 \r\nz\r\n\" id=\"DejaVuSans-109\"/>\r\n     </defs>\r\n     <g transform=\"translate(328.753125 53.594687)scale(0.1 -0.1)\">\r\n      <use xlink:href=\"#DejaVuSans-87\"/>\r\n      <use x=\"93.001953\" xlink:href=\"#DejaVuSans-111\"/>\r\n      <use x=\"154.183594\" xlink:href=\"#DejaVuSans-109\"/>\r\n      <use x=\"251.595703\" xlink:href=\"#DejaVuSans-101\"/>\r\n      <use x=\"313.119141\" xlink:href=\"#DejaVuSans-110\"/>\r\n     </g>\r\n    </g>\r\n   </g>\r\n  </g>\r\n </g>\r\n <defs>\r\n  <clipPath id=\"p205166646f\">\r\n   <rect height=\"217.44\" width=\"334.8\" x=\"40.603125\" y=\"22.318125\"/>\r\n  </clipPath>\r\n </defs>\r\n</svg>\r\n",
      "image/png": "[encoded data removed]"
     },
     "metadata": {
      "needs_background": "light"
     }
    }
   ],
   "source": [
    "labels = ['Top Post', '2nd Top Post', '3rd Top Post','','']\n",
    "men_means = [20, 34, 30, 35, 27]\n",
    "women_means = [25, 32, 34, 20, 25]\n",
    "\n",
    "x = np.arange(len(labels))  # the label locations\n",
    "width = 0.35  # the width of the bars\n",
    "\n",
    "fig, ax = plt.subplots()\n",
    "rects1 = ax.bar(x - width/2, men_means, width, label='Men')\n",
    "rects2 = ax.bar(x + width/2, women_means, width, label='Women')\n",
    "\n",
    "# Add some text for labels, title and custom x-axis tick labels, etc.\n",
    "ax.set_ylabel('Scores')\n",
    "ax.set_title('Scores by group and gender')\n",
    "ax.set_xticks(x)\n",
    "ax.set_xticklabels(labels)\n",
    "ax.legend()\n",
    "\n",
    "\n",
    "def autolabel(rects):\n",
    "    \"\"\"Attach a text label above each bar in *rects*, displaying its height.\"\"\"\n",
    "    for rect in rects:\n",
    "        height = rect.get_height()\n",
    "        ax.annotate('{}'.format(height),\n",
    "                    xy=(rect.get_x() + rect.get_width() / 2, height),\n",
    "                    xytext=(0, 3),  # 3 points vertical offset\n",
    "                    textcoords=\"offset points\",\n",
    "                    ha='center', va='bottom')\n",
    "\n",
    "\n",
    "autolabel(rects1)\n",
    "autolabel(rects2)\n",
    "\n",
    "#fig.tight_layout()\n",
    "\n",
    "plt.show()"
   ]
  },
  {
   "cell_type": "code",
   "execution_count": null,
   "metadata": {},
   "outputs": [],
   "source": []
  }
 ]
}