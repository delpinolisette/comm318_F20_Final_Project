{
 "metadata": {
  "language_info": {
   "codemirror_mode": {
    "name": "ipython",
    "version": 3
   },
   "file_extension": ".py",
   "mimetype": "text/x-python",
   "name": "python",
   "nbconvert_exporter": "python",
   "pygments_lexer": "ipython3",
   "version": "3.8.3-final"
  },
  "orig_nbformat": 2,
  "kernelspec": {
   "name": "python3",
   "display_name": "Python 3",
   "language": "python"
  }
 },
 "nbformat": 4,
 "nbformat_minor": 2,
 "cells": [
  {
   "source": [
    "# R/CareerGuidance Data Exploration\n",
    "\n",
    "This notebook contains my data exploration for the subreddit [r/CareerGuidance](https://www.reddit.com/r/careerguidance/), a popular career guidance forum on Reddit. \n",
    "\n",
    "I want to see if I can find any change in patterns after March 2020. What kind of posts trended after the start of Coronavirus pandemic lockdown in the US?\n",
    "\n",
    "### Preliminary Questions:\n",
    "\n",
    "1. What is the average number of comments (posts with a higher amount of comments have more user engagement). Median number of commnets? Median score?\n",
    "2. Are most posts (ranked top 1000 of all time) created before or after March 2020?\n",
    "3. What is the post with the highest number of comments? (most engagement)?\n",
    "4. if we subset the data frame by month, what is the top comment for each month? what is its score? which is the one with the highest amount of user engagement?\n",
    "5. \n",
    "\n"
   ],
   "cell_type": "markdown",
   "metadata": {}
  },
  {
   "cell_type": "code",
   "execution_count": 11,
   "metadata": {},
   "outputs": [],
   "source": [
    "import pandas as pd"
   ]
  },
  {
   "cell_type": "code",
   "execution_count": 16,
   "metadata": {},
   "outputs": [
    {
     "output_type": "execute_result",
     "data": {
      "text/plain": [
       "   Unnamed: 0                                              title  score  \\\n",
       "0           0                             Anyone else depressed?   1484   \n",
       "1           1  Are you seriously trying to quit your job duri...   1250   \n",
       "2           2  Anyone else graduated, got in a 'career' and r...   1147   \n",
       "3           3  \"wE'vE dEcIdEd NoT tO mOvE fOrWaRd At ThIs TiM...   1067   \n",
       "4           4  Anyone else feel ‘trapped’ in their job becaus...   1014   \n",
       "\n",
       "       id       subreddit                                                url  \\\n",
       "0  iuq5bq  careerguidance  https://www.reddit.com/r/careerguidance/commen...   \n",
       "1  g4d70n  careerguidance  https://www.reddit.com/r/careerguidance/commen...   \n",
       "2  gh3k6s  careerguidance  https://www.reddit.com/r/careerguidance/commen...   \n",
       "3  gx9vcl  careerguidance  https://www.reddit.com/r/careerguidance/commen...   \n",
       "4  i75f39  careerguidance  https://www.reddit.com/r/careerguidance/commen...   \n",
       "\n",
       "   num_comments                                               body  \\\n",
       "0           315  Anyone else in their mid-20s out of college, w...   \n",
       "1           188  This will probably be downvoted to hell. That’...   \n",
       "2           233  It's probably the number 1 thing driving me in...   \n",
       "3           315  I'm so sick of these emails. I want to scream ...   \n",
       "4           204  I’ve been in this shitty graduate job for almo...   \n",
       "\n",
       "        created         date_created  \n",
       "0  1.600399e+09  2020-09-17 23:08:49  \n",
       "1  1.587351e+09  2020-04-19 22:57:55  \n",
       "2  1.589154e+09  2020-05-10 19:32:34  \n",
       "3  1.591410e+09  2020-06-05 22:17:40  \n",
       "4  1.597097e+09  2020-08-10 18:05:10  "
      ],
      "text/html": "<div>\n<style scoped>\n    .dataframe tbody tr th:only-of-type {\n        vertical-align: middle;\n    }\n\n    .dataframe tbody tr th {\n        vertical-align: top;\n    }\n\n    .dataframe thead th {\n        text-align: right;\n    }\n</style>\n<table border=\"1\" class=\"dataframe\">\n  <thead>\n    <tr style=\"text-align: right;\">\n      <th></th>\n      <th>Unnamed: 0</th>\n      <th>title</th>\n      <th>score</th>\n      <th>id</th>\n      <th>subreddit</th>\n      <th>url</th>\n      <th>num_comments</th>\n      <th>body</th>\n      <th>created</th>\n      <th>date_created</th>\n    </tr>\n  </thead>\n  <tbody>\n    <tr>\n      <th>0</th>\n      <td>0</td>\n      <td>Anyone else depressed?</td>\n      <td>1484</td>\n      <td>iuq5bq</td>\n      <td>careerguidance</td>\n      <td>https://www.reddit.com/r/careerguidance/commen...</td>\n      <td>315</td>\n      <td>Anyone else in their mid-20s out of college, w...</td>\n      <td>1.600399e+09</td>\n      <td>2020-09-17 23:08:49</td>\n    </tr>\n    <tr>\n      <th>1</th>\n      <td>1</td>\n      <td>Are you seriously trying to quit your job duri...</td>\n      <td>1250</td>\n      <td>g4d70n</td>\n      <td>careerguidance</td>\n      <td>https://www.reddit.com/r/careerguidance/commen...</td>\n      <td>188</td>\n      <td>This will probably be downvoted to hell. That’...</td>\n      <td>1.587351e+09</td>\n      <td>2020-04-19 22:57:55</td>\n    </tr>\n    <tr>\n      <th>2</th>\n      <td>2</td>\n      <td>Anyone else graduated, got in a 'career' and r...</td>\n      <td>1147</td>\n      <td>gh3k6s</td>\n      <td>careerguidance</td>\n      <td>https://www.reddit.com/r/careerguidance/commen...</td>\n      <td>233</td>\n      <td>It's probably the number 1 thing driving me in...</td>\n      <td>1.589154e+09</td>\n      <td>2020-05-10 19:32:34</td>\n    </tr>\n    <tr>\n      <th>3</th>\n      <td>3</td>\n      <td>\"wE'vE dEcIdEd NoT tO mOvE fOrWaRd At ThIs TiM...</td>\n      <td>1067</td>\n      <td>gx9vcl</td>\n      <td>careerguidance</td>\n      <td>https://www.reddit.com/r/careerguidance/commen...</td>\n      <td>315</td>\n      <td>I'm so sick of these emails. I want to scream ...</td>\n      <td>1.591410e+09</td>\n      <td>2020-06-05 22:17:40</td>\n    </tr>\n    <tr>\n      <th>4</th>\n      <td>4</td>\n      <td>Anyone else feel ‘trapped’ in their job becaus...</td>\n      <td>1014</td>\n      <td>i75f39</td>\n      <td>careerguidance</td>\n      <td>https://www.reddit.com/r/careerguidance/commen...</td>\n      <td>204</td>\n      <td>I’ve been in this shitty graduate job for almo...</td>\n      <td>1.597097e+09</td>\n      <td>2020-08-10 18:05:10</td>\n    </tr>\n  </tbody>\n</table>\n</div>"
     },
     "metadata": {},
     "execution_count": 16
    }
   ],
   "source": [
    "df = pd.read_csv('../data/raw/posts_career_guidance.csv')\n",
    "# that's how you do it:)\n",
    "\n",
    "\n",
    "df.shape\n",
    "df.columns\n",
    "df.head()"
   ]
  },
  {
   "source": [
    "After some analysis, we find this data fram has :\n",
    "\n"
   ],
   "cell_type": "markdown",
   "metadata": {}
  }
 ]
}