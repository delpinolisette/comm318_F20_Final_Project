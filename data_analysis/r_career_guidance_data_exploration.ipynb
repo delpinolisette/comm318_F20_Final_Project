{
 "metadata": {
  "language_info": {
   "codemirror_mode": {
    "name": "ipython",
    "version": 3
   },
   "file_extension": ".py",
   "mimetype": "text/x-python",
   "name": "python",
   "nbconvert_exporter": "python",
   "pygments_lexer": "ipython3",
   "version": "3.8.3-final"
  },
  "orig_nbformat": 2,
  "kernelspec": {
   "name": "python3",
   "display_name": "Python 3",
   "language": "python"
  }
 },
 "nbformat": 4,
 "nbformat_minor": 2,
 "cells": [
  {
   "source": [
    "# R/CareerGuidance Data Exploration\n",
    "\n",
    "This notebook contains my data exploration for the subreddit [r/CareerGuidance](https://www.reddit.com/r/careerguidance/), a popular career guidance forum on Reddit. \n",
    "\n",
    "I want to see if I can find any change in patterns after March 2020. What kind of posts trended after the start of Coronavirus pandemic lockdown in the US?\n",
    "\n",
    "### Preliminary Questions:\n",
    "\n",
    "1. What is the average number of comments (posts with a higher amount of comments have more user engagement). Median number of commnets? Median score?\n",
    "2. Are most posts (ranked top 1000 of all time) created before or after March 2020?\n",
    "3. What is the post with the highest number of comments? (most engagement)?\n",
    "4. if we subset the data frame by month, what is the top comment for each month? what is its score? which is the one with the highest amount of user engagement?\n",
    "5. \n",
    "\n"
   ],
   "cell_type": "markdown",
   "metadata": {}
  },
  {
   "cell_type": "code",
   "execution_count": 14,
   "metadata": {},
   "outputs": [],
   "source": [
    "import pandas as pd"
   ]
  },
  {
   "cell_type": "code",
   "execution_count": 15,
   "metadata": {},
   "outputs": [
    {
     "output_type": "execute_result",
     "data": {
      "text/plain": [
       "   Unnamed: 0                                              title  score  \\\n",
       "0           0                             Anyone else depressed?   1484   \n",
       "1           1  Are you seriously trying to quit your job duri...   1250   \n",
       "2           2  Anyone else graduated, got in a 'career' and r...   1147   \n",
       "3           3  \"wE'vE dEcIdEd NoT tO mOvE fOrWaRd At ThIs TiM...   1067   \n",
       "4           4  Anyone else feel ‘trapped’ in their job becaus...   1014   \n",
       "\n",
       "       id       subreddit                                                url  \\\n",
       "0  iuq5bq  careerguidance  https://www.reddit.com/r/careerguidance/commen...   \n",
       "1  g4d70n  careerguidance  https://www.reddit.com/r/careerguidance/commen...   \n",
       "2  gh3k6s  careerguidance  https://www.reddit.com/r/careerguidance/commen...   \n",
       "3  gx9vcl  careerguidance  https://www.reddit.com/r/careerguidance/commen...   \n",
       "4  i75f39  careerguidance  https://www.reddit.com/r/careerguidance/commen...   \n",
       "\n",
       "   num_comments                                               body  \\\n",
       "0           315  Anyone else in their mid-20s out of college, w...   \n",
       "1           188  This will probably be downvoted to hell. That’...   \n",
       "2           233  It's probably the number 1 thing driving me in...   \n",
       "3           315  I'm so sick of these emails. I want to scream ...   \n",
       "4           204  I’ve been in this shitty graduate job for almo...   \n",
       "\n",
       "        created         date_created  \n",
       "0  1.600399e+09  2020-09-17 23:08:49  \n",
       "1  1.587351e+09  2020-04-19 22:57:55  \n",
       "2  1.589154e+09  2020-05-10 19:32:34  \n",
       "3  1.591410e+09  2020-06-05 22:17:40  \n",
       "4  1.597097e+09  2020-08-10 18:05:10  "
      ],
      "text/html": "<div>\n<style scoped>\n    .dataframe tbody tr th:only-of-type {\n        vertical-align: middle;\n    }\n\n    .dataframe tbody tr th {\n        vertical-align: top;\n    }\n\n    .dataframe thead th {\n        text-align: right;\n    }\n</style>\n<table border=\"1\" class=\"dataframe\">\n  <thead>\n    <tr style=\"text-align: right;\">\n      <th></th>\n      <th>Unnamed: 0</th>\n      <th>title</th>\n      <th>score</th>\n      <th>id</th>\n      <th>subreddit</th>\n      <th>url</th>\n      <th>num_comments</th>\n      <th>body</th>\n      <th>created</th>\n      <th>date_created</th>\n    </tr>\n  </thead>\n  <tbody>\n    <tr>\n      <th>0</th>\n      <td>0</td>\n      <td>Anyone else depressed?</td>\n      <td>1484</td>\n      <td>iuq5bq</td>\n      <td>careerguidance</td>\n      <td>https://www.reddit.com/r/careerguidance/commen...</td>\n      <td>315</td>\n      <td>Anyone else in their mid-20s out of college, w...</td>\n      <td>1.600399e+09</td>\n      <td>2020-09-17 23:08:49</td>\n    </tr>\n    <tr>\n      <th>1</th>\n      <td>1</td>\n      <td>Are you seriously trying to quit your job duri...</td>\n      <td>1250</td>\n      <td>g4d70n</td>\n      <td>careerguidance</td>\n      <td>https://www.reddit.com/r/careerguidance/commen...</td>\n      <td>188</td>\n      <td>This will probably be downvoted to hell. That’...</td>\n      <td>1.587351e+09</td>\n      <td>2020-04-19 22:57:55</td>\n    </tr>\n    <tr>\n      <th>2</th>\n      <td>2</td>\n      <td>Anyone else graduated, got in a 'career' and r...</td>\n      <td>1147</td>\n      <td>gh3k6s</td>\n      <td>careerguidance</td>\n      <td>https://www.reddit.com/r/careerguidance/commen...</td>\n      <td>233</td>\n      <td>It's probably the number 1 thing driving me in...</td>\n      <td>1.589154e+09</td>\n      <td>2020-05-10 19:32:34</td>\n    </tr>\n    <tr>\n      <th>3</th>\n      <td>3</td>\n      <td>\"wE'vE dEcIdEd NoT tO mOvE fOrWaRd At ThIs TiM...</td>\n      <td>1067</td>\n      <td>gx9vcl</td>\n      <td>careerguidance</td>\n      <td>https://www.reddit.com/r/careerguidance/commen...</td>\n      <td>315</td>\n      <td>I'm so sick of these emails. I want to scream ...</td>\n      <td>1.591410e+09</td>\n      <td>2020-06-05 22:17:40</td>\n    </tr>\n    <tr>\n      <th>4</th>\n      <td>4</td>\n      <td>Anyone else feel ‘trapped’ in their job becaus...</td>\n      <td>1014</td>\n      <td>i75f39</td>\n      <td>careerguidance</td>\n      <td>https://www.reddit.com/r/careerguidance/commen...</td>\n      <td>204</td>\n      <td>I’ve been in this shitty graduate job for almo...</td>\n      <td>1.597097e+09</td>\n      <td>2020-08-10 18:05:10</td>\n    </tr>\n  </tbody>\n</table>\n</div>"
     },
     "metadata": {},
     "execution_count": 15
    }
   ],
   "source": [
    "df = pd.read_csv('../data/raw/posts_career_guidance.csv')\n",
    "# that's how you do it:) (navigating up i mean)\n",
    "\n",
    "\n",
    "df.shape\n",
    "df.columns\n",
    "df.head()"
   ]
  },
  {
   "cell_type": "code",
   "execution_count": 16,
   "metadata": {},
   "outputs": [
    {
     "output_type": "execute_result",
     "data": {
      "text/plain": [
       "Index(['index', 'title', 'score', 'id', 'subreddit', 'url', 'num_comments',\n",
       "       'body', 'created', 'date_created'],\n",
       "      dtype='object')"
      ]
     },
     "metadata": {},
     "execution_count": 16
    }
   ],
   "source": [
    "# let's rename these columns\n",
    "\n",
    "df = df.rename(columns={'Unnamed: 0':'index'})\n",
    "\n",
    "df.columns\n",
    "\n"
   ]
  },
  {
   "source": [
    "After some analysis, we find this data fram has :\n",
    "\n",
    "- 1000 observations by 9 variables (10 if you count the pandas dataframe index).\n",
    "- These variables are:\n",
    "    - Post Title\n",
    "    - Post Score in Upvotes / Downvotes\n",
    "    - Post ID \n",
    "    - Subreddit Name \n",
    "    - Direct Url Link to Post \n",
    "    - Created in seconds (Computer Time)\n",
    "    - Date Created (obtained from Computer Time)\n",
    "\n",
    "### Next Steps \n",
    "I now want to\n",
    "\n",
    "- [x] Find the median post score. \n",
    "- [x] Find the median number of comments \n",
    "- [x] Find the average number of comments \n",
    "- [x] Create month index column\n",
    "- [ ] Subset data frame by month\n",
    "- [ ] Find the most commented post from each month.\n",
    "- [ ] Find the most upvoted post from each month. Compare to most commented. \n",
    "- [ ] The highest commented AND highest upvoted post of all time\n",
    "\n",
    "\n",
    "### Why do I want these Statistics?\n",
    "\n",
    "1. The median of a sample is less susepctible to outliers than the mean is, so it is better to use as something to compare scores with, but I also still want to see that mean!\n",
    "2. I wannt to see how the top post by month changed during the progression of the Coronavirus Lockdown Period. \n",
    "3. More posts implies a higher level of user engagement, even if it is a very rough measurement of engagement. I wasnt to see which posts were most engaging. \n",
    "4. However, more upvotes implies more people \"agree\" with the sentiment the poster has. \n",
    "    \n",
    "\n"
   ],
   "cell_type": "markdown",
   "metadata": {}
  },
  {
   "cell_type": "code",
   "execution_count": 17,
   "metadata": {},
   "outputs": [
    {
     "output_type": "execute_result",
     "data": {
      "text/plain": [
       "             index        score  num_comments       created\n",
       "count  1000.000000  1000.000000   1000.000000  1.000000e+03\n",
       "mean    499.500000   208.505000     77.013000  1.578423e+09\n",
       "std     288.819436   151.905943     55.806121  2.026603e+07\n",
       "min       0.000000    73.000000      6.000000  1.486941e+09\n",
       "25%     249.750000   113.000000     40.750000  1.563830e+09\n",
       "50%     499.500000   164.500000     60.500000  1.581066e+09\n",
       "75%     749.250000   252.750000     98.000000  1.595177e+09\n",
       "max     999.000000  1484.000000    579.000000  1.608708e+09"
      ],
      "text/html": "<div>\n<style scoped>\n    .dataframe tbody tr th:only-of-type {\n        vertical-align: middle;\n    }\n\n    .dataframe tbody tr th {\n        vertical-align: top;\n    }\n\n    .dataframe thead th {\n        text-align: right;\n    }\n</style>\n<table border=\"1\" class=\"dataframe\">\n  <thead>\n    <tr style=\"text-align: right;\">\n      <th></th>\n      <th>index</th>\n      <th>score</th>\n      <th>num_comments</th>\n      <th>created</th>\n    </tr>\n  </thead>\n  <tbody>\n    <tr>\n      <th>count</th>\n      <td>1000.000000</td>\n      <td>1000.000000</td>\n      <td>1000.000000</td>\n      <td>1.000000e+03</td>\n    </tr>\n    <tr>\n      <th>mean</th>\n      <td>499.500000</td>\n      <td>208.505000</td>\n      <td>77.013000</td>\n      <td>1.578423e+09</td>\n    </tr>\n    <tr>\n      <th>std</th>\n      <td>288.819436</td>\n      <td>151.905943</td>\n      <td>55.806121</td>\n      <td>2.026603e+07</td>\n    </tr>\n    <tr>\n      <th>min</th>\n      <td>0.000000</td>\n      <td>73.000000</td>\n      <td>6.000000</td>\n      <td>1.486941e+09</td>\n    </tr>\n    <tr>\n      <th>25%</th>\n      <td>249.750000</td>\n      <td>113.000000</td>\n      <td>40.750000</td>\n      <td>1.563830e+09</td>\n    </tr>\n    <tr>\n      <th>50%</th>\n      <td>499.500000</td>\n      <td>164.500000</td>\n      <td>60.500000</td>\n      <td>1.581066e+09</td>\n    </tr>\n    <tr>\n      <th>75%</th>\n      <td>749.250000</td>\n      <td>252.750000</td>\n      <td>98.000000</td>\n      <td>1.595177e+09</td>\n    </tr>\n    <tr>\n      <th>max</th>\n      <td>999.000000</td>\n      <td>1484.000000</td>\n      <td>579.000000</td>\n      <td>1.608708e+09</td>\n    </tr>\n  </tbody>\n</table>\n</div>"
     },
     "metadata": {},
     "execution_count": 17
    }
   ],
   "source": [
    "# median of entire data frame\n",
    "# there are no missing values here\n",
    "\n",
    "df.describe()\n",
    "\n",
    "\n",
    "# I see why they use millisecond time, to make it easier to parse, hahaha. \n",
    "# to get the dates i will have to get creative and make a new column for month it was posted in. maybe date_created.contains??\n",
    "\n",
    "\n",
    "# Average score: 208.5 points. \n",
    "# Average number of comments : 77.01\n",
    "# Average post_date (whatever that means right now): Tuesday, January 7, 2020 6:50:00 PM (also known as 1.578423e+09) in epoch time. "
   ]
  },
  {
   "cell_type": "code",
   "execution_count": 18,
   "metadata": {},
   "outputs": [
    {
     "output_type": "execute_result",
     "data": {
      "text/plain": [
       "1581066391.0"
      ]
     },
     "metadata": {},
     "execution_count": 18
    }
   ],
   "source": [
    "# get some medians now\n",
    "\n",
    "df['score'].median()\n",
    "df['num_comments'].median()\n",
    "df['created'].median()\n",
    "\n",
    "\n",
    "# Median Report:\n",
    "# median Score: 164.5\n",
    "# median number of comments - 60.5\n",
    "# Median date created/ posted: Friday, February 7, 2020 9:06:31 AM (a bit higher than the average date, does this mean top posts skew to before the pandemic?)"
   ]
  },
  {
   "cell_type": "code",
   "execution_count": 19,
   "metadata": {
    "tags": []
   },
   "outputs": [],
   "source": [
    "# Now we subset by month by creating a new column called....\"month\", haha. \n",
    "\n",
    "df['month'] = df['date_created'] # initialize\n",
    "\n",
    "df.columns[0]\n",
    "df.columns[0] # this only returns a string haha\n",
    "\n",
    "type(df['date_created'][2])\n",
    "iter = 0\n",
    "\n",
    "for x in df['date_created']:\n",
    "    #print(iter)\n",
    "    #print(df['date_created'][iter])\n",
    "\n",
    "    # actual logic here\n",
    "    if '2020-03' in x:\n",
    "        #print(df['month'][iter]) #check\n",
    "        df['month'][iter] = 'March'\n",
    "        #print(df['month'][iter])\n",
    "    if '2020-04' in x:\n",
    "        #print(df['month'][iter]) #check\n",
    "        df['month'][iter] = 'April'\n",
    "        #print(df['month'][iter])\n",
    "    if '2020-05' in x:\n",
    "        #print(df['month'][iter]) #check\n",
    "        df['month'][iter] = 'May'\n",
    "        #print(df['month'][iter])\n",
    "    if '2020-06' in x:\n",
    "        #print(df['month'][iter]) #check\n",
    "        df['month'][iter] = 'June'\n",
    "        #print(df['month'][iter])\n",
    "    if '2020-07' in x:\n",
    "        #print(df['month'][iter]) #check\n",
    "        df['month'][iter] = 'July'\n",
    "        #print(df['month'][iter])\n",
    "    if '2020-08' in x:\n",
    "        #print(df['month'][iter]) #check\n",
    "        df['month'][iter] = 'August'\n",
    "        #print(df['month'][iter])\n",
    "    if '2020-09' in x:\n",
    "        #print(df['month'][iter]) #check\n",
    "        df['month'][iter] = 'September'\n",
    "        #print(df['month'][iter])\n",
    "    if '2020-10' in x:\n",
    "        #print(df['month'][iter]) #check\n",
    "        df['month'][iter] = 'October'\n",
    "        #print(df['month'][iter])\n",
    "    if '2020-11' in x:\n",
    "        #print(df['month'][iter]) #check\n",
    "        df['month'][iter] = 'November'\n",
    "        #print(df['month'][iter])\n",
    "    if '2020-12' in x:\n",
    "        #print(df['month'][iter]) #check\n",
    "        df['month'][iter] = 'December'\n",
    "        #print(df['month'][iter])\n",
    "    iter+=1\n",
    "\n",
    "\n",
    "#df.head()\n",
    "\n"
   ]
  },
  {
   "cell_type": "code",
   "execution_count": 20,
   "metadata": {},
   "outputs": [],
   "source": [
    " # was testing out logic here\n",
    " #print('2020-05' in df['date_created'][2])\n",
    "\n",
    " #print(df['date_created'][2])"
   ]
  },
  {
   "source": [
    "## March Analysis for r/CareerGuidance\n",
    "\n",
    "| Statistic   | March Posts | --Top 1000 Form Posts of All Time--\n",
    "| ----------- | ----------- | ----------- |\n",
    "| Number of Posts  | 50       | 1000 |\n",
    "| Average Post Score | 267.42 | 208.5 | \n",
    "| Average Number of Comments| 99.98* | 77.01*\n",
    "| Highest Number of Comments on Post | 457*  | 579 |\n",
    "| Highest Post Score | 772 | 1484 |\n",
    "\n",
    "\n",
    "In comparison to the top 1000 posts of all time on CareerGuidance, March had a higher average number of comments. To me, this implies a higher level of user engagement. \n",
    "\n",
    "#### Most interesting post from March Posts: \n",
    "[Post with hgihest num comments, march 15](https://www.reddit.com/r/careerguidance/comments/fitp9r/i_was_rejected_from_a_position_that_required_a/\n",
    ")\n",
    "\n",
    "[post with highest score, march 7](https://www.reddit.com/r/careerguidance/comments/fellu7/anyone_feel_depressed_after_being_on_linkedin/)     "
   ],
   "cell_type": "markdown",
   "metadata": {}
  },
  {
   "cell_type": "code",
   "execution_count": 21,
   "metadata": {},
   "outputs": [
    {
     "output_type": "execute_result",
     "data": {
      "text/plain": [
       "    index                                           title  score      id  \\\n",
       "12     12  Anyone feel depressed after being on LinkedIn?    772  fellu7   \n",
       "\n",
       "         subreddit                                                url  \\\n",
       "12  careerguidance  https://www.reddit.com/r/careerguidance/commen...   \n",
       "\n",
       "    num_comments                                               body  \\\n",
       "12           151  I've often felt mildly depressed after being o...   \n",
       "\n",
       "         created         date_created  month  \n",
       "12  1.583563e+09  2020-03-07 01:38:21  March  "
      ],
      "text/html": "<div>\n<style scoped>\n    .dataframe tbody tr th:only-of-type {\n        vertical-align: middle;\n    }\n\n    .dataframe tbody tr th {\n        vertical-align: top;\n    }\n\n    .dataframe thead th {\n        text-align: right;\n    }\n</style>\n<table border=\"1\" class=\"dataframe\">\n  <thead>\n    <tr style=\"text-align: right;\">\n      <th></th>\n      <th>index</th>\n      <th>title</th>\n      <th>score</th>\n      <th>id</th>\n      <th>subreddit</th>\n      <th>url</th>\n      <th>num_comments</th>\n      <th>body</th>\n      <th>created</th>\n      <th>date_created</th>\n      <th>month</th>\n    </tr>\n  </thead>\n  <tbody>\n    <tr>\n      <th>12</th>\n      <td>12</td>\n      <td>Anyone feel depressed after being on LinkedIn?</td>\n      <td>772</td>\n      <td>fellu7</td>\n      <td>careerguidance</td>\n      <td>https://www.reddit.com/r/careerguidance/commen...</td>\n      <td>151</td>\n      <td>I've often felt mildly depressed after being o...</td>\n      <td>1.583563e+09</td>\n      <td>2020-03-07 01:38:21</td>\n      <td>March</td>\n    </tr>\n  </tbody>\n</table>\n</div>"
     },
     "metadata": {},
     "execution_count": 21
    }
   ],
   "source": [
    "\n",
    "is_march = df['month']=='March'\n",
    "\n",
    "march_df = df[is_march]\n",
    "march_df.head()\n",
    "\n",
    "#print(march_df.shape)\n",
    "\n",
    "# top comment from march now\n",
    "\n",
    "#print(march_df.describe())\n",
    "\n",
    "\n",
    "# get some medians now\n",
    "\n",
    "# median score for march\n",
    "#print(march_df['score'].median())\n",
    "\n",
    "#  median number of comments for march\n",
    "#print(march_df['num_comments'].median())\n",
    "\n",
    "march_df[march_df['num_comments']==457].head()\n",
    "\n",
    "march_df[march_df['num_comments']==457]['date_created']     \n",
    "\n",
    "march_df[march_df['score']==march_df['score'].max()]['date_created'] \n",
    "march_df[march_df['score']==march_df['score'].max()].head()\n"
   ]
  },
  {
   "source": [
    "## April Analysis for r/CareerGuidance\n",
    "\n",
    "| Statistic   | March Posts | --Top 1000 Form Posts of All Time--\n",
    "| ----------- | ----------- | ----------- |\n",
    "| Number of Posts  | 44       | 1000 |\n",
    "| Average Post Score | 84.727273 | 208.5 | \n",
    "| Average Number of Comments| 99.98* | 77.01*\n",
    "| Highest Number of Comments on Post | 310  | 579 |\n",
    "| Highest Post Score | 1250.000000*** | 1484 |\n",
    "\n",
    "### interesting post from April:\n",
    "\n",
    "[highest post score](https://www.reddit.com/r/careerguidance/comments/g4d70n/are_you_seriously_trying_to_quit_your_job_during/)\n",
    "\n",
    "Now this one is interesting. it's actually the second highest top comment of all time!!!! and it's about job security during the pandemic. The comments are full of people in the service industry who cannot find work. \n",
    "\n"
   ],
   "cell_type": "markdown",
   "metadata": {}
  },
  {
   "source": [
    "is_april = df['month']=='April'\n",
    "\n",
    "april_df = df[is_april]\n",
    "april_df.head()\n",
    "\n",
    "print(april_df.shape)\n",
    "\n",
    "# top comment from march now\n",
    "\n",
    "print(april_df.describe())\n",
    "\n",
    "\n",
    "# get some medians now\n",
    "\n",
    "# median score for march\n",
    "print(april_df['score'].median())\n",
    "\n",
    "#  median number of comments for march\n",
    "print(april_df['num_comments'].median())\n",
    "\n",
    "\n",
    "april_df[april_df['score']==april_df['score'].max()]['date_created'] \n",
    "april_df[april_df['score']==april_df['score'].max()].head()"
   ],
   "cell_type": "code",
   "metadata": {},
   "execution_count": 22,
   "outputs": [
    {
     "output_type": "stream",
     "name": "stdout",
     "text": [
      "(44, 11)\n            index        score  num_comments       created\ncount   44.000000    44.000000     44.000000  4.400000e+01\nmean   407.090909   245.704545     84.727273  1.587033e+09\nstd    270.330187   188.624714     58.680992  7.663071e+05\nmin      1.000000    78.000000     17.000000  1.585813e+09\n25%    205.500000   149.750000     53.750000  1.586328e+09\n50%    379.000000   197.000000     69.000000  1.587034e+09\n75%    566.250000   275.250000     96.750000  1.587695e+09\nmax    987.000000  1250.000000    310.000000  1.588285e+09\n197.0\n69.0\n"
     ]
    },
    {
     "output_type": "execute_result",
     "data": {
      "text/plain": [
       "   index                                              title  score      id  \\\n",
       "1      1  Are you seriously trying to quit your job duri...   1250  g4d70n   \n",
       "\n",
       "        subreddit                                                url  \\\n",
       "1  careerguidance  https://www.reddit.com/r/careerguidance/commen...   \n",
       "\n",
       "   num_comments                                               body  \\\n",
       "1           188  This will probably be downvoted to hell. That’...   \n",
       "\n",
       "        created         date_created  month  \n",
       "1  1.587351e+09  2020-04-19 22:57:55  April  "
      ],
      "text/html": "<div>\n<style scoped>\n    .dataframe tbody tr th:only-of-type {\n        vertical-align: middle;\n    }\n\n    .dataframe tbody tr th {\n        vertical-align: top;\n    }\n\n    .dataframe thead th {\n        text-align: right;\n    }\n</style>\n<table border=\"1\" class=\"dataframe\">\n  <thead>\n    <tr style=\"text-align: right;\">\n      <th></th>\n      <th>index</th>\n      <th>title</th>\n      <th>score</th>\n      <th>id</th>\n      <th>subreddit</th>\n      <th>url</th>\n      <th>num_comments</th>\n      <th>body</th>\n      <th>created</th>\n      <th>date_created</th>\n      <th>month</th>\n    </tr>\n  </thead>\n  <tbody>\n    <tr>\n      <th>1</th>\n      <td>1</td>\n      <td>Are you seriously trying to quit your job duri...</td>\n      <td>1250</td>\n      <td>g4d70n</td>\n      <td>careerguidance</td>\n      <td>https://www.reddit.com/r/careerguidance/commen...</td>\n      <td>188</td>\n      <td>This will probably be downvoted to hell. That’...</td>\n      <td>1.587351e+09</td>\n      <td>2020-04-19 22:57:55</td>\n      <td>April</td>\n    </tr>\n  </tbody>\n</table>\n</div>"
     },
     "metadata": {},
     "execution_count": 22
    }
   ]
  },
  {
   "cell_type": "code",
   "execution_count": 25,
   "metadata": {},
   "outputs": [
    {
     "output_type": "execute_result",
     "data": {
      "text/plain": [
       "     index                                              title  score      id  \\\n",
       "2        2  Anyone else graduated, got in a 'career' and r...   1147  gh3k6s   \n",
       "31      31  Is there no place for employees that are just ...    599  gm6s2y   \n",
       "44      44  How do I get over my deep-seated dislike of wo...    500  gn9zfr   \n",
       "47      47  It’s no longer enough to do your job, but you ...    492  gps5df   \n",
       "120    120  Lost in job hunt and life, what the hell do I ...    338  goe4ix   \n",
       "\n",
       "          subreddit                                                url  \\\n",
       "2    careerguidance  https://www.reddit.com/r/careerguidance/commen...   \n",
       "31   careerguidance  https://www.reddit.com/r/careerguidance/commen...   \n",
       "44   careerguidance  https://www.reddit.com/r/careerguidance/commen...   \n",
       "47   careerguidance  https://www.reddit.com/r/careerguidance/commen...   \n",
       "120  careerguidance  https://www.reddit.com/r/careerguidance/commen...   \n",
       "\n",
       "     num_comments                                               body  \\\n",
       "2             233  It's probably the number 1 thing driving me in...   \n",
       "31            195  Is there no room for employees that are “prett...   \n",
       "44            579  I’m in my early 20’s. I’ve just gotten a new j...   \n",
       "47            152  I’m not sure if this is mostly a startup thing...   \n",
       "120           107  I’m 35, have a degree in wildlife management. ...   \n",
       "\n",
       "          created         date_created month  \n",
       "2    1.589154e+09  2020-05-10 19:32:34   May  \n",
       "31   1.589854e+09  2020-05-18 22:11:53   May  \n",
       "44   1.590004e+09  2020-05-20 15:54:16   May  \n",
       "47   1.590365e+09  2020-05-24 20:01:38   May  \n",
       "120  1.590158e+09  2020-05-22 10:32:28   May  "
      ],
      "text/html": "<div>\n<style scoped>\n    .dataframe tbody tr th:only-of-type {\n        vertical-align: middle;\n    }\n\n    .dataframe tbody tr th {\n        vertical-align: top;\n    }\n\n    .dataframe thead th {\n        text-align: right;\n    }\n</style>\n<table border=\"1\" class=\"dataframe\">\n  <thead>\n    <tr style=\"text-align: right;\">\n      <th></th>\n      <th>index</th>\n      <th>title</th>\n      <th>score</th>\n      <th>id</th>\n      <th>subreddit</th>\n      <th>url</th>\n      <th>num_comments</th>\n      <th>body</th>\n      <th>created</th>\n      <th>date_created</th>\n      <th>month</th>\n    </tr>\n  </thead>\n  <tbody>\n    <tr>\n      <th>2</th>\n      <td>2</td>\n      <td>Anyone else graduated, got in a 'career' and r...</td>\n      <td>1147</td>\n      <td>gh3k6s</td>\n      <td>careerguidance</td>\n      <td>https://www.reddit.com/r/careerguidance/commen...</td>\n      <td>233</td>\n      <td>It's probably the number 1 thing driving me in...</td>\n      <td>1.589154e+09</td>\n      <td>2020-05-10 19:32:34</td>\n      <td>May</td>\n    </tr>\n    <tr>\n      <th>31</th>\n      <td>31</td>\n      <td>Is there no place for employees that are just ...</td>\n      <td>599</td>\n      <td>gm6s2y</td>\n      <td>careerguidance</td>\n      <td>https://www.reddit.com/r/careerguidance/commen...</td>\n      <td>195</td>\n      <td>Is there no room for employees that are “prett...</td>\n      <td>1.589854e+09</td>\n      <td>2020-05-18 22:11:53</td>\n      <td>May</td>\n    </tr>\n    <tr>\n      <th>44</th>\n      <td>44</td>\n      <td>How do I get over my deep-seated dislike of wo...</td>\n      <td>500</td>\n      <td>gn9zfr</td>\n      <td>careerguidance</td>\n      <td>https://www.reddit.com/r/careerguidance/commen...</td>\n      <td>579</td>\n      <td>I’m in my early 20’s. I’ve just gotten a new j...</td>\n      <td>1.590004e+09</td>\n      <td>2020-05-20 15:54:16</td>\n      <td>May</td>\n    </tr>\n    <tr>\n      <th>47</th>\n      <td>47</td>\n      <td>It’s no longer enough to do your job, but you ...</td>\n      <td>492</td>\n      <td>gps5df</td>\n      <td>careerguidance</td>\n      <td>https://www.reddit.com/r/careerguidance/commen...</td>\n      <td>152</td>\n      <td>I’m not sure if this is mostly a startup thing...</td>\n      <td>1.590365e+09</td>\n      <td>2020-05-24 20:01:38</td>\n      <td>May</td>\n    </tr>\n    <tr>\n      <th>120</th>\n      <td>120</td>\n      <td>Lost in job hunt and life, what the hell do I ...</td>\n      <td>338</td>\n      <td>goe4ix</td>\n      <td>careerguidance</td>\n      <td>https://www.reddit.com/r/careerguidance/commen...</td>\n      <td>107</td>\n      <td>I’m 35, have a degree in wildlife management. ...</td>\n      <td>1.590158e+09</td>\n      <td>2020-05-22 10:32:28</td>\n      <td>May</td>\n    </tr>\n  </tbody>\n</table>\n</div>"
     },
     "metadata": {},
     "execution_count": 25
    }
   ],
   "source": [
    "is_may = df['month']=='May'\n",
    "\n",
    "may_df = df[is_may]\n",
    "may_df.head()\n",
    "\n",
    "#print(march_df.shape)\n",
    "\n",
    "# top comment from march now\n",
    "\n",
    "#print(may_df.describe())\n",
    "\n",
    "\n",
    "# get some medians now\n",
    "\n",
    "# median score for march\n",
    "#print(may_df['score'].median())\n",
    "\n",
    "#  median number of comments for march\n",
    "#print(may_df['num_comments'].median())\n",
    "\n",
    "may_df[may_df['num_comments']==may_df['num_comments'].max()]['date_created']\n",
    "may_df[may_df['num_comments']==may_df['num_comments'].max()].head()\n",
    "\n",
    "\n",
    "may_df[may_df['score']==may_df['score'].max()]['date_created'] \n",
    "may_df[may_df['score']==may_df['score'].max()].head()\n",
    "\n",
    "\n",
    "may_df.head()\n",
    "\n",
    "\n"
   ]
  }
 ]
}