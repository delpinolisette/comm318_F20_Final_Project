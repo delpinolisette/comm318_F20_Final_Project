{
 "metadata": {
  "language_info": {
   "codemirror_mode": {
    "name": "ipython",
    "version": 3
   },
   "file_extension": ".py",
   "mimetype": "text/x-python",
   "name": "python",
   "nbconvert_exporter": "python",
   "pygments_lexer": "ipython3",
   "version": "3.8.3-final"
  },
  "orig_nbformat": 2,
  "kernelspec": {
   "name": "python3",
   "display_name": "Python 3",
   "language": "python"
  }
 },
 "nbformat": 4,
 "nbformat_minor": 2,
 "cells": [
  {
   "source": [
    "# R/CareerGuidance Data Exploration\n",
    "\n",
    "This notebook contains my data exploration for the subreddit [r/CareerGuidance](https://www.reddit.com/r/careerguidance/), a popular career guidance forum on Reddit. \n",
    "\n",
    "I want to see if I can find any change in patterns after March 2020. What kind of posts trended after the start of Coronavirus pandemic lockdown in the US?\n",
    "\n",
    "### Preliminary Questions:\n",
    "\n",
    "1. What is the average number of comments (posts with a higher amount of comments have more user engagement). Median number of commnets? Median score?\n",
    "2. Are most posts (ranked top 1000 of all time) created before or after March 2020?\n",
    "3. What is the post with the highest number of comments? (most engagement)?\n",
    "4. if we subset the data frame by month, what is the top comment for each month? what is its score? which is the one with the highest amount of user engagement?\n",
    "5. Other questions that come up after seeing the results of the above analysis (listed below)\n",
    "\n"
   ],
   "cell_type": "markdown",
   "metadata": {}
  },
  {
   "cell_type": "code",
   "execution_count": 3,
   "metadata": {},
   "outputs": [],
   "source": [
    "import pandas as pd"
   ]
  },
  {
   "cell_type": "code",
   "execution_count": 4,
   "metadata": {},
   "outputs": [
    {
     "output_type": "execute_result",
     "data": {
      "text/plain": [
       "   Unnamed: 0                                              title  score  \\\n",
       "0           0                             Anyone else depressed?   1484   \n",
       "1           1  Are you seriously trying to quit your job duri...   1250   \n",
       "2           2  Anyone else graduated, got in a 'career' and r...   1147   \n",
       "3           3  \"wE'vE dEcIdEd NoT tO mOvE fOrWaRd At ThIs TiM...   1067   \n",
       "4           4  Anyone else feel ‘trapped’ in their job becaus...   1014   \n",
       "\n",
       "       id       subreddit                                                url  \\\n",
       "0  iuq5bq  careerguidance  https://www.reddit.com/r/careerguidance/commen...   \n",
       "1  g4d70n  careerguidance  https://www.reddit.com/r/careerguidance/commen...   \n",
       "2  gh3k6s  careerguidance  https://www.reddit.com/r/careerguidance/commen...   \n",
       "3  gx9vcl  careerguidance  https://www.reddit.com/r/careerguidance/commen...   \n",
       "4  i75f39  careerguidance  https://www.reddit.com/r/careerguidance/commen...   \n",
       "\n",
       "   num_comments                                               body  \\\n",
       "0           315  Anyone else in their mid-20s out of college, w...   \n",
       "1           188  This will probably be downvoted to hell. That’...   \n",
       "2           233  It's probably the number 1 thing driving me in...   \n",
       "3           315  I'm so sick of these emails. I want to scream ...   \n",
       "4           204  I’ve been in this shitty graduate job for almo...   \n",
       "\n",
       "        created         date_created  \n",
       "0  1.600399e+09  2020-09-17 23:08:49  \n",
       "1  1.587351e+09  2020-04-19 22:57:55  \n",
       "2  1.589154e+09  2020-05-10 19:32:34  \n",
       "3  1.591410e+09  2020-06-05 22:17:40  \n",
       "4  1.597097e+09  2020-08-10 18:05:10  "
      ],
      "text/html": "<div>\n<style scoped>\n    .dataframe tbody tr th:only-of-type {\n        vertical-align: middle;\n    }\n\n    .dataframe tbody tr th {\n        vertical-align: top;\n    }\n\n    .dataframe thead th {\n        text-align: right;\n    }\n</style>\n<table border=\"1\" class=\"dataframe\">\n  <thead>\n    <tr style=\"text-align: right;\">\n      <th></th>\n      <th>Unnamed: 0</th>\n      <th>title</th>\n      <th>score</th>\n      <th>id</th>\n      <th>subreddit</th>\n      <th>url</th>\n      <th>num_comments</th>\n      <th>body</th>\n      <th>created</th>\n      <th>date_created</th>\n    </tr>\n  </thead>\n  <tbody>\n    <tr>\n      <th>0</th>\n      <td>0</td>\n      <td>Anyone else depressed?</td>\n      <td>1484</td>\n      <td>iuq5bq</td>\n      <td>careerguidance</td>\n      <td>https://www.reddit.com/r/careerguidance/commen...</td>\n      <td>315</td>\n      <td>Anyone else in their mid-20s out of college, w...</td>\n      <td>1.600399e+09</td>\n      <td>2020-09-17 23:08:49</td>\n    </tr>\n    <tr>\n      <th>1</th>\n      <td>1</td>\n      <td>Are you seriously trying to quit your job duri...</td>\n      <td>1250</td>\n      <td>g4d70n</td>\n      <td>careerguidance</td>\n      <td>https://www.reddit.com/r/careerguidance/commen...</td>\n      <td>188</td>\n      <td>This will probably be downvoted to hell. That’...</td>\n      <td>1.587351e+09</td>\n      <td>2020-04-19 22:57:55</td>\n    </tr>\n    <tr>\n      <th>2</th>\n      <td>2</td>\n      <td>Anyone else graduated, got in a 'career' and r...</td>\n      <td>1147</td>\n      <td>gh3k6s</td>\n      <td>careerguidance</td>\n      <td>https://www.reddit.com/r/careerguidance/commen...</td>\n      <td>233</td>\n      <td>It's probably the number 1 thing driving me in...</td>\n      <td>1.589154e+09</td>\n      <td>2020-05-10 19:32:34</td>\n    </tr>\n    <tr>\n      <th>3</th>\n      <td>3</td>\n      <td>\"wE'vE dEcIdEd NoT tO mOvE fOrWaRd At ThIs TiM...</td>\n      <td>1067</td>\n      <td>gx9vcl</td>\n      <td>careerguidance</td>\n      <td>https://www.reddit.com/r/careerguidance/commen...</td>\n      <td>315</td>\n      <td>I'm so sick of these emails. I want to scream ...</td>\n      <td>1.591410e+09</td>\n      <td>2020-06-05 22:17:40</td>\n    </tr>\n    <tr>\n      <th>4</th>\n      <td>4</td>\n      <td>Anyone else feel ‘trapped’ in their job becaus...</td>\n      <td>1014</td>\n      <td>i75f39</td>\n      <td>careerguidance</td>\n      <td>https://www.reddit.com/r/careerguidance/commen...</td>\n      <td>204</td>\n      <td>I’ve been in this shitty graduate job for almo...</td>\n      <td>1.597097e+09</td>\n      <td>2020-08-10 18:05:10</td>\n    </tr>\n  </tbody>\n</table>\n</div>"
     },
     "metadata": {},
     "execution_count": 4
    }
   ],
   "source": [
    "df = pd.read_csv('../data/raw/posts_career_guidance.csv')\n",
    "# that's how you do it:) (navigating up i mean)\n",
    "\n",
    "\n",
    "df.shape\n",
    "df.columns\n",
    "df.head()"
   ]
  },
  {
   "cell_type": "code",
   "execution_count": 5,
   "metadata": {},
   "outputs": [
    {
     "output_type": "execute_result",
     "data": {
      "text/plain": [
       "Index(['index', 'title', 'score', 'id', 'subreddit', 'url', 'num_comments',\n",
       "       'body', 'created', 'date_created'],\n",
       "      dtype='object')"
      ]
     },
     "metadata": {},
     "execution_count": 5
    }
   ],
   "source": [
    "# let's rename these columns\n",
    "\n",
    "df = df.rename(columns={'Unnamed: 0':'index'})\n",
    "\n",
    "df.columns\n",
    "\n"
   ]
  },
  {
   "source": [
    "After some analysis, we find this data fram has :\n",
    "\n",
    "- 1000 observations by 9 variables (10 if you count the pandas dataframe index).\n",
    "- These variables are:\n",
    "    - Post Title\n",
    "    - Post Score in Upvotes / Downvotes\n",
    "    - Post ID \n",
    "    - Subreddit Name \n",
    "    - Direct Url Link to Post \n",
    "    - Created in seconds (Computer Time)\n",
    "    - Date Created (obtained from Computer Time)\n",
    "\n",
    "### Next Steps \n",
    "I now want to\n",
    "\n",
    "- [x] Find the median post score. \n",
    "- [x] Find the median number of comments \n",
    "- [x] Find the average number of comments \n",
    "- [x] Create month index column\n",
    "- [x] Subset data frame by month\n",
    "- [x] Find the most commented post from each month.\n",
    "- [x] Find the most upvoted post from each month. Compare to most commented. \n",
    "- [x] The highest commented AND highest upvoted post of all time\n",
    "\n",
    "\n",
    "### Why do I want these Statistics?\n",
    "\n",
    "1. The median of a sample is less susepctible to outliers than the mean is, so it is better to use as something to compare scores with, but I also still want to see that mean!\n",
    "2. I wannt to see how the top post by month changed during the progression of the Coronavirus Lockdown Period. \n",
    "3. More posts implies a higher level of user engagement, even if it is a very rough measurement of engagement. I wasnt to see which posts were most engaging. \n",
    "4. However, more upvotes implies more people \"agree\" with the sentiment the poster has. \n",
    "    \n",
    "\n"
   ],
   "cell_type": "markdown",
   "metadata": {}
  },
  {
   "cell_type": "code",
   "execution_count": 6,
   "metadata": {},
   "outputs": [
    {
     "output_type": "execute_result",
     "data": {
      "text/plain": [
       "             index        score  num_comments       created\n",
       "count  1000.000000  1000.000000   1000.000000  1.000000e+03\n",
       "mean    499.500000   208.505000     77.013000  1.578423e+09\n",
       "std     288.819436   151.905943     55.806121  2.026603e+07\n",
       "min       0.000000    73.000000      6.000000  1.486941e+09\n",
       "25%     249.750000   113.000000     40.750000  1.563830e+09\n",
       "50%     499.500000   164.500000     60.500000  1.581066e+09\n",
       "75%     749.250000   252.750000     98.000000  1.595177e+09\n",
       "max     999.000000  1484.000000    579.000000  1.608708e+09"
      ],
      "text/html": "<div>\n<style scoped>\n    .dataframe tbody tr th:only-of-type {\n        vertical-align: middle;\n    }\n\n    .dataframe tbody tr th {\n        vertical-align: top;\n    }\n\n    .dataframe thead th {\n        text-align: right;\n    }\n</style>\n<table border=\"1\" class=\"dataframe\">\n  <thead>\n    <tr style=\"text-align: right;\">\n      <th></th>\n      <th>index</th>\n      <th>score</th>\n      <th>num_comments</th>\n      <th>created</th>\n    </tr>\n  </thead>\n  <tbody>\n    <tr>\n      <th>count</th>\n      <td>1000.000000</td>\n      <td>1000.000000</td>\n      <td>1000.000000</td>\n      <td>1.000000e+03</td>\n    </tr>\n    <tr>\n      <th>mean</th>\n      <td>499.500000</td>\n      <td>208.505000</td>\n      <td>77.013000</td>\n      <td>1.578423e+09</td>\n    </tr>\n    <tr>\n      <th>std</th>\n      <td>288.819436</td>\n      <td>151.905943</td>\n      <td>55.806121</td>\n      <td>2.026603e+07</td>\n    </tr>\n    <tr>\n      <th>min</th>\n      <td>0.000000</td>\n      <td>73.000000</td>\n      <td>6.000000</td>\n      <td>1.486941e+09</td>\n    </tr>\n    <tr>\n      <th>25%</th>\n      <td>249.750000</td>\n      <td>113.000000</td>\n      <td>40.750000</td>\n      <td>1.563830e+09</td>\n    </tr>\n    <tr>\n      <th>50%</th>\n      <td>499.500000</td>\n      <td>164.500000</td>\n      <td>60.500000</td>\n      <td>1.581066e+09</td>\n    </tr>\n    <tr>\n      <th>75%</th>\n      <td>749.250000</td>\n      <td>252.750000</td>\n      <td>98.000000</td>\n      <td>1.595177e+09</td>\n    </tr>\n    <tr>\n      <th>max</th>\n      <td>999.000000</td>\n      <td>1484.000000</td>\n      <td>579.000000</td>\n      <td>1.608708e+09</td>\n    </tr>\n  </tbody>\n</table>\n</div>"
     },
     "metadata": {},
     "execution_count": 6
    }
   ],
   "source": [
    "# median of entire data frame\n",
    "# there are no missing values here\n",
    "\n",
    "df.describe()\n",
    "\n",
    "\n",
    "# I see why they use millisecond time, to make it easier to parse, hahaha. \n",
    "# to get the dates i will have to get creative and make a new column for month it was posted in. maybe date_created.contains??\n",
    "\n",
    "\n",
    "# Average score: 208.5 points. \n",
    "# Average number of comments : 77.01\n",
    "# Average post_date (whatever that means right now): Tuesday, January 7, 2020 6:50:00 PM (also known as 1.578423e+09) in epoch time. "
   ]
  },
  {
   "cell_type": "code",
   "execution_count": 7,
   "metadata": {},
   "outputs": [
    {
     "output_type": "execute_result",
     "data": {
      "text/plain": [
       "1581066391.0"
      ]
     },
     "metadata": {},
     "execution_count": 7
    }
   ],
   "source": [
    "# get some medians now\n",
    "\n",
    "df['score'].median()\n",
    "df['num_comments'].median()\n",
    "df['created'].median()\n",
    "\n",
    "\n",
    "# Median Report:\n",
    "# median Score: 164.5\n",
    "# median number of comments - 60.5\n",
    "# Median date created/ posted: Friday, February 7, 2020 9:06:31 AM (a bit higher than the average date, does this mean top posts skew to before the pandemic?)"
   ]
  },
  {
   "cell_type": "code",
   "execution_count": 8,
   "metadata": {
    "tags": []
   },
   "outputs": [],
   "source": [
    "# Now we subset by month by creating a new column called....\"month\", haha. \n",
    "\n",
    "df['month'] = df['date_created'] # initialize\n",
    "\n",
    "df.columns[0]\n",
    "df.columns[0] # this only returns a string haha\n",
    "\n",
    "type(df['date_created'][2])\n",
    "iter = 0\n",
    "\n",
    "for x in df['date_created']:\n",
    "    #print(iter)\n",
    "    #print(df['date_created'][iter])\n",
    "\n",
    "    # actual logic here\n",
    "    if '2020-02' in x:\n",
    "        #print(df['month'][iter]) #check\n",
    "        df['month'][iter] = 'February'\n",
    "        #print(df['month'][iter])\n",
    "    if '2020-03' in x:\n",
    "        #print(df['month'][iter]) #check\n",
    "        df['month'][iter] = 'March'\n",
    "        #print(df['month'][iter])\n",
    "    if '2020-04' in x:\n",
    "        #print(df['month'][iter]) #check\n",
    "        df['month'][iter] = 'April'\n",
    "        #print(df['month'][iter])\n",
    "    if '2020-05' in x:\n",
    "        #print(df['month'][iter]) #check\n",
    "        df['month'][iter] = 'May'\n",
    "        #print(df['month'][iter])\n",
    "    if '2020-06' in x:\n",
    "        #print(df['month'][iter]) #check\n",
    "        df['month'][iter] = 'June'\n",
    "        #print(df['month'][iter])\n",
    "    if '2020-07' in x:\n",
    "        #print(df['month'][iter]) #check\n",
    "        df['month'][iter] = 'July'\n",
    "        #print(df['month'][iter])\n",
    "    if '2020-08' in x:\n",
    "        #print(df['month'][iter]) #check\n",
    "        df['month'][iter] = 'August'\n",
    "        #print(df['month'][iter])\n",
    "    if '2020-09' in x:\n",
    "        #print(df['month'][iter]) #check\n",
    "        df['month'][iter] = 'September'\n",
    "        #print(df['month'][iter])\n",
    "    if '2020-10' in x:\n",
    "        #print(df['month'][iter]) #check\n",
    "        df['month'][iter] = 'October'\n",
    "        #print(df['month'][iter])\n",
    "    if '2020-11' in x:\n",
    "        #print(df['month'][iter]) #check\n",
    "        df['month'][iter] = 'November'\n",
    "        #print(df['month'][iter])\n",
    "    if '2020-12' in x:\n",
    "        #print(df['month'][iter]) #check\n",
    "        df['month'][iter] = 'December'\n",
    "        #print(df['month'][iter])\n",
    "    iter+=1\n",
    "\n",
    "\n",
    "#df.head()\n",
    "\n"
   ]
  },
  {
   "cell_type": "code",
   "execution_count": 9,
   "metadata": {},
   "outputs": [],
   "source": [
    " # was testing out logic here\n",
    " #print('2020-05' in df['date_created'][2])\n",
    "\n",
    " #print(df['date_created'][2])"
   ]
  },
  {
   "cell_type": "code",
   "execution_count": 17,
   "metadata": {},
   "outputs": [
    {
     "output_type": "stream",
     "name": "stdout",
     "text": [
      "            index       score  num_comments       created\ncount   38.000000   38.000000     38.000000  3.800000e+01\nmean   462.026316  207.210526     80.736842  1.581870e+09\nstd    253.796523  119.885341     57.424302  7.036037e+05\nmin     20.000000   78.000000     11.000000  1.580569e+09\n25%    262.250000  145.250000     45.750000  1.581246e+09\n50%    479.500000  170.500000     68.000000  1.581877e+09\n75%    586.500000  244.000000     96.500000  1.582424e+09\nmax    988.000000  675.000000    300.000000  1.582995e+09\n"
     ]
    }
   ],
   "source": [
    "is_feb = df['month']=='February'\n",
    "\n",
    "feb_df = df[is_feb]\n",
    "feb_df.head()\n",
    "\n",
    "#print(march_df.shape)\n",
    "\n",
    "# top comment from march now\n",
    "\n",
    "print(feb_df.describe())\n",
    "\n",
    "\n",
    "# get some medians now\n",
    "\n",
    "# median score for march\n",
    "#print(march_df['score'].median())\n",
    "\n",
    "#  median number of comments for march\n",
    "#print(march_df['num_comments'].median())\n",
    "\n",
    "\n",
    "\n",
    "feb_df[feb_df['score']==feb_df['score'].max()]['date_created'] \n",
    "feb_df[feb_df['score']==feb_df['score'].max()].head()\n",
    "\n",
    "feb_df.head()\n",
    "\n",
    "feb_df.to_csv('career_feb.csv')\n",
    "\n"
   ]
  },
  {
   "source": [
    "## March Analysis for r/CareerGuidance\n",
    "\n",
    "| Statistic   | February Posts | March Posts | April Posts |--Top 1000 Form Posts of All Time--\n",
    "| ----------- | ----------- | ----------- | ------------ |\n",
    "| Number of Posts  | 38 |50   |  44  | 1000 |\n",
    "| Average Post Score | 207 |267.42*| 245.70 | 208.5 | \n",
    "| Average Number of Comments| 80.74 | 99.98* |84.73| 77.01*\n",
    "| Highest Number of Comments on Post | 300 | 457* |310 | 579 |\n",
    "| Highest Post Score | 675 | 772 |1250 | 1484 |\n",
    "\n",
    "\n",
    "In comparison to the top 1000 posts of all time on CareerGuidance, March had a higher average number of comments. To me, this implies a higher level of user engagement. \n",
    "\n",
    "#### Most interesting post from March Posts: \n",
    "[Post with hgihest num comments, march 15](https://www.reddit.com/r/careerguidance/comments/fitp9r/i_was_rejected_from_a_position_that_required_a/\n",
    ")\n",
    "\n",
    "[post with highest score, march 7](https://www.reddit.com/r/careerguidance/comments/fellu7/anyone_feel_depressed_after_being_on_linkedin/)     "
   ],
   "cell_type": "markdown",
   "metadata": {}
  },
  {
   "cell_type": "code",
   "execution_count": 11,
   "metadata": {},
   "outputs": [
    {
     "output_type": "stream",
     "name": "stdout",
     "text": [
      "            index       score  num_comments       created\ncount   50.000000   50.000000     50.000000  5.000000e+01\nmean   373.820000  267.420000     99.980000  1.584328e+09\nstd    283.033689  172.861758     75.297909  7.794127e+05\nmin     12.000000   82.000000     13.000000  1.583042e+09\n25%    112.750000  141.500000     54.500000  1.583738e+09\n50%    327.500000  217.500000     80.500000  1.584344e+09\n75%    609.000000  346.000000    137.250000  1.584936e+09\nmax    927.000000  772.000000    457.000000  1.585688e+09\n"
     ]
    },
    {
     "output_type": "execute_result",
     "data": {
      "text/plain": [
       "    index                                           title  score      id  \\\n",
       "12     12  Anyone feel depressed after being on LinkedIn?    772  fellu7   \n",
       "\n",
       "         subreddit                                                url  \\\n",
       "12  careerguidance  https://www.reddit.com/r/careerguidance/commen...   \n",
       "\n",
       "    num_comments                                               body  \\\n",
       "12           151  I've often felt mildly depressed after being o...   \n",
       "\n",
       "         created         date_created  month  \n",
       "12  1.583563e+09  2020-03-07 01:38:21  March  "
      ],
      "text/html": "<div>\n<style scoped>\n    .dataframe tbody tr th:only-of-type {\n        vertical-align: middle;\n    }\n\n    .dataframe tbody tr th {\n        vertical-align: top;\n    }\n\n    .dataframe thead th {\n        text-align: right;\n    }\n</style>\n<table border=\"1\" class=\"dataframe\">\n  <thead>\n    <tr style=\"text-align: right;\">\n      <th></th>\n      <th>index</th>\n      <th>title</th>\n      <th>score</th>\n      <th>id</th>\n      <th>subreddit</th>\n      <th>url</th>\n      <th>num_comments</th>\n      <th>body</th>\n      <th>created</th>\n      <th>date_created</th>\n      <th>month</th>\n    </tr>\n  </thead>\n  <tbody>\n    <tr>\n      <th>12</th>\n      <td>12</td>\n      <td>Anyone feel depressed after being on LinkedIn?</td>\n      <td>772</td>\n      <td>fellu7</td>\n      <td>careerguidance</td>\n      <td>https://www.reddit.com/r/careerguidance/commen...</td>\n      <td>151</td>\n      <td>I've often felt mildly depressed after being o...</td>\n      <td>1.583563e+09</td>\n      <td>2020-03-07 01:38:21</td>\n      <td>March</td>\n    </tr>\n  </tbody>\n</table>\n</div>"
     },
     "metadata": {},
     "execution_count": 11
    }
   ],
   "source": [
    "\n",
    "is_march = df['month']=='March'\n",
    "\n",
    "march_df = df[is_march]\n",
    "march_df.head()\n",
    "\n",
    "#print(march_df.shape)\n",
    "\n",
    "# top comment from march now\n",
    "\n",
    "print(march_df.describe())\n",
    "\n",
    "\n",
    "# get some medians now\n",
    "\n",
    "# median score for march\n",
    "#print(march_df['score'].median())\n",
    "\n",
    "#  median number of comments for march\n",
    "#print(march_df['num_comments'].median())\n",
    "\n",
    "march_df[march_df['num_comments']==457].head()\n",
    "\n",
    "march_df[march_df['num_comments']==457]['date_created']     \n",
    "\n",
    "march_df[march_df['score']==march_df['score'].max()]['date_created'] \n",
    "march_df[march_df['score']==march_df['score'].max()].head()\n"
   ]
  },
  {
   "source": [
    "## April Analysis for r/CareerGuidance\n",
    "\n",
    "| Statistic   | March Posts | --Top 1000 Form Posts of All Time--\n",
    "| ----------- | ----------- | ----------- |\n",
    "| Number of Posts  | 44       | 1000 |\n",
    "| Average Post Score | 84.727273 | 208.5 | \n",
    "| Average Number of Comments| 84.727 | 77.01*\n",
    "| Highest Number of Comments on Post | 310  | 579 |\n",
    "| Highest Post Score | 1250*** | 1484 |\n",
    "\n",
    "### interesting post from April:\n",
    "\n",
    "[highest post score](https://www.reddit.com/r/careerguidance/comments/g4d70n/are_you_seriously_trying_to_quit_your_job_during/)\n",
    "\n",
    "Now this one is interesting. it's actually the second highest top comment of all time!!!! and it's about job security during the pandemic. The comments are full of people in the service industry who cannot find work. \n",
    "\n"
   ],
   "cell_type": "markdown",
   "metadata": {}
  },
  {
   "source": [
    "is_april = df['month']=='April'\n",
    "\n",
    "april_df = df[is_april]\n",
    "april_df.head()\n",
    "\n",
    "print(april_df.shape)\n",
    "\n",
    "# top comment from march now\n",
    "\n",
    "print(april_df.describe())\n",
    "\n",
    "\n",
    "# get some medians now\n",
    "\n",
    "# median score for march\n",
    "print(april_df['score'].median())\n",
    "\n",
    "#  median number of comments for march\n",
    "print(april_df['num_comments'].median())\n",
    "\n",
    "\n",
    "april_df[april_df['score']==april_df['score'].max()]['date_created'] \n",
    "april_df[april_df['score']==april_df['score'].max()].head()"
   ],
   "cell_type": "code",
   "metadata": {},
   "execution_count": 12,
   "outputs": [
    {
     "output_type": "stream",
     "name": "stdout",
     "text": [
      "(44, 11)\n",
      "            index        score  num_comments       created\n",
      "count   44.000000    44.000000     44.000000  4.400000e+01\n",
      "mean   407.090909   245.704545     84.727273  1.587033e+09\n",
      "std    270.330187   188.624714     58.680992  7.663071e+05\n",
      "min      1.000000    78.000000     17.000000  1.585813e+09\n",
      "25%    205.500000   149.750000     53.750000  1.586328e+09\n",
      "50%    379.000000   197.000000     69.000000  1.587034e+09\n",
      "75%    566.250000   275.250000     96.750000  1.587695e+09\n",
      "max    987.000000  1250.000000    310.000000  1.588285e+09\n",
      "197.0\n",
      "69.0\n"
     ]
    },
    {
     "output_type": "execute_result",
     "data": {
      "text/plain": [
       "   index                                              title  score      id  \\\n",
       "1      1  Are you seriously trying to quit your job duri...   1250  g4d70n   \n",
       "\n",
       "        subreddit                                                url  \\\n",
       "1  careerguidance  https://www.reddit.com/r/careerguidance/commen...   \n",
       "\n",
       "   num_comments                                               body  \\\n",
       "1           188  This will probably be downvoted to hell. That’...   \n",
       "\n",
       "        created         date_created  month  \n",
       "1  1.587351e+09  2020-04-19 22:57:55  April  "
      ],
      "text/html": "<div>\n<style scoped>\n    .dataframe tbody tr th:only-of-type {\n        vertical-align: middle;\n    }\n\n    .dataframe tbody tr th {\n        vertical-align: top;\n    }\n\n    .dataframe thead th {\n        text-align: right;\n    }\n</style>\n<table border=\"1\" class=\"dataframe\">\n  <thead>\n    <tr style=\"text-align: right;\">\n      <th></th>\n      <th>index</th>\n      <th>title</th>\n      <th>score</th>\n      <th>id</th>\n      <th>subreddit</th>\n      <th>url</th>\n      <th>num_comments</th>\n      <th>body</th>\n      <th>created</th>\n      <th>date_created</th>\n      <th>month</th>\n    </tr>\n  </thead>\n  <tbody>\n    <tr>\n      <th>1</th>\n      <td>1</td>\n      <td>Are you seriously trying to quit your job duri...</td>\n      <td>1250</td>\n      <td>g4d70n</td>\n      <td>careerguidance</td>\n      <td>https://www.reddit.com/r/careerguidance/commen...</td>\n      <td>188</td>\n      <td>This will probably be downvoted to hell. That’...</td>\n      <td>1.587351e+09</td>\n      <td>2020-04-19 22:57:55</td>\n      <td>April</td>\n    </tr>\n  </tbody>\n</table>\n</div>"
     },
     "metadata": {},
     "execution_count": 12
    }
   ]
  },
  {
   "cell_type": "code",
   "execution_count": 13,
   "metadata": {},
   "outputs": [],
   "source": [
    "is_may = df['month']=='May'\n",
    "\n",
    "may_df = df[is_may]\n",
    "may_df.head()\n",
    "\n",
    "#print(march_df.shape)\n",
    "\n",
    "# top comment from march now\n",
    "\n",
    "#print(may_df.describe())\n",
    "\n",
    "\n",
    "# get some medians now\n",
    "\n",
    "# median score for march\n",
    "#print(may_df['score'].median())\n",
    "\n",
    "#  median number of comments for march\n",
    "#print(may_df['num_comments'].median())\n",
    "\n",
    "may_df[may_df['num_comments']==may_df['num_comments'].max()]['date_created']\n",
    "may_df[may_df['num_comments']==may_df['num_comments'].max()].head()\n",
    "\n",
    "\n",
    "may_df[may_df['score']==may_df['score'].max()]['date_created'] \n",
    "may_df[may_df['score']==may_df['score'].max()].head()\n",
    "\n",
    "\n",
    "may_df.head()\n",
    "\n",
    "may_df.to_csv('career_may.csv')\n"
   ]
  },
  {
   "source": [
    "# What are the total posts by year?\n",
    "\n",
    "Is 2020 overrepresented in the top 1000 posts?"
   ],
   "cell_type": "markdown",
   "metadata": {}
  },
  {
   "cell_type": "code",
   "execution_count": 14,
   "metadata": {},
   "outputs": [
    {
     "output_type": "stream",
     "name": "stdout",
     "text": [
      "547 383 67 3 0\n"
     ]
    }
   ],
   "source": [
    "# count representation by year\n",
    "ct_2020 = 0\n",
    "ct_2019 = 0\n",
    "ct_2018 = 0\n",
    "ct_2017 = 0\n",
    "ct_2016 = 0\n",
    "\n",
    "for x in df['date_created']:\n",
    "    if '2020' in x:\n",
    "        ct_2020 += 1\n",
    "    if '2019' in x:\n",
    "        ct_2019 += 1\n",
    "    if '2018' in x:\n",
    "        ct_2018 += 1\n",
    "    if '2017' in x:\n",
    "        ct_2017 += 1\n",
    "    if '2016' in x:\n",
    "        ct_2016 += 1\n",
    "\n",
    "print(ct_2020, ct_2019, ct_2018, ct_2017, ct_2016)"
   ]
  },
  {
   "source": [
    "ok there turned out to be a huge difference!!!!!"
   ],
   "cell_type": "markdown",
   "metadata": {}
  },
  {
   "cell_type": "code",
   "execution_count": 15,
   "metadata": {},
   "outputs": [
    {
     "output_type": "display_data",
     "data": {
      "text/plain": "<Figure size 640x480 with 1 Axes>",
      "image/svg+xml": "<?xml version=\"1.0\" encoding=\"utf-8\" standalone=\"no\"?>\r\n<!DOCTYPE svg PUBLIC \"-//W3C//DTD SVG 1.1//EN\"\r\n  \"http://www.w3.org/Graphics/SVG/1.1/DTD/svg11.dtd\">\r\n<!-- Created with matplotlib (https://matplotlib.org/) -->\r\n<svg height=\"325.986375pt\" version=\"1.1\" viewBox=\"0 0 403.97 325.986375\" width=\"403.97pt\" xmlns=\"http://www.w3.org/2000/svg\" xmlns:xlink=\"http://www.w3.org/1999/xlink\">\r\n <defs>\r\n  <style type=\"text/css\">\r\n*{stroke-linecap:butt;stroke-linejoin:round;}\r\n  </style>\r\n </defs>\r\n <g id=\"figure_1\">\r\n  <g id=\"patch_1\">\r\n   <path d=\"M 0 325.986375 \r\nL 403.97 325.986375 \r\nL 403.97 0 \r\nL 0 0 \r\nz\r\n\" style=\"fill:#ffffff;\"/>\r\n  </g>\r\n  <g id=\"axes_1\">\r\n   <g id=\"patch_2\">\r\n    <path d=\"M 39.65 288.430125 \r\nL 396.77 288.430125 \r\nL 396.77 22.318125 \r\nL 39.65 22.318125 \r\nz\r\n\" style=\"fill:#ffffff;\"/>\r\n   </g>\r\n   <g id=\"patch_3\">\r\n    <path clip-path=\"url(#pe4d3153d6d)\" d=\"M 39.65 34.414125 \r\nL 379.764286 34.414125 \r\nL 379.764286 74.734125 \r\nL 39.65 74.734125 \r\nz\r\n\" style=\"fill:#1f77b4;\"/>\r\n   </g>\r\n   <g id=\"patch_4\">\r\n    <path clip-path=\"url(#pe4d3153d6d)\" d=\"M 39.65 84.814125 \r\nL 277.792178 84.814125 \r\nL 277.792178 125.134125 \r\nL 39.65 125.134125 \r\nz\r\n\" style=\"fill:#1f77b4;\"/>\r\n   </g>\r\n   <g id=\"patch_5\">\r\n    <path clip-path=\"url(#pe4d3153d6d)\" d=\"M 39.65 135.214125 \r\nL 81.309337 135.214125 \r\nL 81.309337 175.534125 \r\nL 39.65 175.534125 \r\nz\r\n\" style=\"fill:#1f77b4;\"/>\r\n   </g>\r\n   <g id=\"patch_6\">\r\n    <path clip-path=\"url(#pe4d3153d6d)\" d=\"M 39.65 185.614125 \r\nL 41.515343 185.614125 \r\nL 41.515343 225.934125 \r\nL 39.65 225.934125 \r\nz\r\n\" style=\"fill:#1f77b4;\"/>\r\n   </g>\r\n   <g id=\"patch_7\">\r\n    <path clip-path=\"url(#pe4d3153d6d)\" d=\"M 39.65 236.014125 \r\nL 39.65 236.014125 \r\nL 39.65 276.334125 \r\nL 39.65 276.334125 \r\nz\r\n\" style=\"fill:#1f77b4;\"/>\r\n   </g>\r\n   <g id=\"matplotlib.axis_1\">\r\n    <g id=\"xtick_1\">\r\n     <g id=\"line2d_1\">\r\n      <defs>\r\n       <path d=\"M 0 0 \r\nL 0 3.5 \r\n\" id=\"ma1913f7059\" style=\"stroke:#000000;stroke-width:0.8;\"/>\r\n      </defs>\r\n      <g>\r\n       <use style=\"stroke:#000000;stroke-width:0.8;\" x=\"39.65\" xlink:href=\"#ma1913f7059\" y=\"288.430125\"/>\r\n      </g>\r\n     </g>\r\n     <g id=\"text_1\">\r\n      <!-- 0 -->\r\n      <defs>\r\n       <path d=\"M 31.78125 66.40625 \r\nQ 24.171875 66.40625 20.328125 58.90625 \r\nQ 16.5 51.421875 16.5 36.375 \r\nQ 16.5 21.390625 20.328125 13.890625 \r\nQ 24.171875 6.390625 31.78125 6.390625 \r\nQ 39.453125 6.390625 43.28125 13.890625 \r\nQ 47.125 21.390625 47.125 36.375 \r\nQ 47.125 51.421875 43.28125 58.90625 \r\nQ 39.453125 66.40625 31.78125 66.40625 \r\nz\r\nM 31.78125 74.21875 \r\nQ 44.046875 74.21875 50.515625 64.515625 \r\nQ 56.984375 54.828125 56.984375 36.375 \r\nQ 56.984375 17.96875 50.515625 8.265625 \r\nQ 44.046875 -1.421875 31.78125 -1.421875 \r\nQ 19.53125 -1.421875 13.0625 8.265625 \r\nQ 6.59375 17.96875 6.59375 36.375 \r\nQ 6.59375 54.828125 13.0625 64.515625 \r\nQ 19.53125 74.21875 31.78125 74.21875 \r\nz\r\n\" id=\"DejaVuSans-48\"/>\r\n      </defs>\r\n      <g transform=\"translate(36.46875 303.028562)scale(0.1 -0.1)\">\r\n       <use xlink:href=\"#DejaVuSans-48\"/>\r\n      </g>\r\n     </g>\r\n    </g>\r\n    <g id=\"xtick_2\">\r\n     <g id=\"line2d_2\">\r\n      <g>\r\n       <use style=\"stroke:#000000;stroke-width:0.8;\" x=\"101.828114\" xlink:href=\"#ma1913f7059\" y=\"288.430125\"/>\r\n      </g>\r\n     </g>\r\n     <g id=\"text_2\">\r\n      <!-- 100 -->\r\n      <defs>\r\n       <path d=\"M 12.40625 8.296875 \r\nL 28.515625 8.296875 \r\nL 28.515625 63.921875 \r\nL 10.984375 60.40625 \r\nL 10.984375 69.390625 \r\nL 28.421875 72.90625 \r\nL 38.28125 72.90625 \r\nL 38.28125 8.296875 \r\nL 54.390625 8.296875 \r\nL 54.390625 0 \r\nL 12.40625 0 \r\nz\r\n\" id=\"DejaVuSans-49\"/>\r\n      </defs>\r\n      <g transform=\"translate(92.284364 303.028562)scale(0.1 -0.1)\">\r\n       <use xlink:href=\"#DejaVuSans-49\"/>\r\n       <use x=\"63.623047\" xlink:href=\"#DejaVuSans-48\"/>\r\n       <use x=\"127.246094\" xlink:href=\"#DejaVuSans-48\"/>\r\n      </g>\r\n     </g>\r\n    </g>\r\n    <g id=\"xtick_3\">\r\n     <g id=\"line2d_3\">\r\n      <g>\r\n       <use style=\"stroke:#000000;stroke-width:0.8;\" x=\"164.006229\" xlink:href=\"#ma1913f7059\" y=\"288.430125\"/>\r\n      </g>\r\n     </g>\r\n     <g id=\"text_3\">\r\n      <!-- 200 -->\r\n      <defs>\r\n       <path d=\"M 19.1875 8.296875 \r\nL 53.609375 8.296875 \r\nL 53.609375 0 \r\nL 7.328125 0 \r\nL 7.328125 8.296875 \r\nQ 12.9375 14.109375 22.625 23.890625 \r\nQ 32.328125 33.6875 34.8125 36.53125 \r\nQ 39.546875 41.84375 41.421875 45.53125 \r\nQ 43.3125 49.21875 43.3125 52.78125 \r\nQ 43.3125 58.59375 39.234375 62.25 \r\nQ 35.15625 65.921875 28.609375 65.921875 \r\nQ 23.96875 65.921875 18.8125 64.3125 \r\nQ 13.671875 62.703125 7.8125 59.421875 \r\nL 7.8125 69.390625 \r\nQ 13.765625 71.78125 18.9375 73 \r\nQ 24.125 74.21875 28.421875 74.21875 \r\nQ 39.75 74.21875 46.484375 68.546875 \r\nQ 53.21875 62.890625 53.21875 53.421875 \r\nQ 53.21875 48.921875 51.53125 44.890625 \r\nQ 49.859375 40.875 45.40625 35.40625 \r\nQ 44.1875 33.984375 37.640625 27.21875 \r\nQ 31.109375 20.453125 19.1875 8.296875 \r\nz\r\n\" id=\"DejaVuSans-50\"/>\r\n      </defs>\r\n      <g transform=\"translate(154.462479 303.028562)scale(0.1 -0.1)\">\r\n       <use xlink:href=\"#DejaVuSans-50\"/>\r\n       <use x=\"63.623047\" xlink:href=\"#DejaVuSans-48\"/>\r\n       <use x=\"127.246094\" xlink:href=\"#DejaVuSans-48\"/>\r\n      </g>\r\n     </g>\r\n    </g>\r\n    <g id=\"xtick_4\">\r\n     <g id=\"line2d_4\">\r\n      <g>\r\n       <use style=\"stroke:#000000;stroke-width:0.8;\" x=\"226.184343\" xlink:href=\"#ma1913f7059\" y=\"288.430125\"/>\r\n      </g>\r\n     </g>\r\n     <g id=\"text_4\">\r\n      <!-- 300 -->\r\n      <defs>\r\n       <path d=\"M 40.578125 39.3125 \r\nQ 47.65625 37.796875 51.625 33 \r\nQ 55.609375 28.21875 55.609375 21.1875 \r\nQ 55.609375 10.40625 48.1875 4.484375 \r\nQ 40.765625 -1.421875 27.09375 -1.421875 \r\nQ 22.515625 -1.421875 17.65625 -0.515625 \r\nQ 12.796875 0.390625 7.625 2.203125 \r\nL 7.625 11.71875 \r\nQ 11.71875 9.328125 16.59375 8.109375 \r\nQ 21.484375 6.890625 26.8125 6.890625 \r\nQ 36.078125 6.890625 40.9375 10.546875 \r\nQ 45.796875 14.203125 45.796875 21.1875 \r\nQ 45.796875 27.640625 41.28125 31.265625 \r\nQ 36.765625 34.90625 28.71875 34.90625 \r\nL 20.21875 34.90625 \r\nL 20.21875 43.015625 \r\nL 29.109375 43.015625 \r\nQ 36.375 43.015625 40.234375 45.921875 \r\nQ 44.09375 48.828125 44.09375 54.296875 \r\nQ 44.09375 59.90625 40.109375 62.90625 \r\nQ 36.140625 65.921875 28.71875 65.921875 \r\nQ 24.65625 65.921875 20.015625 65.03125 \r\nQ 15.375 64.15625 9.8125 62.3125 \r\nL 9.8125 71.09375 \r\nQ 15.4375 72.65625 20.34375 73.4375 \r\nQ 25.25 74.21875 29.59375 74.21875 \r\nQ 40.828125 74.21875 47.359375 69.109375 \r\nQ 53.90625 64.015625 53.90625 55.328125 \r\nQ 53.90625 49.265625 50.4375 45.09375 \r\nQ 46.96875 40.921875 40.578125 39.3125 \r\nz\r\n\" id=\"DejaVuSans-51\"/>\r\n      </defs>\r\n      <g transform=\"translate(216.640593 303.028562)scale(0.1 -0.1)\">\r\n       <use xlink:href=\"#DejaVuSans-51\"/>\r\n       <use x=\"63.623047\" xlink:href=\"#DejaVuSans-48\"/>\r\n       <use x=\"127.246094\" xlink:href=\"#DejaVuSans-48\"/>\r\n      </g>\r\n     </g>\r\n    </g>\r\n    <g id=\"xtick_5\">\r\n     <g id=\"line2d_5\">\r\n      <g>\r\n       <use style=\"stroke:#000000;stroke-width:0.8;\" x=\"288.362458\" xlink:href=\"#ma1913f7059\" y=\"288.430125\"/>\r\n      </g>\r\n     </g>\r\n     <g id=\"text_5\">\r\n      <!-- 400 -->\r\n      <defs>\r\n       <path d=\"M 37.796875 64.3125 \r\nL 12.890625 25.390625 \r\nL 37.796875 25.390625 \r\nz\r\nM 35.203125 72.90625 \r\nL 47.609375 72.90625 \r\nL 47.609375 25.390625 \r\nL 58.015625 25.390625 \r\nL 58.015625 17.1875 \r\nL 47.609375 17.1875 \r\nL 47.609375 0 \r\nL 37.796875 0 \r\nL 37.796875 17.1875 \r\nL 4.890625 17.1875 \r\nL 4.890625 26.703125 \r\nz\r\n\" id=\"DejaVuSans-52\"/>\r\n      </defs>\r\n      <g transform=\"translate(278.818708 303.028562)scale(0.1 -0.1)\">\r\n       <use xlink:href=\"#DejaVuSans-52\"/>\r\n       <use x=\"63.623047\" xlink:href=\"#DejaVuSans-48\"/>\r\n       <use x=\"127.246094\" xlink:href=\"#DejaVuSans-48\"/>\r\n      </g>\r\n     </g>\r\n    </g>\r\n    <g id=\"xtick_6\">\r\n     <g id=\"line2d_6\">\r\n      <g>\r\n       <use style=\"stroke:#000000;stroke-width:0.8;\" x=\"350.540572\" xlink:href=\"#ma1913f7059\" y=\"288.430125\"/>\r\n      </g>\r\n     </g>\r\n     <g id=\"text_6\">\r\n      <!-- 500 -->\r\n      <defs>\r\n       <path d=\"M 10.796875 72.90625 \r\nL 49.515625 72.90625 \r\nL 49.515625 64.59375 \r\nL 19.828125 64.59375 \r\nL 19.828125 46.734375 \r\nQ 21.96875 47.46875 24.109375 47.828125 \r\nQ 26.265625 48.1875 28.421875 48.1875 \r\nQ 40.625 48.1875 47.75 41.5 \r\nQ 54.890625 34.8125 54.890625 23.390625 \r\nQ 54.890625 11.625 47.5625 5.09375 \r\nQ 40.234375 -1.421875 26.90625 -1.421875 \r\nQ 22.3125 -1.421875 17.546875 -0.640625 \r\nQ 12.796875 0.140625 7.71875 1.703125 \r\nL 7.71875 11.625 \r\nQ 12.109375 9.234375 16.796875 8.0625 \r\nQ 21.484375 6.890625 26.703125 6.890625 \r\nQ 35.15625 6.890625 40.078125 11.328125 \r\nQ 45.015625 15.765625 45.015625 23.390625 \r\nQ 45.015625 31 40.078125 35.4375 \r\nQ 35.15625 39.890625 26.703125 39.890625 \r\nQ 22.75 39.890625 18.8125 39.015625 \r\nQ 14.890625 38.140625 10.796875 36.28125 \r\nz\r\n\" id=\"DejaVuSans-53\"/>\r\n      </defs>\r\n      <g transform=\"translate(340.996822 303.028562)scale(0.1 -0.1)\">\r\n       <use xlink:href=\"#DejaVuSans-53\"/>\r\n       <use x=\"63.623047\" xlink:href=\"#DejaVuSans-48\"/>\r\n       <use x=\"127.246094\" xlink:href=\"#DejaVuSans-48\"/>\r\n      </g>\r\n     </g>\r\n    </g>\r\n    <g id=\"text_7\">\r\n     <!-- Number of Posts in Top 1000 Posts of All Time -->\r\n     <defs>\r\n      <path d=\"M 9.8125 72.90625 \r\nL 23.09375 72.90625 \r\nL 55.421875 11.921875 \r\nL 55.421875 72.90625 \r\nL 64.984375 72.90625 \r\nL 64.984375 0 \r\nL 51.703125 0 \r\nL 19.390625 60.984375 \r\nL 19.390625 0 \r\nL 9.8125 0 \r\nz\r\n\" id=\"DejaVuSans-78\"/>\r\n      <path d=\"M 8.5 21.578125 \r\nL 8.5 54.6875 \r\nL 17.484375 54.6875 \r\nL 17.484375 21.921875 \r\nQ 17.484375 14.15625 20.5 10.265625 \r\nQ 23.53125 6.390625 29.59375 6.390625 \r\nQ 36.859375 6.390625 41.078125 11.03125 \r\nQ 45.3125 15.671875 45.3125 23.6875 \r\nL 45.3125 54.6875 \r\nL 54.296875 54.6875 \r\nL 54.296875 0 \r\nL 45.3125 0 \r\nL 45.3125 8.40625 \r\nQ 42.046875 3.421875 37.71875 1 \r\nQ 33.40625 -1.421875 27.6875 -1.421875 \r\nQ 18.265625 -1.421875 13.375 4.4375 \r\nQ 8.5 10.296875 8.5 21.578125 \r\nz\r\nM 31.109375 56 \r\nz\r\n\" id=\"DejaVuSans-117\"/>\r\n      <path d=\"M 52 44.1875 \r\nQ 55.375 50.25 60.0625 53.125 \r\nQ 64.75 56 71.09375 56 \r\nQ 79.640625 56 84.28125 50.015625 \r\nQ 88.921875 44.046875 88.921875 33.015625 \r\nL 88.921875 0 \r\nL 79.890625 0 \r\nL 79.890625 32.71875 \r\nQ 79.890625 40.578125 77.09375 44.375 \r\nQ 74.3125 48.1875 68.609375 48.1875 \r\nQ 61.625 48.1875 57.5625 43.546875 \r\nQ 53.515625 38.921875 53.515625 30.90625 \r\nL 53.515625 0 \r\nL 44.484375 0 \r\nL 44.484375 32.71875 \r\nQ 44.484375 40.625 41.703125 44.40625 \r\nQ 38.921875 48.1875 33.109375 48.1875 \r\nQ 26.21875 48.1875 22.15625 43.53125 \r\nQ 18.109375 38.875 18.109375 30.90625 \r\nL 18.109375 0 \r\nL 9.078125 0 \r\nL 9.078125 54.6875 \r\nL 18.109375 54.6875 \r\nL 18.109375 46.1875 \r\nQ 21.1875 51.21875 25.484375 53.609375 \r\nQ 29.78125 56 35.6875 56 \r\nQ 41.65625 56 45.828125 52.96875 \r\nQ 50 49.953125 52 44.1875 \r\nz\r\n\" id=\"DejaVuSans-109\"/>\r\n      <path d=\"M 48.6875 27.296875 \r\nQ 48.6875 37.203125 44.609375 42.84375 \r\nQ 40.53125 48.484375 33.40625 48.484375 \r\nQ 26.265625 48.484375 22.1875 42.84375 \r\nQ 18.109375 37.203125 18.109375 27.296875 \r\nQ 18.109375 17.390625 22.1875 11.75 \r\nQ 26.265625 6.109375 33.40625 6.109375 \r\nQ 40.53125 6.109375 44.609375 11.75 \r\nQ 48.6875 17.390625 48.6875 27.296875 \r\nz\r\nM 18.109375 46.390625 \r\nQ 20.953125 51.265625 25.265625 53.625 \r\nQ 29.59375 56 35.59375 56 \r\nQ 45.5625 56 51.78125 48.09375 \r\nQ 58.015625 40.1875 58.015625 27.296875 \r\nQ 58.015625 14.40625 51.78125 6.484375 \r\nQ 45.5625 -1.421875 35.59375 -1.421875 \r\nQ 29.59375 -1.421875 25.265625 0.953125 \r\nQ 20.953125 3.328125 18.109375 8.203125 \r\nL 18.109375 0 \r\nL 9.078125 0 \r\nL 9.078125 75.984375 \r\nL 18.109375 75.984375 \r\nz\r\n\" id=\"DejaVuSans-98\"/>\r\n      <path d=\"M 56.203125 29.59375 \r\nL 56.203125 25.203125 \r\nL 14.890625 25.203125 \r\nQ 15.484375 15.921875 20.484375 11.0625 \r\nQ 25.484375 6.203125 34.421875 6.203125 \r\nQ 39.59375 6.203125 44.453125 7.46875 \r\nQ 49.3125 8.734375 54.109375 11.28125 \r\nL 54.109375 2.78125 \r\nQ 49.265625 0.734375 44.1875 -0.34375 \r\nQ 39.109375 -1.421875 33.890625 -1.421875 \r\nQ 20.796875 -1.421875 13.15625 6.1875 \r\nQ 5.515625 13.8125 5.515625 26.8125 \r\nQ 5.515625 40.234375 12.765625 48.109375 \r\nQ 20.015625 56 32.328125 56 \r\nQ 43.359375 56 49.78125 48.890625 \r\nQ 56.203125 41.796875 56.203125 29.59375 \r\nz\r\nM 47.21875 32.234375 \r\nQ 47.125 39.59375 43.09375 43.984375 \r\nQ 39.0625 48.390625 32.421875 48.390625 \r\nQ 24.90625 48.390625 20.390625 44.140625 \r\nQ 15.875 39.890625 15.1875 32.171875 \r\nz\r\n\" id=\"DejaVuSans-101\"/>\r\n      <path d=\"M 41.109375 46.296875 \r\nQ 39.59375 47.171875 37.8125 47.578125 \r\nQ 36.03125 48 33.890625 48 \r\nQ 26.265625 48 22.1875 43.046875 \r\nQ 18.109375 38.09375 18.109375 28.8125 \r\nL 18.109375 0 \r\nL 9.078125 0 \r\nL 9.078125 54.6875 \r\nL 18.109375 54.6875 \r\nL 18.109375 46.1875 \r\nQ 20.953125 51.171875 25.484375 53.578125 \r\nQ 30.03125 56 36.53125 56 \r\nQ 37.453125 56 38.578125 55.875 \r\nQ 39.703125 55.765625 41.0625 55.515625 \r\nz\r\n\" id=\"DejaVuSans-114\"/>\r\n      <path id=\"DejaVuSans-32\"/>\r\n      <path d=\"M 30.609375 48.390625 \r\nQ 23.390625 48.390625 19.1875 42.75 \r\nQ 14.984375 37.109375 14.984375 27.296875 \r\nQ 14.984375 17.484375 19.15625 11.84375 \r\nQ 23.34375 6.203125 30.609375 6.203125 \r\nQ 37.796875 6.203125 41.984375 11.859375 \r\nQ 46.1875 17.53125 46.1875 27.296875 \r\nQ 46.1875 37.015625 41.984375 42.703125 \r\nQ 37.796875 48.390625 30.609375 48.390625 \r\nz\r\nM 30.609375 56 \r\nQ 42.328125 56 49.015625 48.375 \r\nQ 55.71875 40.765625 55.71875 27.296875 \r\nQ 55.71875 13.875 49.015625 6.21875 \r\nQ 42.328125 -1.421875 30.609375 -1.421875 \r\nQ 18.84375 -1.421875 12.171875 6.21875 \r\nQ 5.515625 13.875 5.515625 27.296875 \r\nQ 5.515625 40.765625 12.171875 48.375 \r\nQ 18.84375 56 30.609375 56 \r\nz\r\n\" id=\"DejaVuSans-111\"/>\r\n      <path d=\"M 37.109375 75.984375 \r\nL 37.109375 68.5 \r\nL 28.515625 68.5 \r\nQ 23.6875 68.5 21.796875 66.546875 \r\nQ 19.921875 64.59375 19.921875 59.515625 \r\nL 19.921875 54.6875 \r\nL 34.71875 54.6875 \r\nL 34.71875 47.703125 \r\nL 19.921875 47.703125 \r\nL 19.921875 0 \r\nL 10.890625 0 \r\nL 10.890625 47.703125 \r\nL 2.296875 47.703125 \r\nL 2.296875 54.6875 \r\nL 10.890625 54.6875 \r\nL 10.890625 58.5 \r\nQ 10.890625 67.625 15.140625 71.796875 \r\nQ 19.390625 75.984375 28.609375 75.984375 \r\nz\r\n\" id=\"DejaVuSans-102\"/>\r\n      <path d=\"M 19.671875 64.796875 \r\nL 19.671875 37.40625 \r\nL 32.078125 37.40625 \r\nQ 38.96875 37.40625 42.71875 40.96875 \r\nQ 46.484375 44.53125 46.484375 51.125 \r\nQ 46.484375 57.671875 42.71875 61.234375 \r\nQ 38.96875 64.796875 32.078125 64.796875 \r\nz\r\nM 9.8125 72.90625 \r\nL 32.078125 72.90625 \r\nQ 44.34375 72.90625 50.609375 67.359375 \r\nQ 56.890625 61.8125 56.890625 51.125 \r\nQ 56.890625 40.328125 50.609375 34.8125 \r\nQ 44.34375 29.296875 32.078125 29.296875 \r\nL 19.671875 29.296875 \r\nL 19.671875 0 \r\nL 9.8125 0 \r\nz\r\n\" id=\"DejaVuSans-80\"/>\r\n      <path d=\"M 44.28125 53.078125 \r\nL 44.28125 44.578125 \r\nQ 40.484375 46.53125 36.375 47.5 \r\nQ 32.28125 48.484375 27.875 48.484375 \r\nQ 21.1875 48.484375 17.84375 46.4375 \r\nQ 14.5 44.390625 14.5 40.28125 \r\nQ 14.5 37.15625 16.890625 35.375 \r\nQ 19.28125 33.59375 26.515625 31.984375 \r\nL 29.59375 31.296875 \r\nQ 39.15625 29.25 43.1875 25.515625 \r\nQ 47.21875 21.78125 47.21875 15.09375 \r\nQ 47.21875 7.46875 41.1875 3.015625 \r\nQ 35.15625 -1.421875 24.609375 -1.421875 \r\nQ 20.21875 -1.421875 15.453125 -0.5625 \r\nQ 10.6875 0.296875 5.421875 2 \r\nL 5.421875 11.28125 \r\nQ 10.40625 8.6875 15.234375 7.390625 \r\nQ 20.0625 6.109375 24.8125 6.109375 \r\nQ 31.15625 6.109375 34.5625 8.28125 \r\nQ 37.984375 10.453125 37.984375 14.40625 \r\nQ 37.984375 18.0625 35.515625 20.015625 \r\nQ 33.0625 21.96875 24.703125 23.78125 \r\nL 21.578125 24.515625 \r\nQ 13.234375 26.265625 9.515625 29.90625 \r\nQ 5.8125 33.546875 5.8125 39.890625 \r\nQ 5.8125 47.609375 11.28125 51.796875 \r\nQ 16.75 56 26.8125 56 \r\nQ 31.78125 56 36.171875 55.265625 \r\nQ 40.578125 54.546875 44.28125 53.078125 \r\nz\r\n\" id=\"DejaVuSans-115\"/>\r\n      <path d=\"M 18.3125 70.21875 \r\nL 18.3125 54.6875 \r\nL 36.8125 54.6875 \r\nL 36.8125 47.703125 \r\nL 18.3125 47.703125 \r\nL 18.3125 18.015625 \r\nQ 18.3125 11.328125 20.140625 9.421875 \r\nQ 21.96875 7.515625 27.59375 7.515625 \r\nL 36.8125 7.515625 \r\nL 36.8125 0 \r\nL 27.59375 0 \r\nQ 17.1875 0 13.234375 3.875 \r\nQ 9.28125 7.765625 9.28125 18.015625 \r\nL 9.28125 47.703125 \r\nL 2.6875 47.703125 \r\nL 2.6875 54.6875 \r\nL 9.28125 54.6875 \r\nL 9.28125 70.21875 \r\nz\r\n\" id=\"DejaVuSans-116\"/>\r\n      <path d=\"M 9.421875 54.6875 \r\nL 18.40625 54.6875 \r\nL 18.40625 0 \r\nL 9.421875 0 \r\nz\r\nM 9.421875 75.984375 \r\nL 18.40625 75.984375 \r\nL 18.40625 64.59375 \r\nL 9.421875 64.59375 \r\nz\r\n\" id=\"DejaVuSans-105\"/>\r\n      <path d=\"M 54.890625 33.015625 \r\nL 54.890625 0 \r\nL 45.90625 0 \r\nL 45.90625 32.71875 \r\nQ 45.90625 40.484375 42.875 44.328125 \r\nQ 39.84375 48.1875 33.796875 48.1875 \r\nQ 26.515625 48.1875 22.3125 43.546875 \r\nQ 18.109375 38.921875 18.109375 30.90625 \r\nL 18.109375 0 \r\nL 9.078125 0 \r\nL 9.078125 54.6875 \r\nL 18.109375 54.6875 \r\nL 18.109375 46.1875 \r\nQ 21.34375 51.125 25.703125 53.5625 \r\nQ 30.078125 56 35.796875 56 \r\nQ 45.21875 56 50.046875 50.171875 \r\nQ 54.890625 44.34375 54.890625 33.015625 \r\nz\r\n\" id=\"DejaVuSans-110\"/>\r\n      <path d=\"M -0.296875 72.90625 \r\nL 61.375 72.90625 \r\nL 61.375 64.59375 \r\nL 35.5 64.59375 \r\nL 35.5 0 \r\nL 25.59375 0 \r\nL 25.59375 64.59375 \r\nL -0.296875 64.59375 \r\nz\r\n\" id=\"DejaVuSans-84\"/>\r\n      <path d=\"M 18.109375 8.203125 \r\nL 18.109375 -20.796875 \r\nL 9.078125 -20.796875 \r\nL 9.078125 54.6875 \r\nL 18.109375 54.6875 \r\nL 18.109375 46.390625 \r\nQ 20.953125 51.265625 25.265625 53.625 \r\nQ 29.59375 56 35.59375 56 \r\nQ 45.5625 56 51.78125 48.09375 \r\nQ 58.015625 40.1875 58.015625 27.296875 \r\nQ 58.015625 14.40625 51.78125 6.484375 \r\nQ 45.5625 -1.421875 35.59375 -1.421875 \r\nQ 29.59375 -1.421875 25.265625 0.953125 \r\nQ 20.953125 3.328125 18.109375 8.203125 \r\nz\r\nM 48.6875 27.296875 \r\nQ 48.6875 37.203125 44.609375 42.84375 \r\nQ 40.53125 48.484375 33.40625 48.484375 \r\nQ 26.265625 48.484375 22.1875 42.84375 \r\nQ 18.109375 37.203125 18.109375 27.296875 \r\nQ 18.109375 17.390625 22.1875 11.75 \r\nQ 26.265625 6.109375 33.40625 6.109375 \r\nQ 40.53125 6.109375 44.609375 11.75 \r\nQ 48.6875 17.390625 48.6875 27.296875 \r\nz\r\n\" id=\"DejaVuSans-112\"/>\r\n      <path d=\"M 34.1875 63.1875 \r\nL 20.796875 26.90625 \r\nL 47.609375 26.90625 \r\nz\r\nM 28.609375 72.90625 \r\nL 39.796875 72.90625 \r\nL 67.578125 0 \r\nL 57.328125 0 \r\nL 50.6875 18.703125 \r\nL 17.828125 18.703125 \r\nL 11.1875 0 \r\nL 0.78125 0 \r\nz\r\n\" id=\"DejaVuSans-65\"/>\r\n      <path d=\"M 9.421875 75.984375 \r\nL 18.40625 75.984375 \r\nL 18.40625 0 \r\nL 9.421875 0 \r\nz\r\n\" id=\"DejaVuSans-108\"/>\r\n     </defs>\r\n     <g transform=\"translate(103.906094 316.706687)scale(0.1 -0.1)\">\r\n      <use xlink:href=\"#DejaVuSans-78\"/>\r\n      <use x=\"74.804688\" xlink:href=\"#DejaVuSans-117\"/>\r\n      <use x=\"138.183594\" xlink:href=\"#DejaVuSans-109\"/>\r\n      <use x=\"235.595703\" xlink:href=\"#DejaVuSans-98\"/>\r\n      <use x=\"299.072266\" xlink:href=\"#DejaVuSans-101\"/>\r\n      <use x=\"360.595703\" xlink:href=\"#DejaVuSans-114\"/>\r\n      <use x=\"401.708984\" xlink:href=\"#DejaVuSans-32\"/>\r\n      <use x=\"433.496094\" xlink:href=\"#DejaVuSans-111\"/>\r\n      <use x=\"494.677734\" xlink:href=\"#DejaVuSans-102\"/>\r\n      <use x=\"529.882812\" xlink:href=\"#DejaVuSans-32\"/>\r\n      <use x=\"561.669922\" xlink:href=\"#DejaVuSans-80\"/>\r\n      <use x=\"618.347656\" xlink:href=\"#DejaVuSans-111\"/>\r\n      <use x=\"679.529297\" xlink:href=\"#DejaVuSans-115\"/>\r\n      <use x=\"731.628906\" xlink:href=\"#DejaVuSans-116\"/>\r\n      <use x=\"770.837891\" xlink:href=\"#DejaVuSans-115\"/>\r\n      <use x=\"822.9375\" xlink:href=\"#DejaVuSans-32\"/>\r\n      <use x=\"854.724609\" xlink:href=\"#DejaVuSans-105\"/>\r\n      <use x=\"882.507812\" xlink:href=\"#DejaVuSans-110\"/>\r\n      <use x=\"945.886719\" xlink:href=\"#DejaVuSans-32\"/>\r\n      <use x=\"977.673828\" xlink:href=\"#DejaVuSans-84\"/>\r\n      <use x=\"1021.757812\" xlink:href=\"#DejaVuSans-111\"/>\r\n      <use x=\"1082.939453\" xlink:href=\"#DejaVuSans-112\"/>\r\n      <use x=\"1146.416016\" xlink:href=\"#DejaVuSans-32\"/>\r\n      <use x=\"1178.203125\" xlink:href=\"#DejaVuSans-49\"/>\r\n      <use x=\"1241.826172\" xlink:href=\"#DejaVuSans-48\"/>\r\n      <use x=\"1305.449219\" xlink:href=\"#DejaVuSans-48\"/>\r\n      <use x=\"1369.072266\" xlink:href=\"#DejaVuSans-48\"/>\r\n      <use x=\"1432.695312\" xlink:href=\"#DejaVuSans-32\"/>\r\n      <use x=\"1464.482422\" xlink:href=\"#DejaVuSans-80\"/>\r\n      <use x=\"1521.160156\" xlink:href=\"#DejaVuSans-111\"/>\r\n      <use x=\"1582.341797\" xlink:href=\"#DejaVuSans-115\"/>\r\n      <use x=\"1634.441406\" xlink:href=\"#DejaVuSans-116\"/>\r\n      <use x=\"1673.650391\" xlink:href=\"#DejaVuSans-115\"/>\r\n      <use x=\"1725.75\" xlink:href=\"#DejaVuSans-32\"/>\r\n      <use x=\"1757.537109\" xlink:href=\"#DejaVuSans-111\"/>\r\n      <use x=\"1818.71875\" xlink:href=\"#DejaVuSans-102\"/>\r\n      <use x=\"1853.923828\" xlink:href=\"#DejaVuSans-32\"/>\r\n      <use x=\"1885.710938\" xlink:href=\"#DejaVuSans-65\"/>\r\n      <use x=\"1954.119141\" xlink:href=\"#DejaVuSans-108\"/>\r\n      <use x=\"1981.902344\" xlink:href=\"#DejaVuSans-108\"/>\r\n      <use x=\"2009.685547\" xlink:href=\"#DejaVuSans-32\"/>\r\n      <use x=\"2041.472656\" xlink:href=\"#DejaVuSans-84\"/>\r\n      <use x=\"2099.431641\" xlink:href=\"#DejaVuSans-105\"/>\r\n      <use x=\"2127.214844\" xlink:href=\"#DejaVuSans-109\"/>\r\n      <use x=\"2224.626953\" xlink:href=\"#DejaVuSans-101\"/>\r\n     </g>\r\n    </g>\r\n   </g>\r\n   <g id=\"matplotlib.axis_2\">\r\n    <g id=\"ytick_1\">\r\n     <g id=\"line2d_7\">\r\n      <defs>\r\n       <path d=\"M 0 0 \r\nL -3.5 0 \r\n\" id=\"md5be649da0\" style=\"stroke:#000000;stroke-width:0.8;\"/>\r\n      </defs>\r\n      <g>\r\n       <use style=\"stroke:#000000;stroke-width:0.8;\" x=\"39.65\" xlink:href=\"#md5be649da0\" y=\"54.574125\"/>\r\n      </g>\r\n     </g>\r\n     <g id=\"text_8\">\r\n      <!-- 2020 -->\r\n      <g transform=\"translate(7.2 58.373344)scale(0.1 -0.1)\">\r\n       <use xlink:href=\"#DejaVuSans-50\"/>\r\n       <use x=\"63.623047\" xlink:href=\"#DejaVuSans-48\"/>\r\n       <use x=\"127.246094\" xlink:href=\"#DejaVuSans-50\"/>\r\n       <use x=\"190.869141\" xlink:href=\"#DejaVuSans-48\"/>\r\n      </g>\r\n     </g>\r\n    </g>\r\n    <g id=\"ytick_2\">\r\n     <g id=\"line2d_8\">\r\n      <g>\r\n       <use style=\"stroke:#000000;stroke-width:0.8;\" x=\"39.65\" xlink:href=\"#md5be649da0\" y=\"104.974125\"/>\r\n      </g>\r\n     </g>\r\n     <g id=\"text_9\">\r\n      <!-- 2019 -->\r\n      <defs>\r\n       <path d=\"M 10.984375 1.515625 \r\nL 10.984375 10.5 \r\nQ 14.703125 8.734375 18.5 7.8125 \r\nQ 22.3125 6.890625 25.984375 6.890625 \r\nQ 35.75 6.890625 40.890625 13.453125 \r\nQ 46.046875 20.015625 46.78125 33.40625 \r\nQ 43.953125 29.203125 39.59375 26.953125 \r\nQ 35.25 24.703125 29.984375 24.703125 \r\nQ 19.046875 24.703125 12.671875 31.3125 \r\nQ 6.296875 37.9375 6.296875 49.421875 \r\nQ 6.296875 60.640625 12.9375 67.421875 \r\nQ 19.578125 74.21875 30.609375 74.21875 \r\nQ 43.265625 74.21875 49.921875 64.515625 \r\nQ 56.59375 54.828125 56.59375 36.375 \r\nQ 56.59375 19.140625 48.40625 8.859375 \r\nQ 40.234375 -1.421875 26.421875 -1.421875 \r\nQ 22.703125 -1.421875 18.890625 -0.6875 \r\nQ 15.09375 0.046875 10.984375 1.515625 \r\nz\r\nM 30.609375 32.421875 \r\nQ 37.25 32.421875 41.125 36.953125 \r\nQ 45.015625 41.5 45.015625 49.421875 \r\nQ 45.015625 57.28125 41.125 61.84375 \r\nQ 37.25 66.40625 30.609375 66.40625 \r\nQ 23.96875 66.40625 20.09375 61.84375 \r\nQ 16.21875 57.28125 16.21875 49.421875 \r\nQ 16.21875 41.5 20.09375 36.953125 \r\nQ 23.96875 32.421875 30.609375 32.421875 \r\nz\r\n\" id=\"DejaVuSans-57\"/>\r\n      </defs>\r\n      <g transform=\"translate(7.2 108.773344)scale(0.1 -0.1)\">\r\n       <use xlink:href=\"#DejaVuSans-50\"/>\r\n       <use x=\"63.623047\" xlink:href=\"#DejaVuSans-48\"/>\r\n       <use x=\"127.246094\" xlink:href=\"#DejaVuSans-49\"/>\r\n       <use x=\"190.869141\" xlink:href=\"#DejaVuSans-57\"/>\r\n      </g>\r\n     </g>\r\n    </g>\r\n    <g id=\"ytick_3\">\r\n     <g id=\"line2d_9\">\r\n      <g>\r\n       <use style=\"stroke:#000000;stroke-width:0.8;\" x=\"39.65\" xlink:href=\"#md5be649da0\" y=\"155.374125\"/>\r\n      </g>\r\n     </g>\r\n     <g id=\"text_10\">\r\n      <!-- 2018 -->\r\n      <defs>\r\n       <path d=\"M 31.78125 34.625 \r\nQ 24.75 34.625 20.71875 30.859375 \r\nQ 16.703125 27.09375 16.703125 20.515625 \r\nQ 16.703125 13.921875 20.71875 10.15625 \r\nQ 24.75 6.390625 31.78125 6.390625 \r\nQ 38.8125 6.390625 42.859375 10.171875 \r\nQ 46.921875 13.96875 46.921875 20.515625 \r\nQ 46.921875 27.09375 42.890625 30.859375 \r\nQ 38.875 34.625 31.78125 34.625 \r\nz\r\nM 21.921875 38.8125 \r\nQ 15.578125 40.375 12.03125 44.71875 \r\nQ 8.5 49.078125 8.5 55.328125 \r\nQ 8.5 64.0625 14.71875 69.140625 \r\nQ 20.953125 74.21875 31.78125 74.21875 \r\nQ 42.671875 74.21875 48.875 69.140625 \r\nQ 55.078125 64.0625 55.078125 55.328125 \r\nQ 55.078125 49.078125 51.53125 44.71875 \r\nQ 48 40.375 41.703125 38.8125 \r\nQ 48.828125 37.15625 52.796875 32.3125 \r\nQ 56.78125 27.484375 56.78125 20.515625 \r\nQ 56.78125 9.90625 50.3125 4.234375 \r\nQ 43.84375 -1.421875 31.78125 -1.421875 \r\nQ 19.734375 -1.421875 13.25 4.234375 \r\nQ 6.78125 9.90625 6.78125 20.515625 \r\nQ 6.78125 27.484375 10.78125 32.3125 \r\nQ 14.796875 37.15625 21.921875 38.8125 \r\nz\r\nM 18.3125 54.390625 \r\nQ 18.3125 48.734375 21.84375 45.5625 \r\nQ 25.390625 42.390625 31.78125 42.390625 \r\nQ 38.140625 42.390625 41.71875 45.5625 \r\nQ 45.3125 48.734375 45.3125 54.390625 \r\nQ 45.3125 60.0625 41.71875 63.234375 \r\nQ 38.140625 66.40625 31.78125 66.40625 \r\nQ 25.390625 66.40625 21.84375 63.234375 \r\nQ 18.3125 60.0625 18.3125 54.390625 \r\nz\r\n\" id=\"DejaVuSans-56\"/>\r\n      </defs>\r\n      <g transform=\"translate(7.2 159.173344)scale(0.1 -0.1)\">\r\n       <use xlink:href=\"#DejaVuSans-50\"/>\r\n       <use x=\"63.623047\" xlink:href=\"#DejaVuSans-48\"/>\r\n       <use x=\"127.246094\" xlink:href=\"#DejaVuSans-49\"/>\r\n       <use x=\"190.869141\" xlink:href=\"#DejaVuSans-56\"/>\r\n      </g>\r\n     </g>\r\n    </g>\r\n    <g id=\"ytick_4\">\r\n     <g id=\"line2d_10\">\r\n      <g>\r\n       <use style=\"stroke:#000000;stroke-width:0.8;\" x=\"39.65\" xlink:href=\"#md5be649da0\" y=\"205.774125\"/>\r\n      </g>\r\n     </g>\r\n     <g id=\"text_11\">\r\n      <!-- 2017 -->\r\n      <defs>\r\n       <path d=\"M 8.203125 72.90625 \r\nL 55.078125 72.90625 \r\nL 55.078125 68.703125 \r\nL 28.609375 0 \r\nL 18.3125 0 \r\nL 43.21875 64.59375 \r\nL 8.203125 64.59375 \r\nz\r\n\" id=\"DejaVuSans-55\"/>\r\n      </defs>\r\n      <g transform=\"translate(7.2 209.573344)scale(0.1 -0.1)\">\r\n       <use xlink:href=\"#DejaVuSans-50\"/>\r\n       <use x=\"63.623047\" xlink:href=\"#DejaVuSans-48\"/>\r\n       <use x=\"127.246094\" xlink:href=\"#DejaVuSans-49\"/>\r\n       <use x=\"190.869141\" xlink:href=\"#DejaVuSans-55\"/>\r\n      </g>\r\n     </g>\r\n    </g>\r\n    <g id=\"ytick_5\">\r\n     <g id=\"line2d_11\">\r\n      <g>\r\n       <use style=\"stroke:#000000;stroke-width:0.8;\" x=\"39.65\" xlink:href=\"#md5be649da0\" y=\"256.174125\"/>\r\n      </g>\r\n     </g>\r\n     <g id=\"text_12\">\r\n      <!-- 2016 -->\r\n      <defs>\r\n       <path d=\"M 33.015625 40.375 \r\nQ 26.375 40.375 22.484375 35.828125 \r\nQ 18.609375 31.296875 18.609375 23.390625 \r\nQ 18.609375 15.53125 22.484375 10.953125 \r\nQ 26.375 6.390625 33.015625 6.390625 \r\nQ 39.65625 6.390625 43.53125 10.953125 \r\nQ 47.40625 15.53125 47.40625 23.390625 \r\nQ 47.40625 31.296875 43.53125 35.828125 \r\nQ 39.65625 40.375 33.015625 40.375 \r\nz\r\nM 52.59375 71.296875 \r\nL 52.59375 62.3125 \r\nQ 48.875 64.0625 45.09375 64.984375 \r\nQ 41.3125 65.921875 37.59375 65.921875 \r\nQ 27.828125 65.921875 22.671875 59.328125 \r\nQ 17.53125 52.734375 16.796875 39.40625 \r\nQ 19.671875 43.65625 24.015625 45.921875 \r\nQ 28.375 48.1875 33.59375 48.1875 \r\nQ 44.578125 48.1875 50.953125 41.515625 \r\nQ 57.328125 34.859375 57.328125 23.390625 \r\nQ 57.328125 12.15625 50.6875 5.359375 \r\nQ 44.046875 -1.421875 33.015625 -1.421875 \r\nQ 20.359375 -1.421875 13.671875 8.265625 \r\nQ 6.984375 17.96875 6.984375 36.375 \r\nQ 6.984375 53.65625 15.1875 63.9375 \r\nQ 23.390625 74.21875 37.203125 74.21875 \r\nQ 40.921875 74.21875 44.703125 73.484375 \r\nQ 48.484375 72.75 52.59375 71.296875 \r\nz\r\n\" id=\"DejaVuSans-54\"/>\r\n      </defs>\r\n      <g transform=\"translate(7.2 259.973344)scale(0.1 -0.1)\">\r\n       <use xlink:href=\"#DejaVuSans-50\"/>\r\n       <use x=\"63.623047\" xlink:href=\"#DejaVuSans-48\"/>\r\n       <use x=\"127.246094\" xlink:href=\"#DejaVuSans-49\"/>\r\n       <use x=\"190.869141\" xlink:href=\"#DejaVuSans-54\"/>\r\n      </g>\r\n     </g>\r\n    </g>\r\n   </g>\r\n   <g id=\"patch_8\">\r\n    <path d=\"M 39.65 288.430125 \r\nL 39.65 22.318125 \r\n\" style=\"fill:none;stroke:#000000;stroke-linecap:square;stroke-linejoin:miter;stroke-width:0.8;\"/>\r\n   </g>\r\n   <g id=\"patch_9\">\r\n    <path d=\"M 396.77 288.430125 \r\nL 396.77 22.318125 \r\n\" style=\"fill:none;stroke:#000000;stroke-linecap:square;stroke-linejoin:miter;stroke-width:0.8;\"/>\r\n   </g>\r\n   <g id=\"patch_10\">\r\n    <path d=\"M 39.65 288.430125 \r\nL 396.77 288.430125 \r\n\" style=\"fill:none;stroke:#000000;stroke-linecap:square;stroke-linejoin:miter;stroke-width:0.8;\"/>\r\n   </g>\r\n   <g id=\"patch_11\">\r\n    <path d=\"M 39.65 22.318125 \r\nL 396.77 22.318125 \r\n\" style=\"fill:none;stroke:#000000;stroke-linecap:square;stroke-linejoin:miter;stroke-width:0.8;\"/>\r\n   </g>\r\n   <g id=\"text_13\">\r\n    <!-- Posts in Top 1000 (R/Careerguidance) -->\r\n    <defs>\r\n     <path d=\"M 31 75.875 \r\nQ 24.46875 64.65625 21.28125 53.65625 \r\nQ 18.109375 42.671875 18.109375 31.390625 \r\nQ 18.109375 20.125 21.3125 9.0625 \r\nQ 24.515625 -2 31 -13.1875 \r\nL 23.1875 -13.1875 \r\nQ 15.875 -1.703125 12.234375 9.375 \r\nQ 8.59375 20.453125 8.59375 31.390625 \r\nQ 8.59375 42.28125 12.203125 53.3125 \r\nQ 15.828125 64.359375 23.1875 75.875 \r\nz\r\n\" id=\"DejaVuSans-40\"/>\r\n     <path d=\"M 44.390625 34.1875 \r\nQ 47.5625 33.109375 50.5625 29.59375 \r\nQ 53.5625 26.078125 56.59375 19.921875 \r\nL 66.609375 0 \r\nL 56 0 \r\nL 46.6875 18.703125 \r\nQ 43.0625 26.03125 39.671875 28.421875 \r\nQ 36.28125 30.8125 30.421875 30.8125 \r\nL 19.671875 30.8125 \r\nL 19.671875 0 \r\nL 9.8125 0 \r\nL 9.8125 72.90625 \r\nL 32.078125 72.90625 \r\nQ 44.578125 72.90625 50.734375 67.671875 \r\nQ 56.890625 62.453125 56.890625 51.90625 \r\nQ 56.890625 45.015625 53.6875 40.46875 \r\nQ 50.484375 35.9375 44.390625 34.1875 \r\nz\r\nM 19.671875 64.796875 \r\nL 19.671875 38.921875 \r\nL 32.078125 38.921875 \r\nQ 39.203125 38.921875 42.84375 42.21875 \r\nQ 46.484375 45.515625 46.484375 51.90625 \r\nQ 46.484375 58.296875 42.84375 61.546875 \r\nQ 39.203125 64.796875 32.078125 64.796875 \r\nz\r\n\" id=\"DejaVuSans-82\"/>\r\n     <path d=\"M 25.390625 72.90625 \r\nL 33.6875 72.90625 \r\nL 8.296875 -9.28125 \r\nL 0 -9.28125 \r\nz\r\n\" id=\"DejaVuSans-47\"/>\r\n     <path d=\"M 64.40625 67.28125 \r\nL 64.40625 56.890625 \r\nQ 59.421875 61.53125 53.78125 63.8125 \r\nQ 48.140625 66.109375 41.796875 66.109375 \r\nQ 29.296875 66.109375 22.65625 58.46875 \r\nQ 16.015625 50.828125 16.015625 36.375 \r\nQ 16.015625 21.96875 22.65625 14.328125 \r\nQ 29.296875 6.6875 41.796875 6.6875 \r\nQ 48.140625 6.6875 53.78125 8.984375 \r\nQ 59.421875 11.28125 64.40625 15.921875 \r\nL 64.40625 5.609375 \r\nQ 59.234375 2.09375 53.4375 0.328125 \r\nQ 47.65625 -1.421875 41.21875 -1.421875 \r\nQ 24.65625 -1.421875 15.125 8.703125 \r\nQ 5.609375 18.84375 5.609375 36.375 \r\nQ 5.609375 53.953125 15.125 64.078125 \r\nQ 24.65625 74.21875 41.21875 74.21875 \r\nQ 47.75 74.21875 53.53125 72.484375 \r\nQ 59.328125 70.75 64.40625 67.28125 \r\nz\r\n\" id=\"DejaVuSans-67\"/>\r\n     <path d=\"M 34.28125 27.484375 \r\nQ 23.390625 27.484375 19.1875 25 \r\nQ 14.984375 22.515625 14.984375 16.5 \r\nQ 14.984375 11.71875 18.140625 8.90625 \r\nQ 21.296875 6.109375 26.703125 6.109375 \r\nQ 34.1875 6.109375 38.703125 11.40625 \r\nQ 43.21875 16.703125 43.21875 25.484375 \r\nL 43.21875 27.484375 \r\nz\r\nM 52.203125 31.203125 \r\nL 52.203125 0 \r\nL 43.21875 0 \r\nL 43.21875 8.296875 \r\nQ 40.140625 3.328125 35.546875 0.953125 \r\nQ 30.953125 -1.421875 24.3125 -1.421875 \r\nQ 15.921875 -1.421875 10.953125 3.296875 \r\nQ 6 8.015625 6 15.921875 \r\nQ 6 25.140625 12.171875 29.828125 \r\nQ 18.359375 34.515625 30.609375 34.515625 \r\nL 43.21875 34.515625 \r\nL 43.21875 35.40625 \r\nQ 43.21875 41.609375 39.140625 45 \r\nQ 35.0625 48.390625 27.6875 48.390625 \r\nQ 23 48.390625 18.546875 47.265625 \r\nQ 14.109375 46.140625 10.015625 43.890625 \r\nL 10.015625 52.203125 \r\nQ 14.9375 54.109375 19.578125 55.046875 \r\nQ 24.21875 56 28.609375 56 \r\nQ 40.484375 56 46.34375 49.84375 \r\nQ 52.203125 43.703125 52.203125 31.203125 \r\nz\r\n\" id=\"DejaVuSans-97\"/>\r\n     <path d=\"M 45.40625 27.984375 \r\nQ 45.40625 37.75 41.375 43.109375 \r\nQ 37.359375 48.484375 30.078125 48.484375 \r\nQ 22.859375 48.484375 18.828125 43.109375 \r\nQ 14.796875 37.75 14.796875 27.984375 \r\nQ 14.796875 18.265625 18.828125 12.890625 \r\nQ 22.859375 7.515625 30.078125 7.515625 \r\nQ 37.359375 7.515625 41.375 12.890625 \r\nQ 45.40625 18.265625 45.40625 27.984375 \r\nz\r\nM 54.390625 6.78125 \r\nQ 54.390625 -7.171875 48.1875 -13.984375 \r\nQ 42 -20.796875 29.203125 -20.796875 \r\nQ 24.46875 -20.796875 20.265625 -20.09375 \r\nQ 16.0625 -19.390625 12.109375 -17.921875 \r\nL 12.109375 -9.1875 \r\nQ 16.0625 -11.328125 19.921875 -12.34375 \r\nQ 23.78125 -13.375 27.78125 -13.375 \r\nQ 36.625 -13.375 41.015625 -8.765625 \r\nQ 45.40625 -4.15625 45.40625 5.171875 \r\nL 45.40625 9.625 \r\nQ 42.625 4.78125 38.28125 2.390625 \r\nQ 33.9375 0 27.875 0 \r\nQ 17.828125 0 11.671875 7.65625 \r\nQ 5.515625 15.328125 5.515625 27.984375 \r\nQ 5.515625 40.671875 11.671875 48.328125 \r\nQ 17.828125 56 27.875 56 \r\nQ 33.9375 56 38.28125 53.609375 \r\nQ 42.625 51.21875 45.40625 46.390625 \r\nL 45.40625 54.6875 \r\nL 54.390625 54.6875 \r\nz\r\n\" id=\"DejaVuSans-103\"/>\r\n     <path d=\"M 45.40625 46.390625 \r\nL 45.40625 75.984375 \r\nL 54.390625 75.984375 \r\nL 54.390625 0 \r\nL 45.40625 0 \r\nL 45.40625 8.203125 \r\nQ 42.578125 3.328125 38.25 0.953125 \r\nQ 33.9375 -1.421875 27.875 -1.421875 \r\nQ 17.96875 -1.421875 11.734375 6.484375 \r\nQ 5.515625 14.40625 5.515625 27.296875 \r\nQ 5.515625 40.1875 11.734375 48.09375 \r\nQ 17.96875 56 27.875 56 \r\nQ 33.9375 56 38.25 53.625 \r\nQ 42.578125 51.265625 45.40625 46.390625 \r\nz\r\nM 14.796875 27.296875 \r\nQ 14.796875 17.390625 18.875 11.75 \r\nQ 22.953125 6.109375 30.078125 6.109375 \r\nQ 37.203125 6.109375 41.296875 11.75 \r\nQ 45.40625 17.390625 45.40625 27.296875 \r\nQ 45.40625 37.203125 41.296875 42.84375 \r\nQ 37.203125 48.484375 30.078125 48.484375 \r\nQ 22.953125 48.484375 18.875 42.84375 \r\nQ 14.796875 37.203125 14.796875 27.296875 \r\nz\r\n\" id=\"DejaVuSans-100\"/>\r\n     <path d=\"M 48.78125 52.59375 \r\nL 48.78125 44.1875 \r\nQ 44.96875 46.296875 41.140625 47.34375 \r\nQ 37.3125 48.390625 33.40625 48.390625 \r\nQ 24.65625 48.390625 19.8125 42.84375 \r\nQ 14.984375 37.3125 14.984375 27.296875 \r\nQ 14.984375 17.28125 19.8125 11.734375 \r\nQ 24.65625 6.203125 33.40625 6.203125 \r\nQ 37.3125 6.203125 41.140625 7.25 \r\nQ 44.96875 8.296875 48.78125 10.40625 \r\nL 48.78125 2.09375 \r\nQ 45.015625 0.34375 40.984375 -0.53125 \r\nQ 36.96875 -1.421875 32.421875 -1.421875 \r\nQ 20.0625 -1.421875 12.78125 6.34375 \r\nQ 5.515625 14.109375 5.515625 27.296875 \r\nQ 5.515625 40.671875 12.859375 48.328125 \r\nQ 20.21875 56 33.015625 56 \r\nQ 37.15625 56 41.109375 55.140625 \r\nQ 45.0625 54.296875 48.78125 52.59375 \r\nz\r\n\" id=\"DejaVuSans-99\"/>\r\n     <path d=\"M 8.015625 75.875 \r\nL 15.828125 75.875 \r\nQ 23.140625 64.359375 26.78125 53.3125 \r\nQ 30.421875 42.28125 30.421875 31.390625 \r\nQ 30.421875 20.453125 26.78125 9.375 \r\nQ 23.140625 -1.703125 15.828125 -13.1875 \r\nL 8.015625 -13.1875 \r\nQ 14.5 -2 17.703125 9.0625 \r\nQ 20.90625 20.125 20.90625 31.390625 \r\nQ 20.90625 42.671875 17.703125 53.65625 \r\nQ 14.5 64.65625 8.015625 75.875 \r\nz\r\n\" id=\"DejaVuSans-41\"/>\r\n    </defs>\r\n    <g transform=\"translate(105.669688 16.318125)scale(0.12 -0.12)\">\r\n     <use xlink:href=\"#DejaVuSans-80\"/>\r\n     <use x=\"56.677734\" xlink:href=\"#DejaVuSans-111\"/>\r\n     <use x=\"117.859375\" xlink:href=\"#DejaVuSans-115\"/>\r\n     <use x=\"169.958984\" xlink:href=\"#DejaVuSans-116\"/>\r\n     <use x=\"209.167969\" xlink:href=\"#DejaVuSans-115\"/>\r\n     <use x=\"261.267578\" xlink:href=\"#DejaVuSans-32\"/>\r\n     <use x=\"293.054688\" xlink:href=\"#DejaVuSans-105\"/>\r\n     <use x=\"320.837891\" xlink:href=\"#DejaVuSans-110\"/>\r\n     <use x=\"384.216797\" xlink:href=\"#DejaVuSans-32\"/>\r\n     <use x=\"416.003906\" xlink:href=\"#DejaVuSans-84\"/>\r\n     <use x=\"460.087891\" xlink:href=\"#DejaVuSans-111\"/>\r\n     <use x=\"521.269531\" xlink:href=\"#DejaVuSans-112\"/>\r\n     <use x=\"584.746094\" xlink:href=\"#DejaVuSans-32\"/>\r\n     <use x=\"616.533203\" xlink:href=\"#DejaVuSans-49\"/>\r\n     <use x=\"680.15625\" xlink:href=\"#DejaVuSans-48\"/>\r\n     <use x=\"743.779297\" xlink:href=\"#DejaVuSans-48\"/>\r\n     <use x=\"807.402344\" xlink:href=\"#DejaVuSans-48\"/>\r\n     <use x=\"871.025391\" xlink:href=\"#DejaVuSans-32\"/>\r\n     <use x=\"902.8125\" xlink:href=\"#DejaVuSans-40\"/>\r\n     <use x=\"941.826172\" xlink:href=\"#DejaVuSans-82\"/>\r\n     <use x=\"1011.308594\" xlink:href=\"#DejaVuSans-47\"/>\r\n     <use x=\"1045\" xlink:href=\"#DejaVuSans-67\"/>\r\n     <use x=\"1114.824219\" xlink:href=\"#DejaVuSans-97\"/>\r\n     <use x=\"1176.103516\" xlink:href=\"#DejaVuSans-114\"/>\r\n     <use x=\"1214.966797\" xlink:href=\"#DejaVuSans-101\"/>\r\n     <use x=\"1276.490234\" xlink:href=\"#DejaVuSans-101\"/>\r\n     <use x=\"1338.013672\" xlink:href=\"#DejaVuSans-114\"/>\r\n     <use x=\"1377.376953\" xlink:href=\"#DejaVuSans-103\"/>\r\n     <use x=\"1440.853516\" xlink:href=\"#DejaVuSans-117\"/>\r\n     <use x=\"1504.232422\" xlink:href=\"#DejaVuSans-105\"/>\r\n     <use x=\"1532.015625\" xlink:href=\"#DejaVuSans-100\"/>\r\n     <use x=\"1595.492188\" xlink:href=\"#DejaVuSans-97\"/>\r\n     <use x=\"1656.771484\" xlink:href=\"#DejaVuSans-110\"/>\r\n     <use x=\"1720.150391\" xlink:href=\"#DejaVuSans-99\"/>\r\n     <use x=\"1775.130859\" xlink:href=\"#DejaVuSans-101\"/>\r\n     <use x=\"1836.654297\" xlink:href=\"#DejaVuSans-41\"/>\r\n    </g>\r\n   </g>\r\n  </g>\r\n </g>\r\n <defs>\r\n  <clipPath id=\"pe4d3153d6d\">\r\n   <rect height=\"266.112\" width=\"357.12\" x=\"39.65\" y=\"22.318125\"/>\r\n  </clipPath>\r\n </defs>\r\n</svg>\r\n",
      "image/png": "[encoded data removed]"
     },
     "metadata": {}
    }
   ],
   "source": [
    "labels = ['2020', '2019', '2018','2017','2016']\n",
    "import matplotlib.pyplot as plt\n",
    "import numpy as np\n",
    "\n",
    "\n",
    "plt.rcdefaults()\n",
    "fig, ax = plt.subplots()\n",
    "\n",
    "# Example data\n",
    "years = ('2020', '2019', '2018','2017','2016')\n",
    "y_pos = np.arange(len(years))\n",
    "num_posts = [547,383,67,3,0]\n",
    "\n",
    "ax.barh(y_pos, num_posts, align='center')\n",
    "ax.set_yticks(y_pos)\n",
    "ax.set_yticklabels(years)\n",
    "ax.invert_yaxis()  # labels read top-to-bottom\n",
    "ax.set_xlabel('Number of Posts in Top 1000 Posts of All Time')\n",
    "ax.set_title('Posts in Top 1000 (R/Careerguidance)')\n",
    "\n",
    "plt.show()\n"
   ]
  }
 ]
}