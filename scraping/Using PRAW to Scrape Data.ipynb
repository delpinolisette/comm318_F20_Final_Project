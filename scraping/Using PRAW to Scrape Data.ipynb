{
 "cells": [
  {
   "cell_type": "markdown",
   "metadata": {},
   "source": [
    "### PRAW Docs\n",
    "[Documentation - Authenticating via OAuth\n",
    "](https://praw.readthedocs.io/en/latest/getting_started/authentication.html#script-application)\n",
    "\n",
    "### Getting Time of Post\n",
    "[Submission Time](https://stackoverflow.com/questions/37952909/how-to-get-the-time-since-post-published-on-praw)"
   ]
  },
  {
   "cell_type": "code",
   "execution_count": 1,
   "metadata": {},
   "outputs": [],
   "source": [
    "#!pip install praw\n",
    "#install praw, only need to run once!"
   ]
  },
  {
   "cell_type": "code",
   "execution_count": 2,
   "metadata": {},
   "outputs": [],
   "source": [
    "#import pandas as pd\n"
   ]
  },
  {
   "cell_type": "code",
   "execution_count": 3,
   "metadata": {},
   "outputs": [
    {
     "name": "stdout",
     "output_type": "stream",
     "text": [
      "<praw.reddit.Reddit object at 0x00000265894627C0>\n"
     ]
    }
   ],
   "source": [
    "import pandas as pd\n",
    "import jobs_scrape\n",
    "# reddit authentication done on gitignored python module on my computer - has secret client key\n",
    "\n",
    "print(jobs_scrape.reddit)\n",
    "\n",
    "reddit = jobs_scrape.reddit # setting variable i can work with here\n"
   ]
  },
  {
   "cell_type": "code",
   "execution_count": 4,
   "metadata": {
    "scrolled": true
   },
   "outputs": [
    {
     "name": "stdout",
     "output_type": "stream",
     "text": [
      "Success and Disappointment Megathread for the Week of (November 09)\n",
      "Tip - search and apply through the company website, not large job boards.\n",
      "I hate “team bonding” or having to connect with my coworkers. I just want to do my job.\n",
      "Previous employer listed me as “not rehire-able.” Will my job offer most likely get rescinded?\n",
      "Put in 2 weeks notice and can't concentrate on anything\n",
      "I haven’t had an interview this bad in a while\n",
      "Dear companies that require pre-recorded interviews and assessments.\n",
      "Trying to get into IT, offer for a 6 month contract position at 32K a year. Worth it?\n",
      "Quick Rant: Poor but forced relationships with managers\n",
      "Recruiter told me I did well in my final interview but yet to offer me the job\n"
     ]
    }
   ],
   "source": [
    "hot_posts = reddit.subreddit('Jobs').hot(limit=10)\n",
    "for post in hot_posts:\n",
    "    print(post.title)"
   ]
  },
  {
   "cell_type": "code",
   "execution_count": 5,
   "metadata": {},
   "outputs": [
    {
     "name": "stdout",
     "output_type": "stream",
     "text": [
      "Guardians of the Front Page\n",
      "Thanks, Obama.\n",
      "Take your time, you got this\n",
      "Blizzard Employees Staged a Walkout After the Company Banned a Gamer for Pro-Hong Kong Views\n",
      "This is Shelia Fredrick, a flight attendant. She noticed a terrified girl accompanied by an older man. She left a note in the bathroom on which the victim wrote that she needed help. The police was alerted & the girl was saved from a human trafficker. We should honor our heroes.\n",
      "DEMOCRACY NOW\n",
      "I got a cease and desist for making the Crocs Gloves\n",
      "Printers\n",
      "I drew all the boys together and i did it for the internet\n",
      "1 dad reflex 2 children\n"
     ]
    }
   ],
   "source": [
    "hot_posts = reddit.subreddit('all').top(limit=10)\n",
    "for post in hot_posts:\n",
    "    print(post.title)"
   ]
  },
  {
   "cell_type": "code",
   "execution_count": 6,
   "metadata": {},
   "outputs": [
    {
     "name": "stdout",
     "output_type": "stream",
     "text": [
      "                                               title  score      id subreddit  \\\n",
      "0  So real talk. Why are so may $30k to $40k per ...  12265  9u3fww      jobs   \n",
      "1  I'm an ex-recruiter for some of the top compan...   7263  7y8k6p      jobs   \n",
      "2                          A Warning About Glassdoor   5485  jbod57      jobs   \n",
      "3  America is not lacking in skilled employees, A...   3729  jo6lc7      jobs   \n",
      "4  UPDATE 3: I have slipped through the cracks at...   3580  3jjs1n      jobs   \n",
      "5      LinkedIn has turned into a glorified Facebook   3216  i08bm3      jobs   \n",
      "6                        Don't let your job kill you   2816  i5hjum      jobs   \n",
      "7  Serious: I walked into my CEOs office and than...   2554  c255l2      jobs   \n",
      "8  I had an amazing interview to a dream job but ...   2408  ie22eo      jobs   \n",
      "9  Finally after 500+ applications i landed a job...   2286  hk550d      jobs   \n",
      "\n",
      "                                                 url  num_comments  \\\n",
      "0  https://www.reddit.com/r/jobs/comments/9u3fww/...          3980   \n",
      "1  https://www.reddit.com/r/jobs/comments/7y8k6p/...           689   \n",
      "2  https://www.reddit.com/r/jobs/comments/jbod57/...           470   \n",
      "3  https://www.reddit.com/r/jobs/comments/jo6lc7/...           354   \n",
      "4  https://www.reddit.com/r/jobs/comments/3jjs1n/...          1264   \n",
      "5  https://www.reddit.com/r/jobs/comments/i08bm3/...           448   \n",
      "6  https://www.reddit.com/r/jobs/comments/i5hjum/...           202   \n",
      "7  https://www.reddit.com/r/jobs/comments/c255l2/...           125   \n",
      "8  https://www.reddit.com/r/jobs/comments/ie22eo/...           270   \n",
      "9  https://www.reddit.com/r/jobs/comments/hk550d/...           189   \n",
      "\n",
      "                                                body       created  \n",
      "0  It just seems odd that when I go on job boards...  1.541368e+09  \n",
      "1  **April 5, 2020 edit:** I've been getting more...  1.518923e+09  \n",
      "2  **EDIT**: A little info from Glassdoor that I ...  1.602800e+09  \n",
      "3  If every entry level job requires a year exper...  1.604558e+09  \n",
      "4  Link to my original post: https://www.reddit.c...  1.441350e+09  \n",
      "5  I'm logging into LinkedIn now more and more, a...  1.596084e+09  \n",
      "6  My uncle was a vice president in a bank. He wa...  1.596849e+09  \n",
      "7  I have been working with my company for about ...  1.560908e+09  \n",
      "8  [https://imgur.com/wZnjYjo](https://imgur.com/...  1.598063e+09  \n",
      "9  Upvote for support. A corporate recruiting pos...  1.593752e+09  \n"
     ]
    }
   ],
   "source": [
    "posts = []\n",
    "jobs_subreddit = reddit.subreddit('Jobs')\n",
    "for post in jobs_subreddit.top(limit=1000):\n",
    "    posts.append([post.title, post.score, post.id, post.subreddit, post.url, post.num_comments, post.selftext, post.created])\n",
    "posts = pd.DataFrame(posts,columns=['title', 'score', 'id', 'subreddit', 'url', 'num_comments', 'body', 'created'])\n",
    "print(posts.head(10))\n",
    "\n"
   ]
  }
 ],
 "metadata": {
  "kernelspec": {
   "display_name": "Python 3",
   "language": "python",
   "name": "python3"
  },
  "language_info": {
   "codemirror_mode": {
    "name": "ipython",
    "version": 3
   },
   "file_extension": ".py",
   "mimetype": "text/x-python",
   "name": "python",
   "nbconvert_exporter": "python",
   "pygments_lexer": "ipython3",
   "version": "3.8.3"
  }
 },
 "nbformat": 4,
 "nbformat_minor": 4
}
