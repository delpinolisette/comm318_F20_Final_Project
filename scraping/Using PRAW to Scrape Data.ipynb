{
 "cells": [
  {
   "cell_type": "markdown",
   "metadata": {},
   "source": [
    "### PRAW Docs\n",
    "[Documentation - Authenticating via OAuth\n",
    "](https://praw.readthedocs.io/en/latest/getting_started/authentication.html#script-application)"
   ]
  },
  {
   "cell_type": "code",
   "execution_count": 1,
   "metadata": {},
   "outputs": [],
   "source": [
    "#!pip install praw\n",
    "#install praw, only need to run once!"
   ]
  },
  {
   "cell_type": "code",
   "execution_count": 2,
   "metadata": {},
   "outputs": [],
   "source": [
    "#import pandas as pd\n"
   ]
  },
  {
   "cell_type": "code",
   "execution_count": 3,
   "metadata": {},
   "outputs": [
    {
     "name": "stdout",
     "output_type": "stream",
     "text": [
      "<praw.reddit.Reddit object at 0x0000017613B28A60>\n"
     ]
    }
   ],
   "source": [
    "import pandas as pd\n",
    "import jobs_scrape\n",
    "# reddit authentication done on gitignored python module on my computer - has secret client key\n",
    "\n",
    "print(jobs_scrape.reddit)\n",
    "\n",
    "reddit = jobs_scrape.reddit # setting variable i can work with here\n"
   ]
  },
  {
   "cell_type": "code",
   "execution_count": 4,
   "metadata": {
    "scrolled": true
   },
   "outputs": [
    {
     "name": "stdout",
     "output_type": "stream",
     "text": [
      "Success and Disappointment Megathread for the Week of (November 09)\n",
      "Tip - search and apply through the company website, not large job boards.\n",
      "I hate “team bonding” or having to connect with my coworkers. I just want to do my job.\n",
      "Previous employer listed me as “not rehire-able.” Will my job offer most likely get rescinded?\n",
      "Put in 2 weeks notice and can't concentrate on anything\n",
      "I haven’t had an interview this bad in a while\n",
      "Dear companies that require pre-recorded interviews and assessments.\n",
      "Quick Rant: Poor but forced relationships with managers\n",
      "Recruiter told me I did well in my final interview but yet to offer me the job\n",
      "Do companies ever take less experienced candidates so that they can pay them less?\n"
     ]
    }
   ],
   "source": [
    "hot_posts = reddit.subreddit('Jobs').hot(limit=10)\n",
    "for post in hot_posts:\n",
    "    print(post.title)"
   ]
  },
  {
   "cell_type": "code",
   "execution_count": 5,
   "metadata": {},
   "outputs": [
    {
     "name": "stdout",
     "output_type": "stream",
     "text": [
      "Guardians of the Front Page\n",
      "Thanks, Obama.\n",
      "Take your time, you got this\n",
      "Blizzard Employees Staged a Walkout After the Company Banned a Gamer for Pro-Hong Kong Views\n",
      "This is Shelia Fredrick, a flight attendant. She noticed a terrified girl accompanied by an older man. She left a note in the bathroom on which the victim wrote that she needed help. The police was alerted & the girl was saved from a human trafficker. We should honor our heroes.\n",
      "DEMOCRACY NOW\n",
      "I got a cease and desist for making the Crocs Gloves\n",
      "Printers\n",
      "I drew all the boys together and i did it for the internet\n",
      "1 dad reflex 2 children\n"
     ]
    }
   ],
   "source": [
    "hot_posts = reddit.subreddit('all').top(limit=10)\n",
    "for post in hot_posts:\n",
    "    print(post.title)"
   ]
  },
  {
   "cell_type": "code",
   "execution_count": 6,
   "metadata": {},
   "outputs": [
    {
     "name": "stdout",
     "output_type": "stream",
     "text": [
      "                                                 title  score      id  \\\n",
      "0    So real talk. Why are so may $30k to $40k per ...  12261  9u3fww   \n",
      "1    I'm an ex-recruiter for some of the top compan...   7259  7y8k6p   \n",
      "2                            A Warning About Glassdoor   5477  jbod57   \n",
      "3    America is not lacking in skilled employees, A...   3729  jo6lc7   \n",
      "4    UPDATE 3: I have slipped through the cracks at...   3572  3jjs1n   \n",
      "..                                                 ...    ...     ...   \n",
      "995  So happy I can cry... Left a terrible terrible...    243  1r13l0   \n",
      "996             I quit my job during a global pandemic    244  je1df9   \n",
      "997                                       i got a job!    242  ipekim   \n",
      "998                           Constantly getting fired    245  cfl0nl   \n",
      "999                     Jobs where you can work alone?    248  bd6gpg   \n",
      "\n",
      "    subreddit                                                url  \\\n",
      "0        jobs  https://www.reddit.com/r/jobs/comments/9u3fww/...   \n",
      "1        jobs  https://www.reddit.com/r/jobs/comments/7y8k6p/...   \n",
      "2        jobs  https://www.reddit.com/r/jobs/comments/jbod57/...   \n",
      "3        jobs  https://www.reddit.com/r/jobs/comments/jo6lc7/...   \n",
      "4        jobs  https://www.reddit.com/r/jobs/comments/3jjs1n/...   \n",
      "..        ...                                                ...   \n",
      "995      jobs  https://www.reddit.com/r/jobs/comments/1r13l0/...   \n",
      "996      jobs  https://www.reddit.com/r/jobs/comments/je1df9/...   \n",
      "997      jobs  https://www.reddit.com/r/jobs/comments/ipekim/...   \n",
      "998      jobs  https://www.reddit.com/r/jobs/comments/cfl0nl/...   \n",
      "999      jobs  https://www.reddit.com/r/jobs/comments/bd6gpg/...   \n",
      "\n",
      "     num_comments                                               body  \\\n",
      "0            3980  It just seems odd that when I go on job boards...   \n",
      "1             689  **April 5, 2020 edit:** I've been getting more...   \n",
      "2             470  **EDIT**: A little info from Glassdoor that I ...   \n",
      "3             354  If every entry level job requires a year exper...   \n",
      "4            1264  Link to my original post: https://www.reddit.c...   \n",
      "..            ...                                                ...   \n",
      "995            59  This year has been really rough for me - I had...   \n",
      "996           124  I finally did it!\\n\\nI am a 24F and this is my...   \n",
      "997            40  last year i worked as a santa photographer dur...   \n",
      "998            78  Hello, in the recent year i changed plenty of ...   \n",
      "999           145  So, I'm pretty fed up with my co-workers and m...   \n",
      "\n",
      "          created  \n",
      "0    1.541368e+09  \n",
      "1    1.518923e+09  \n",
      "2    1.602800e+09  \n",
      "3    1.604558e+09  \n",
      "4    1.441350e+09  \n",
      "..            ...  \n",
      "995  1.384944e+09  \n",
      "996  1.603142e+09  \n",
      "997  1.599682e+09  \n",
      "998  1.563653e+09  \n",
      "999  1.555299e+09  \n",
      "\n",
      "[1000 rows x 8 columns]\n"
     ]
    }
   ],
   "source": [
    "posts = []\n",
    "jobs_subreddit = reddit.subreddit('Jobs')\n",
    "for post in jobs_subreddit.top(limit=1000):\n",
    "    posts.append([post.title, post.score, post.id, post.subreddit, post.url, post.num_comments, post.selftext, post.created])\n",
    "posts = pd.DataFrame(posts,columns=['title', 'score', 'id', 'subreddit', 'url', 'num_comments', 'body', 'created'])\n",
    "print(posts)\n",
    "\n"
   ]
  }
 ],
 "metadata": {
  "kernelspec": {
   "display_name": "Python 3",
   "language": "python",
   "name": "python3"
  },
  "language_info": {
   "codemirror_mode": {
    "name": "ipython",
    "version": 3
   },
   "file_extension": ".py",
   "mimetype": "text/x-python",
   "name": "python",
   "nbconvert_exporter": "python",
   "pygments_lexer": "ipython3",
   "version": "3.8.3"
  }
 },
 "nbformat": 4,
 "nbformat_minor": 4
}
